{
 "cells": [
  {
   "attachments": {},
   "cell_type": "markdown",
   "id": "c532686b",
   "metadata": {},
   "source": [
    "# <h1><center><div class=\"alert alert-block alert-success\">Hotel Churn Project - Initial Data Exploration</div></center></h1><img align='right' width='120' height='150' src='https://maiseducativa.com/wp-content/uploads/2015/02/Logo_Nova-IMS.jpg'> \n",
    "<a class=\"anchor\" id=\"2nd-bullet\">    </a>\n",
    "## <font color='darkseagreen'> **Machine Learning Operations**</font>\n",
    "##  Group K\n",
    "- **José Ramirez Fernandes** - 20220641\n",
    "- **Pedro Ferreira** - 20220589\n",
    "- **Ricardo Montenegro Dona** - 20221359 \n",
    "- **Adriana Monteiro** - 20220604\n",
    "- **Quintino Fernandes** - 20220634"
   ]
  },
  {
   "attachments": {},
   "cell_type": "markdown",
   "id": "f8832288",
   "metadata": {},
   "source": [
    "# Table of Contents\n",
    "\n",
    "- [1. Metadata](#metadata)\n",
    "- [2. Initial Treatment](#initial-treatment)\n",
    "    - [2.1. Import Libraries](#import-libraries)\n",
    "    - [2.2. Import dataset](#extract-data-and-join-datasets)\n",
    "- [3. Data Exploration](#data-exploration)\n",
    "    - [3.1. General Exploration](#general-exploration)\n",
    "    - [3.2. Categorical Features](#categorical-features)\n",
    "    - [3.3. Numerical Features](#numerical-features)\n",
    "    - [3.4. Feature Analysis](#features-analysis)\n",
    "        - [3.4.1. Is Canceled](#is-canceled)\n",
    "        - [3.4.2. Agent](#agent)\n",
    "        - [3.4.3. Average Daily Rate](#average-daily-rate)\n",
    "        - [3.4.4. Company](#company)\n",
    "        - [3.4.5. Country](#country)"
   ]
  },
  {
   "attachments": {},
   "cell_type": "markdown",
   "id": "3923c086",
   "metadata": {},
   "source": [
    "# 1. Metadata<a class=\"anchor\" id=\"metadata\"></a>\n",
    "\n",
    "- ADR: Average Daily Rate,\n",
    "- Adults: Number of adults\n",
    "- Agent: ID of the travel agency that made the booking\n",
    "- ArrivalDateDayOfMonth: Day of the month of the arrival date\n",
    "- ArrivalDateMonth: Month of arrival date with 12 categories: “January” to “December”\n",
    "- ArrivalDateWeekNumber: Week number of the arrival date\n",
    "- ArrivalDateYear: Year of the arrival date\n",
    "- AssignedRoomType: Code for the type of room assigned to the booking. Sometimes the assigned room type differs from the reserved room type due to hotel operation reasons (e.g. overbooking) or by customer request. Code is presented instead of designation for anonymity reasons\n",
    "- Babies: Number of babies\n",
    "- BookingChanges: Number of changes/amendments made to the booking from the moment the booking was entered on the PMS until the moment of check-in or cancellation\n",
    "- Children: Number of children\n",
    "- Company: ID of the company/entity that made the booking or is responsible for paying the booking. ID is presented instead of designation for anonymity reasons\n",
    "- Country: Country of origin. Categories are represented in the ISO 3155-3:2013 format\n",
    "- CustomerType: Type of booking, assuming one of four categories:\n",
    "    - Contract - when the booking has an allotment or other type of contract associated to it;\n",
    "    - Group – when the booking is associated to a group;\n",
    "    - Transient – when the booking is not part of a group or contract, and is not associated to other transient booking;\n",
    "    - Transient-party – when the booking is transient, but is associated to at least other transient booking\n",
    "- DaysInWaitingList: Number of days the booking was in the waiting list before it was confirmed to the customer\n",
    "- DepositType: Indication if the customer made a deposit to guarantee the booking. This variable can assume three categories:\n",
    "    - No Deposit – no deposit was made;\n",
    "    - Non Refund – a deposit was made in the value of the total stay cost;\n",
    "    - Refundable – a deposit was made with a value under the total cost of the stay.\n",
    "- DistributionChannel: Booking distribution channel. The term “TA” means “Travel Agents” and “TO” means “Tour Operators”\n",
    "    - TA/TO\n",
    "    - Corporate\n",
    "    - Direct\n",
    "    - GDS\n",
    "    - Undefined \n",
    "- IsCanceled: Value indicating if the booking was:\n",
    "    - canceled (1)\n",
    "    - or not (0)\n",
    "- IsRepeatedGuest: Value indicating if the booking name was from a\n",
    "    - repeated guest (1)\n",
    "    - or not (0)\n",
    "- LeadTime: Number of days that elapsed between the entering date of the booking into the PMS and the arrival date\n",
    "- MarketSegment: Market segment designation. In categories, the term “TA” means “Travel Agents” and “TO” means “Tour Operators”\n",
    "    - Offline TA/TO\n",
    "    - Online TA\n",
    "    - Groups\n",
    "    - Complementary\n",
    "    - Direct\n",
    "    - Corporate\n",
    "    - Undefined\n",
    "    - Aviation\n",
    "- Meal: Type of meal booked. Categories are presented in standard hospitality meal packages:\n",
    "    - Undefined/SC – no meal package;\n",
    "    - BB – Bed & Breakfast;\n",
    "    - HB – Half board (breakfast and one other meal – usually dinner);\n",
    "    - FB – Full board (breakfast, lunch and dinner)\n",
    "- PreviousBookingsNotCanceled: Number of previous bookings not cancelled by the customer prior to the current booking\n",
    "- PreviousCancellations: Number of previous bookings that were cancelled by the customer prior to the current booking\n",
    "- RequiredCarParkingSpaces: Number of car parking spaces required by the customer\n",
    "- ReservationStatus: Reservation last status, assuming one of three categories:\n",
    "    - Canceled – booking was canceled by the customer;\n",
    "    - Check-Out – customer has checked in but already departed;\n",
    "    - No-Show – customer did not check-in and did inform the hotel of the reason why;\n",
    "- ReservationStatusDate: Date at which the last status was set. This variable can be used in conjunction with the ReservationStatus to understand when was the booking canceled or when did the customer checked-out of the hotel\n",
    "- ReservationStatusDate: Date at which the last status was set. This variable can be used in conjunction with the ReservationStatus to understand when was the booking canceled or when did the customer checked-out of the hotel\n",
    "- ReservedRoomType: Code of room type reserved. Code is presented instead of designation for anonymity reasons\n",
    "- StaysInWeekendNights: Number of weekend nights (Saturday or Sunday) the guest stayed or booked to stay at the hotel\n",
    "- StaysInWeekNights: Number of weeknights (Monday to Friday) the guest stayed or booked to stay at the hotel\n",
    "- TotalOfSpecialRequests: Number of special requests made by the customer (e.g. twin bed or high floor)\n"
   ]
  },
  {
   "attachments": {},
   "cell_type": "markdown",
   "id": "2554cee1",
   "metadata": {},
   "source": [
    "# 2. Initial Setup<a class=\"anchor\" id=\"initial-treatment\"></a>"
   ]
  },
  {
   "attachments": {},
   "cell_type": "markdown",
   "id": "7802aa69",
   "metadata": {},
   "source": [
    "## 2.1. Import Libraries<a class=\"anchor\" id=\"import-libraries\"></a>"
   ]
  },
  {
   "cell_type": "code",
   "execution_count": 1,
   "id": "7d92905a",
   "metadata": {},
   "outputs": [],
   "source": [
    "#General\n",
    "#!pip install pandas\n",
    "#!pip install numpy\n",
    "#!pip install seaborn\n",
    "#!pip install matplotlib\n",
    "#!pip install folium\n",
    "#!pip install plotly"
   ]
  },
  {
   "cell_type": "code",
   "execution_count": 2,
   "id": "61e6ad25",
   "metadata": {},
   "outputs": [
    {
     "name": "stderr",
     "output_type": "stream",
     "text": [
      "c:\\Users\\yugip\\AppData\\Local\\Programs\\Python\\Python39\\lib\\site-packages\\requests\\__init__.py:102: RequestsDependencyWarning: urllib3 (1.26.8) or chardet (5.1.0)/charset_normalizer (2.0.10) doesn't match a supported version!\n",
      "  warnings.warn(\"urllib3 ({}) or chardet ({})/charset_normalizer ({}) doesn't match a supported \"\n"
     ]
    }
   ],
   "source": [
    "# General\n",
    "import pandas as pd \n",
    "import numpy as np\n",
    "import seaborn as sns\n",
    "import matplotlib\n",
    "matplotlib.use('svg')\n",
    "import matplotlib.pyplot as plt\n",
    "import pkg_resources\n",
    "import plotly.graph_objects as go\n",
    "import datetime\n",
    "import plotly.express as px\n",
    "import folium\n",
    "\n",
    "import warnings\n",
    "warnings.filterwarnings('ignore')\n",
    "\n",
    "# Define notebook color\n",
    "pastel_colors = sns.color_palette(\"pastel\")\n",
    "sns.set_palette(pastel_colors)\n",
    "%matplotlib inline"
   ]
  },
  {
   "cell_type": "code",
   "execution_count": 3,
   "id": "a54887f0",
   "metadata": {},
   "outputs": [
    {
     "name": "stdout",
     "output_type": "stream",
     "text": [
      "pandas: 1.5.3\n",
      "numpy: 1.22.2\n",
      "seaborn: 0.11.2\n",
      "matplotlib: 3.5.1\n",
      "datetime: Not installed\n",
      "holidays: 0.23\n",
      "plotly: 5.14.1\n"
     ]
    }
   ],
   "source": [
    "libraries = [\n",
    "    'pandas',\n",
    "    'numpy',\n",
    "    'seaborn',\n",
    "    'matplotlib',\n",
    "    'datetime',\n",
    "    'holidays',\n",
    "    'plotly'\n",
    "]\n",
    "\n",
    "\n",
    "# Check Library Versions\n",
    "for library in libraries:\n",
    "    try:\n",
    "        version = pkg_resources.get_distribution(library).version\n",
    "        print(f\"{library}: {version}\")\n",
    "    except pkg_resources.DistributionNotFound:\n",
    "        print(f\"{library}: Not installed\")\n"
   ]
  },
  {
   "attachments": {},
   "cell_type": "markdown",
   "id": "bd243b73",
   "metadata": {},
   "source": [
    "## 2.2. Import Dataset <a class=\"anchor\" id=\"extract-data-and-join-datasets\"></a>"
   ]
  },
  {
   "cell_type": "code",
   "execution_count": 4,
   "id": "dd9f4b69",
   "metadata": {},
   "outputs": [],
   "source": [
    "# Import dataset\n",
    "df = pd.read_csv(\"Case4_H2.csv\")"
   ]
  },
  {
   "attachments": {},
   "cell_type": "markdown",
   "id": "b61031ba",
   "metadata": {},
   "source": [
    "# 3. Data Exploration<a class=\"anchor\" id=\"data-exploration\"></a>"
   ]
  },
  {
   "attachments": {},
   "cell_type": "markdown",
   "id": "9a4173bc",
   "metadata": {},
   "source": [
    "## 3.1. General Exploration<a class=\"anchor\" id=\"general-exploration\"></a>"
   ]
  },
  {
   "cell_type": "code",
   "execution_count": 5,
   "id": "a447d451",
   "metadata": {},
   "outputs": [
    {
     "data": {
      "text/html": [
       "<div>\n",
       "<style scoped>\n",
       "    .dataframe tbody tr th:only-of-type {\n",
       "        vertical-align: middle;\n",
       "    }\n",
       "\n",
       "    .dataframe tbody tr th {\n",
       "        vertical-align: top;\n",
       "    }\n",
       "\n",
       "    .dataframe thead th {\n",
       "        text-align: right;\n",
       "    }\n",
       "</style>\n",
       "<table border=\"1\" class=\"dataframe\">\n",
       "  <thead>\n",
       "    <tr style=\"text-align: right;\">\n",
       "      <th></th>\n",
       "      <th>0</th>\n",
       "      <th>1</th>\n",
       "      <th>2</th>\n",
       "      <th>3</th>\n",
       "      <th>4</th>\n",
       "      <th>5</th>\n",
       "      <th>6</th>\n",
       "      <th>7</th>\n",
       "      <th>8</th>\n",
       "      <th>9</th>\n",
       "      <th>...</th>\n",
       "      <th>79320</th>\n",
       "      <th>79321</th>\n",
       "      <th>79322</th>\n",
       "      <th>79323</th>\n",
       "      <th>79324</th>\n",
       "      <th>79325</th>\n",
       "      <th>79326</th>\n",
       "      <th>79327</th>\n",
       "      <th>79328</th>\n",
       "      <th>79329</th>\n",
       "    </tr>\n",
       "  </thead>\n",
       "  <tbody>\n",
       "    <tr>\n",
       "      <th>IsCanceled</th>\n",
       "      <td>0</td>\n",
       "      <td>1</td>\n",
       "      <td>1</td>\n",
       "      <td>1</td>\n",
       "      <td>1</td>\n",
       "      <td>1</td>\n",
       "      <td>0</td>\n",
       "      <td>1</td>\n",
       "      <td>1</td>\n",
       "      <td>1</td>\n",
       "      <td>...</td>\n",
       "      <td>0</td>\n",
       "      <td>0</td>\n",
       "      <td>0</td>\n",
       "      <td>0</td>\n",
       "      <td>0</td>\n",
       "      <td>0</td>\n",
       "      <td>0</td>\n",
       "      <td>0</td>\n",
       "      <td>0</td>\n",
       "      <td>0</td>\n",
       "    </tr>\n",
       "    <tr>\n",
       "      <th>LeadTime</th>\n",
       "      <td>6</td>\n",
       "      <td>88</td>\n",
       "      <td>65</td>\n",
       "      <td>92</td>\n",
       "      <td>100</td>\n",
       "      <td>79</td>\n",
       "      <td>3</td>\n",
       "      <td>63</td>\n",
       "      <td>62</td>\n",
       "      <td>62</td>\n",
       "      <td>...</td>\n",
       "      <td>44</td>\n",
       "      <td>188</td>\n",
       "      <td>135</td>\n",
       "      <td>164</td>\n",
       "      <td>21</td>\n",
       "      <td>23</td>\n",
       "      <td>102</td>\n",
       "      <td>34</td>\n",
       "      <td>109</td>\n",
       "      <td>205</td>\n",
       "    </tr>\n",
       "    <tr>\n",
       "      <th>ArrivalDateYear</th>\n",
       "      <td>2015</td>\n",
       "      <td>2015</td>\n",
       "      <td>2015</td>\n",
       "      <td>2015</td>\n",
       "      <td>2015</td>\n",
       "      <td>2015</td>\n",
       "      <td>2015</td>\n",
       "      <td>2015</td>\n",
       "      <td>2015</td>\n",
       "      <td>2015</td>\n",
       "      <td>...</td>\n",
       "      <td>2017</td>\n",
       "      <td>2017</td>\n",
       "      <td>2017</td>\n",
       "      <td>2017</td>\n",
       "      <td>2017</td>\n",
       "      <td>2017</td>\n",
       "      <td>2017</td>\n",
       "      <td>2017</td>\n",
       "      <td>2017</td>\n",
       "      <td>2017</td>\n",
       "    </tr>\n",
       "    <tr>\n",
       "      <th>ArrivalDateMonth</th>\n",
       "      <td>July</td>\n",
       "      <td>July</td>\n",
       "      <td>July</td>\n",
       "      <td>July</td>\n",
       "      <td>July</td>\n",
       "      <td>July</td>\n",
       "      <td>July</td>\n",
       "      <td>July</td>\n",
       "      <td>July</td>\n",
       "      <td>July</td>\n",
       "      <td>...</td>\n",
       "      <td>August</td>\n",
       "      <td>August</td>\n",
       "      <td>August</td>\n",
       "      <td>August</td>\n",
       "      <td>August</td>\n",
       "      <td>August</td>\n",
       "      <td>August</td>\n",
       "      <td>August</td>\n",
       "      <td>August</td>\n",
       "      <td>August</td>\n",
       "    </tr>\n",
       "    <tr>\n",
       "      <th>ArrivalDateWeekNumber</th>\n",
       "      <td>27</td>\n",
       "      <td>27</td>\n",
       "      <td>27</td>\n",
       "      <td>27</td>\n",
       "      <td>27</td>\n",
       "      <td>27</td>\n",
       "      <td>27</td>\n",
       "      <td>27</td>\n",
       "      <td>27</td>\n",
       "      <td>27</td>\n",
       "      <td>...</td>\n",
       "      <td>35</td>\n",
       "      <td>35</td>\n",
       "      <td>35</td>\n",
       "      <td>35</td>\n",
       "      <td>35</td>\n",
       "      <td>35</td>\n",
       "      <td>35</td>\n",
       "      <td>35</td>\n",
       "      <td>35</td>\n",
       "      <td>35</td>\n",
       "    </tr>\n",
       "    <tr>\n",
       "      <th>ArrivalDateDayOfMonth</th>\n",
       "      <td>1</td>\n",
       "      <td>1</td>\n",
       "      <td>1</td>\n",
       "      <td>1</td>\n",
       "      <td>2</td>\n",
       "      <td>2</td>\n",
       "      <td>2</td>\n",
       "      <td>2</td>\n",
       "      <td>2</td>\n",
       "      <td>2</td>\n",
       "      <td>...</td>\n",
       "      <td>31</td>\n",
       "      <td>31</td>\n",
       "      <td>30</td>\n",
       "      <td>31</td>\n",
       "      <td>30</td>\n",
       "      <td>30</td>\n",
       "      <td>31</td>\n",
       "      <td>31</td>\n",
       "      <td>31</td>\n",
       "      <td>29</td>\n",
       "    </tr>\n",
       "    <tr>\n",
       "      <th>StaysInWeekendNights</th>\n",
       "      <td>0</td>\n",
       "      <td>0</td>\n",
       "      <td>0</td>\n",
       "      <td>2</td>\n",
       "      <td>0</td>\n",
       "      <td>0</td>\n",
       "      <td>0</td>\n",
       "      <td>1</td>\n",
       "      <td>2</td>\n",
       "      <td>2</td>\n",
       "      <td>...</td>\n",
       "      <td>1</td>\n",
       "      <td>2</td>\n",
       "      <td>2</td>\n",
       "      <td>2</td>\n",
       "      <td>2</td>\n",
       "      <td>2</td>\n",
       "      <td>2</td>\n",
       "      <td>2</td>\n",
       "      <td>2</td>\n",
       "      <td>2</td>\n",
       "    </tr>\n",
       "    <tr>\n",
       "      <th>StaysInWeekNights</th>\n",
       "      <td>2</td>\n",
       "      <td>4</td>\n",
       "      <td>4</td>\n",
       "      <td>4</td>\n",
       "      <td>2</td>\n",
       "      <td>3</td>\n",
       "      <td>3</td>\n",
       "      <td>3</td>\n",
       "      <td>3</td>\n",
       "      <td>3</td>\n",
       "      <td>...</td>\n",
       "      <td>3</td>\n",
       "      <td>3</td>\n",
       "      <td>4</td>\n",
       "      <td>4</td>\n",
       "      <td>5</td>\n",
       "      <td>5</td>\n",
       "      <td>5</td>\n",
       "      <td>5</td>\n",
       "      <td>5</td>\n",
       "      <td>7</td>\n",
       "    </tr>\n",
       "    <tr>\n",
       "      <th>Adults</th>\n",
       "      <td>1</td>\n",
       "      <td>2</td>\n",
       "      <td>1</td>\n",
       "      <td>2</td>\n",
       "      <td>2</td>\n",
       "      <td>2</td>\n",
       "      <td>1</td>\n",
       "      <td>1</td>\n",
       "      <td>2</td>\n",
       "      <td>2</td>\n",
       "      <td>...</td>\n",
       "      <td>2</td>\n",
       "      <td>2</td>\n",
       "      <td>3</td>\n",
       "      <td>2</td>\n",
       "      <td>2</td>\n",
       "      <td>2</td>\n",
       "      <td>3</td>\n",
       "      <td>2</td>\n",
       "      <td>2</td>\n",
       "      <td>2</td>\n",
       "    </tr>\n",
       "    <tr>\n",
       "      <th>Children</th>\n",
       "      <td>0.0</td>\n",
       "      <td>0.0</td>\n",
       "      <td>0.0</td>\n",
       "      <td>0.0</td>\n",
       "      <td>0.0</td>\n",
       "      <td>0.0</td>\n",
       "      <td>0.0</td>\n",
       "      <td>0.0</td>\n",
       "      <td>0.0</td>\n",
       "      <td>0.0</td>\n",
       "      <td>...</td>\n",
       "      <td>0.0</td>\n",
       "      <td>0.0</td>\n",
       "      <td>0.0</td>\n",
       "      <td>0.0</td>\n",
       "      <td>0.0</td>\n",
       "      <td>0.0</td>\n",
       "      <td>0.0</td>\n",
       "      <td>0.0</td>\n",
       "      <td>0.0</td>\n",
       "      <td>0.0</td>\n",
       "    </tr>\n",
       "    <tr>\n",
       "      <th>Babies</th>\n",
       "      <td>0</td>\n",
       "      <td>0</td>\n",
       "      <td>0</td>\n",
       "      <td>0</td>\n",
       "      <td>0</td>\n",
       "      <td>0</td>\n",
       "      <td>0</td>\n",
       "      <td>0</td>\n",
       "      <td>0</td>\n",
       "      <td>0</td>\n",
       "      <td>...</td>\n",
       "      <td>0</td>\n",
       "      <td>0</td>\n",
       "      <td>0</td>\n",
       "      <td>0</td>\n",
       "      <td>0</td>\n",
       "      <td>0</td>\n",
       "      <td>0</td>\n",
       "      <td>0</td>\n",
       "      <td>0</td>\n",
       "      <td>0</td>\n",
       "    </tr>\n",
       "    <tr>\n",
       "      <th>Meal</th>\n",
       "      <td>HB</td>\n",
       "      <td>BB</td>\n",
       "      <td>BB</td>\n",
       "      <td>BB</td>\n",
       "      <td>BB</td>\n",
       "      <td>BB</td>\n",
       "      <td>HB</td>\n",
       "      <td>BB</td>\n",
       "      <td>BB</td>\n",
       "      <td>BB</td>\n",
       "      <td>...</td>\n",
       "      <td>SC</td>\n",
       "      <td>BB</td>\n",
       "      <td>BB</td>\n",
       "      <td>BB</td>\n",
       "      <td>BB</td>\n",
       "      <td>BB</td>\n",
       "      <td>BB</td>\n",
       "      <td>BB</td>\n",
       "      <td>BB</td>\n",
       "      <td>HB</td>\n",
       "    </tr>\n",
       "    <tr>\n",
       "      <th>Country</th>\n",
       "      <td>PRT</td>\n",
       "      <td>PRT</td>\n",
       "      <td>PRT</td>\n",
       "      <td>PRT</td>\n",
       "      <td>PRT</td>\n",
       "      <td>PRT</td>\n",
       "      <td>PRT</td>\n",
       "      <td>PRT</td>\n",
       "      <td>PRT</td>\n",
       "      <td>PRT</td>\n",
       "      <td>...</td>\n",
       "      <td>DEU</td>\n",
       "      <td>DEU</td>\n",
       "      <td>JPN</td>\n",
       "      <td>DEU</td>\n",
       "      <td>BEL</td>\n",
       "      <td>BEL</td>\n",
       "      <td>FRA</td>\n",
       "      <td>DEU</td>\n",
       "      <td>GBR</td>\n",
       "      <td>DEU</td>\n",
       "    </tr>\n",
       "    <tr>\n",
       "      <th>MarketSegment</th>\n",
       "      <td>Offline TA/TO</td>\n",
       "      <td>Online TA</td>\n",
       "      <td>Online TA</td>\n",
       "      <td>Online TA</td>\n",
       "      <td>Online TA</td>\n",
       "      <td>Online TA</td>\n",
       "      <td>Groups</td>\n",
       "      <td>Online TA</td>\n",
       "      <td>Online TA</td>\n",
       "      <td>Online TA</td>\n",
       "      <td>...</td>\n",
       "      <td>Online TA</td>\n",
       "      <td>Direct</td>\n",
       "      <td>Online TA</td>\n",
       "      <td>Offline TA/TO</td>\n",
       "      <td>Offline TA/TO</td>\n",
       "      <td>Offline TA/TO</td>\n",
       "      <td>Online TA</td>\n",
       "      <td>Online TA</td>\n",
       "      <td>Online TA</td>\n",
       "      <td>Online TA</td>\n",
       "    </tr>\n",
       "    <tr>\n",
       "      <th>DistributionChannel</th>\n",
       "      <td>TA/TO</td>\n",
       "      <td>TA/TO</td>\n",
       "      <td>TA/TO</td>\n",
       "      <td>TA/TO</td>\n",
       "      <td>TA/TO</td>\n",
       "      <td>TA/TO</td>\n",
       "      <td>TA/TO</td>\n",
       "      <td>TA/TO</td>\n",
       "      <td>TA/TO</td>\n",
       "      <td>TA/TO</td>\n",
       "      <td>...</td>\n",
       "      <td>TA/TO</td>\n",
       "      <td>Direct</td>\n",
       "      <td>TA/TO</td>\n",
       "      <td>TA/TO</td>\n",
       "      <td>TA/TO</td>\n",
       "      <td>TA/TO</td>\n",
       "      <td>TA/TO</td>\n",
       "      <td>TA/TO</td>\n",
       "      <td>TA/TO</td>\n",
       "      <td>TA/TO</td>\n",
       "    </tr>\n",
       "    <tr>\n",
       "      <th>IsRepeatedGuest</th>\n",
       "      <td>0</td>\n",
       "      <td>0</td>\n",
       "      <td>0</td>\n",
       "      <td>0</td>\n",
       "      <td>0</td>\n",
       "      <td>0</td>\n",
       "      <td>0</td>\n",
       "      <td>0</td>\n",
       "      <td>0</td>\n",
       "      <td>0</td>\n",
       "      <td>...</td>\n",
       "      <td>0</td>\n",
       "      <td>0</td>\n",
       "      <td>0</td>\n",
       "      <td>0</td>\n",
       "      <td>0</td>\n",
       "      <td>0</td>\n",
       "      <td>0</td>\n",
       "      <td>0</td>\n",
       "      <td>0</td>\n",
       "      <td>0</td>\n",
       "    </tr>\n",
       "    <tr>\n",
       "      <th>PreviousCancellations</th>\n",
       "      <td>0</td>\n",
       "      <td>0</td>\n",
       "      <td>0</td>\n",
       "      <td>0</td>\n",
       "      <td>0</td>\n",
       "      <td>0</td>\n",
       "      <td>0</td>\n",
       "      <td>0</td>\n",
       "      <td>0</td>\n",
       "      <td>0</td>\n",
       "      <td>...</td>\n",
       "      <td>0</td>\n",
       "      <td>0</td>\n",
       "      <td>0</td>\n",
       "      <td>0</td>\n",
       "      <td>0</td>\n",
       "      <td>0</td>\n",
       "      <td>0</td>\n",
       "      <td>0</td>\n",
       "      <td>0</td>\n",
       "      <td>0</td>\n",
       "    </tr>\n",
       "    <tr>\n",
       "      <th>PreviousBookingsNotCanceled</th>\n",
       "      <td>0</td>\n",
       "      <td>0</td>\n",
       "      <td>0</td>\n",
       "      <td>0</td>\n",
       "      <td>0</td>\n",
       "      <td>0</td>\n",
       "      <td>0</td>\n",
       "      <td>0</td>\n",
       "      <td>0</td>\n",
       "      <td>0</td>\n",
       "      <td>...</td>\n",
       "      <td>0</td>\n",
       "      <td>0</td>\n",
       "      <td>0</td>\n",
       "      <td>0</td>\n",
       "      <td>0</td>\n",
       "      <td>0</td>\n",
       "      <td>0</td>\n",
       "      <td>0</td>\n",
       "      <td>0</td>\n",
       "      <td>0</td>\n",
       "    </tr>\n",
       "    <tr>\n",
       "      <th>ReservedRoomType</th>\n",
       "      <td>A</td>\n",
       "      <td>A</td>\n",
       "      <td>A</td>\n",
       "      <td>A</td>\n",
       "      <td>A</td>\n",
       "      <td>A</td>\n",
       "      <td>A</td>\n",
       "      <td>A</td>\n",
       "      <td>A</td>\n",
       "      <td>A</td>\n",
       "      <td>...</td>\n",
       "      <td>A</td>\n",
       "      <td>A</td>\n",
       "      <td>G</td>\n",
       "      <td>A</td>\n",
       "      <td>A</td>\n",
       "      <td>A</td>\n",
       "      <td>E</td>\n",
       "      <td>D</td>\n",
       "      <td>A</td>\n",
       "      <td>A</td>\n",
       "    </tr>\n",
       "    <tr>\n",
       "      <th>AssignedRoomType</th>\n",
       "      <td>A</td>\n",
       "      <td>A</td>\n",
       "      <td>A</td>\n",
       "      <td>A</td>\n",
       "      <td>A</td>\n",
       "      <td>A</td>\n",
       "      <td>A</td>\n",
       "      <td>A</td>\n",
       "      <td>A</td>\n",
       "      <td>A</td>\n",
       "      <td>...</td>\n",
       "      <td>A</td>\n",
       "      <td>A</td>\n",
       "      <td>G</td>\n",
       "      <td>A</td>\n",
       "      <td>A</td>\n",
       "      <td>A</td>\n",
       "      <td>E</td>\n",
       "      <td>D</td>\n",
       "      <td>A</td>\n",
       "      <td>A</td>\n",
       "    </tr>\n",
       "    <tr>\n",
       "      <th>BookingChanges</th>\n",
       "      <td>0</td>\n",
       "      <td>0</td>\n",
       "      <td>0</td>\n",
       "      <td>0</td>\n",
       "      <td>0</td>\n",
       "      <td>0</td>\n",
       "      <td>1</td>\n",
       "      <td>0</td>\n",
       "      <td>0</td>\n",
       "      <td>0</td>\n",
       "      <td>...</td>\n",
       "      <td>0</td>\n",
       "      <td>0</td>\n",
       "      <td>0</td>\n",
       "      <td>0</td>\n",
       "      <td>0</td>\n",
       "      <td>0</td>\n",
       "      <td>0</td>\n",
       "      <td>0</td>\n",
       "      <td>0</td>\n",
       "      <td>0</td>\n",
       "    </tr>\n",
       "    <tr>\n",
       "      <th>DepositType</th>\n",
       "      <td>No Deposit</td>\n",
       "      <td>No Deposit</td>\n",
       "      <td>No Deposit</td>\n",
       "      <td>No Deposit</td>\n",
       "      <td>No Deposit</td>\n",
       "      <td>No Deposit</td>\n",
       "      <td>No Deposit</td>\n",
       "      <td>No Deposit</td>\n",
       "      <td>No Deposit</td>\n",
       "      <td>No Deposit</td>\n",
       "      <td>...</td>\n",
       "      <td>No Deposit</td>\n",
       "      <td>No Deposit</td>\n",
       "      <td>No Deposit</td>\n",
       "      <td>No Deposit</td>\n",
       "      <td>No Deposit</td>\n",
       "      <td>No Deposit</td>\n",
       "      <td>No Deposit</td>\n",
       "      <td>No Deposit</td>\n",
       "      <td>No Deposit</td>\n",
       "      <td>No Deposit</td>\n",
       "    </tr>\n",
       "    <tr>\n",
       "      <th>Agent</th>\n",
       "      <td>6</td>\n",
       "      <td>9</td>\n",
       "      <td>9</td>\n",
       "      <td>9</td>\n",
       "      <td>9</td>\n",
       "      <td>9</td>\n",
       "      <td>1</td>\n",
       "      <td>9</td>\n",
       "      <td>8</td>\n",
       "      <td>8</td>\n",
       "      <td>...</td>\n",
       "      <td>9</td>\n",
       "      <td>14</td>\n",
       "      <td>7</td>\n",
       "      <td>42</td>\n",
       "      <td>394</td>\n",
       "      <td>394</td>\n",
       "      <td>9</td>\n",
       "      <td>9</td>\n",
       "      <td>89</td>\n",
       "      <td>9</td>\n",
       "    </tr>\n",
       "    <tr>\n",
       "      <th>Company</th>\n",
       "      <td>NULL</td>\n",
       "      <td>NULL</td>\n",
       "      <td>NULL</td>\n",
       "      <td>NULL</td>\n",
       "      <td>NULL</td>\n",
       "      <td>NULL</td>\n",
       "      <td>NULL</td>\n",
       "      <td>NULL</td>\n",
       "      <td>NULL</td>\n",
       "      <td>NULL</td>\n",
       "      <td>...</td>\n",
       "      <td>NULL</td>\n",
       "      <td>NULL</td>\n",
       "      <td>NULL</td>\n",
       "      <td>NULL</td>\n",
       "      <td>NULL</td>\n",
       "      <td>NULL</td>\n",
       "      <td>NULL</td>\n",
       "      <td>NULL</td>\n",
       "      <td>NULL</td>\n",
       "      <td>NULL</td>\n",
       "    </tr>\n",
       "    <tr>\n",
       "      <th>DaysInWaitingList</th>\n",
       "      <td>0</td>\n",
       "      <td>0</td>\n",
       "      <td>0</td>\n",
       "      <td>0</td>\n",
       "      <td>0</td>\n",
       "      <td>0</td>\n",
       "      <td>0</td>\n",
       "      <td>0</td>\n",
       "      <td>0</td>\n",
       "      <td>0</td>\n",
       "      <td>...</td>\n",
       "      <td>0</td>\n",
       "      <td>0</td>\n",
       "      <td>0</td>\n",
       "      <td>0</td>\n",
       "      <td>0</td>\n",
       "      <td>0</td>\n",
       "      <td>0</td>\n",
       "      <td>0</td>\n",
       "      <td>0</td>\n",
       "      <td>0</td>\n",
       "    </tr>\n",
       "    <tr>\n",
       "      <th>CustomerType</th>\n",
       "      <td>Transient</td>\n",
       "      <td>Transient</td>\n",
       "      <td>Transient</td>\n",
       "      <td>Transient</td>\n",
       "      <td>Transient</td>\n",
       "      <td>Transient</td>\n",
       "      <td>Transient-Party</td>\n",
       "      <td>Transient</td>\n",
       "      <td>Transient</td>\n",
       "      <td>Transient</td>\n",
       "      <td>...</td>\n",
       "      <td>Transient</td>\n",
       "      <td>Transient</td>\n",
       "      <td>Transient</td>\n",
       "      <td>Transient</td>\n",
       "      <td>Transient</td>\n",
       "      <td>Transient</td>\n",
       "      <td>Transient</td>\n",
       "      <td>Transient</td>\n",
       "      <td>Transient</td>\n",
       "      <td>Transient</td>\n",
       "    </tr>\n",
       "    <tr>\n",
       "      <th>ADR</th>\n",
       "      <td>0.0</td>\n",
       "      <td>76.5</td>\n",
       "      <td>68.0</td>\n",
       "      <td>76.5</td>\n",
       "      <td>76.5</td>\n",
       "      <td>76.5</td>\n",
       "      <td>58.67</td>\n",
       "      <td>68.0</td>\n",
       "      <td>76.5</td>\n",
       "      <td>76.5</td>\n",
       "      <td>...</td>\n",
       "      <td>140.75</td>\n",
       "      <td>99.0</td>\n",
       "      <td>209.0</td>\n",
       "      <td>87.6</td>\n",
       "      <td>96.14</td>\n",
       "      <td>96.14</td>\n",
       "      <td>225.43</td>\n",
       "      <td>157.71</td>\n",
       "      <td>104.4</td>\n",
       "      <td>151.2</td>\n",
       "    </tr>\n",
       "    <tr>\n",
       "      <th>RequiredCarParkingSpaces</th>\n",
       "      <td>0</td>\n",
       "      <td>0</td>\n",
       "      <td>0</td>\n",
       "      <td>0</td>\n",
       "      <td>0</td>\n",
       "      <td>0</td>\n",
       "      <td>0</td>\n",
       "      <td>0</td>\n",
       "      <td>0</td>\n",
       "      <td>0</td>\n",
       "      <td>...</td>\n",
       "      <td>0</td>\n",
       "      <td>0</td>\n",
       "      <td>0</td>\n",
       "      <td>0</td>\n",
       "      <td>0</td>\n",
       "      <td>0</td>\n",
       "      <td>0</td>\n",
       "      <td>0</td>\n",
       "      <td>0</td>\n",
       "      <td>0</td>\n",
       "    </tr>\n",
       "    <tr>\n",
       "      <th>TotalOfSpecialRequests</th>\n",
       "      <td>0</td>\n",
       "      <td>1</td>\n",
       "      <td>1</td>\n",
       "      <td>2</td>\n",
       "      <td>1</td>\n",
       "      <td>1</td>\n",
       "      <td>0</td>\n",
       "      <td>0</td>\n",
       "      <td>1</td>\n",
       "      <td>1</td>\n",
       "      <td>...</td>\n",
       "      <td>1</td>\n",
       "      <td>0</td>\n",
       "      <td>0</td>\n",
       "      <td>0</td>\n",
       "      <td>2</td>\n",
       "      <td>0</td>\n",
       "      <td>2</td>\n",
       "      <td>4</td>\n",
       "      <td>0</td>\n",
       "      <td>2</td>\n",
       "    </tr>\n",
       "    <tr>\n",
       "      <th>ReservationStatus</th>\n",
       "      <td>Check-Out</td>\n",
       "      <td>Canceled</td>\n",
       "      <td>Canceled</td>\n",
       "      <td>Canceled</td>\n",
       "      <td>Canceled</td>\n",
       "      <td>Canceled</td>\n",
       "      <td>Check-Out</td>\n",
       "      <td>Canceled</td>\n",
       "      <td>No-Show</td>\n",
       "      <td>No-Show</td>\n",
       "      <td>...</td>\n",
       "      <td>Check-Out</td>\n",
       "      <td>Check-Out</td>\n",
       "      <td>Check-Out</td>\n",
       "      <td>Check-Out</td>\n",
       "      <td>Check-Out</td>\n",
       "      <td>Check-Out</td>\n",
       "      <td>Check-Out</td>\n",
       "      <td>Check-Out</td>\n",
       "      <td>Check-Out</td>\n",
       "      <td>Check-Out</td>\n",
       "    </tr>\n",
       "    <tr>\n",
       "      <th>ReservationStatusDate</th>\n",
       "      <td>7/3/2015</td>\n",
       "      <td>7/1/2015</td>\n",
       "      <td>4/30/2015</td>\n",
       "      <td>6/23/2015</td>\n",
       "      <td>4/2/2015</td>\n",
       "      <td>6/25/2015</td>\n",
       "      <td>7/5/2015</td>\n",
       "      <td>6/25/2015</td>\n",
       "      <td>7/2/2015</td>\n",
       "      <td>7/2/2015</td>\n",
       "      <td>...</td>\n",
       "      <td>9/4/2017</td>\n",
       "      <td>9/5/2017</td>\n",
       "      <td>9/5/2017</td>\n",
       "      <td>9/6/2017</td>\n",
       "      <td>9/6/2017</td>\n",
       "      <td>9/6/2017</td>\n",
       "      <td>9/7/2017</td>\n",
       "      <td>9/7/2017</td>\n",
       "      <td>9/7/2017</td>\n",
       "      <td>9/7/2017</td>\n",
       "    </tr>\n",
       "  </tbody>\n",
       "</table>\n",
       "<p>31 rows × 79330 columns</p>\n",
       "</div>"
      ],
      "text/plain": [
       "                                        0                 1      \\\n",
       "IsCanceled                                  0                 1   \n",
       "LeadTime                                    6                88   \n",
       "ArrivalDateYear                          2015              2015   \n",
       "ArrivalDateMonth                         July              July   \n",
       "ArrivalDateWeekNumber                      27                27   \n",
       "ArrivalDateDayOfMonth                       1                 1   \n",
       "StaysInWeekendNights                        0                 0   \n",
       "StaysInWeekNights                           2                 4   \n",
       "Adults                                      1                 2   \n",
       "Children                                  0.0               0.0   \n",
       "Babies                                      0                 0   \n",
       "Meal                                HB                BB          \n",
       "Country                                   PRT               PRT   \n",
       "MarketSegment                   Offline TA/TO         Online TA   \n",
       "DistributionChannel                     TA/TO             TA/TO   \n",
       "IsRepeatedGuest                             0                 0   \n",
       "PreviousCancellations                       0                 0   \n",
       "PreviousBookingsNotCanceled                 0                 0   \n",
       "ReservedRoomType             A                 A                  \n",
       "AssignedRoomType             A                 A                  \n",
       "BookingChanges                              0                 0   \n",
       "DepositType                   No Deposit        No Deposit        \n",
       "Agent                                       6                 9   \n",
       "Company                                  NULL              NULL   \n",
       "DaysInWaitingList                           0                 0   \n",
       "CustomerType                        Transient         Transient   \n",
       "ADR                                       0.0              76.5   \n",
       "RequiredCarParkingSpaces                    0                 0   \n",
       "TotalOfSpecialRequests                      0                 1   \n",
       "ReservationStatus                   Check-Out          Canceled   \n",
       "ReservationStatusDate                7/3/2015          7/1/2015   \n",
       "\n",
       "                                        2                 3      \\\n",
       "IsCanceled                                  1                 1   \n",
       "LeadTime                                   65                92   \n",
       "ArrivalDateYear                          2015              2015   \n",
       "ArrivalDateMonth                         July              July   \n",
       "ArrivalDateWeekNumber                      27                27   \n",
       "ArrivalDateDayOfMonth                       1                 1   \n",
       "StaysInWeekendNights                        0                 2   \n",
       "StaysInWeekNights                           4                 4   \n",
       "Adults                                      1                 2   \n",
       "Children                                  0.0               0.0   \n",
       "Babies                                      0                 0   \n",
       "Meal                                BB                BB          \n",
       "Country                                   PRT               PRT   \n",
       "MarketSegment                       Online TA         Online TA   \n",
       "DistributionChannel                     TA/TO             TA/TO   \n",
       "IsRepeatedGuest                             0                 0   \n",
       "PreviousCancellations                       0                 0   \n",
       "PreviousBookingsNotCanceled                 0                 0   \n",
       "ReservedRoomType             A                 A                  \n",
       "AssignedRoomType             A                 A                  \n",
       "BookingChanges                              0                 0   \n",
       "DepositType                   No Deposit        No Deposit        \n",
       "Agent                                       9                 9   \n",
       "Company                                  NULL              NULL   \n",
       "DaysInWaitingList                           0                 0   \n",
       "CustomerType                        Transient         Transient   \n",
       "ADR                                      68.0              76.5   \n",
       "RequiredCarParkingSpaces                    0                 0   \n",
       "TotalOfSpecialRequests                      1                 2   \n",
       "ReservationStatus                    Canceled          Canceled   \n",
       "ReservationStatusDate               4/30/2015         6/23/2015   \n",
       "\n",
       "                                        4                 5      \\\n",
       "IsCanceled                                  1                 1   \n",
       "LeadTime                                  100                79   \n",
       "ArrivalDateYear                          2015              2015   \n",
       "ArrivalDateMonth                         July              July   \n",
       "ArrivalDateWeekNumber                      27                27   \n",
       "ArrivalDateDayOfMonth                       2                 2   \n",
       "StaysInWeekendNights                        0                 0   \n",
       "StaysInWeekNights                           2                 3   \n",
       "Adults                                      2                 2   \n",
       "Children                                  0.0               0.0   \n",
       "Babies                                      0                 0   \n",
       "Meal                                BB                BB          \n",
       "Country                                   PRT               PRT   \n",
       "MarketSegment                       Online TA         Online TA   \n",
       "DistributionChannel                     TA/TO             TA/TO   \n",
       "IsRepeatedGuest                             0                 0   \n",
       "PreviousCancellations                       0                 0   \n",
       "PreviousBookingsNotCanceled                 0                 0   \n",
       "ReservedRoomType             A                 A                  \n",
       "AssignedRoomType             A                 A                  \n",
       "BookingChanges                              0                 0   \n",
       "DepositType                   No Deposit        No Deposit        \n",
       "Agent                                       9                 9   \n",
       "Company                                  NULL              NULL   \n",
       "DaysInWaitingList                           0                 0   \n",
       "CustomerType                        Transient         Transient   \n",
       "ADR                                      76.5              76.5   \n",
       "RequiredCarParkingSpaces                    0                 0   \n",
       "TotalOfSpecialRequests                      1                 1   \n",
       "ReservationStatus                    Canceled          Canceled   \n",
       "ReservationStatusDate                4/2/2015         6/25/2015   \n",
       "\n",
       "                                        6                 7      \\\n",
       "IsCanceled                                  0                 1   \n",
       "LeadTime                                    3                63   \n",
       "ArrivalDateYear                          2015              2015   \n",
       "ArrivalDateMonth                         July              July   \n",
       "ArrivalDateWeekNumber                      27                27   \n",
       "ArrivalDateDayOfMonth                       2                 2   \n",
       "StaysInWeekendNights                        0                 1   \n",
       "StaysInWeekNights                           3                 3   \n",
       "Adults                                      1                 1   \n",
       "Children                                  0.0               0.0   \n",
       "Babies                                      0                 0   \n",
       "Meal                                HB                BB          \n",
       "Country                                   PRT               PRT   \n",
       "MarketSegment                          Groups         Online TA   \n",
       "DistributionChannel                     TA/TO             TA/TO   \n",
       "IsRepeatedGuest                             0                 0   \n",
       "PreviousCancellations                       0                 0   \n",
       "PreviousBookingsNotCanceled                 0                 0   \n",
       "ReservedRoomType             A                 A                  \n",
       "AssignedRoomType             A                 A                  \n",
       "BookingChanges                              1                 0   \n",
       "DepositType                   No Deposit        No Deposit        \n",
       "Agent                                       1                 9   \n",
       "Company                                  NULL              NULL   \n",
       "DaysInWaitingList                           0                 0   \n",
       "CustomerType                  Transient-Party         Transient   \n",
       "ADR                                     58.67              68.0   \n",
       "RequiredCarParkingSpaces                    0                 0   \n",
       "TotalOfSpecialRequests                      0                 0   \n",
       "ReservationStatus                   Check-Out          Canceled   \n",
       "ReservationStatusDate                7/5/2015         6/25/2015   \n",
       "\n",
       "                                        8                 9      ...  \\\n",
       "IsCanceled                                  1                 1  ...   \n",
       "LeadTime                                   62                62  ...   \n",
       "ArrivalDateYear                          2015              2015  ...   \n",
       "ArrivalDateMonth                         July              July  ...   \n",
       "ArrivalDateWeekNumber                      27                27  ...   \n",
       "ArrivalDateDayOfMonth                       2                 2  ...   \n",
       "StaysInWeekendNights                        2                 2  ...   \n",
       "StaysInWeekNights                           3                 3  ...   \n",
       "Adults                                      2                 2  ...   \n",
       "Children                                  0.0               0.0  ...   \n",
       "Babies                                      0                 0  ...   \n",
       "Meal                                BB                BB         ...   \n",
       "Country                                   PRT               PRT  ...   \n",
       "MarketSegment                       Online TA         Online TA  ...   \n",
       "DistributionChannel                     TA/TO             TA/TO  ...   \n",
       "IsRepeatedGuest                             0                 0  ...   \n",
       "PreviousCancellations                       0                 0  ...   \n",
       "PreviousBookingsNotCanceled                 0                 0  ...   \n",
       "ReservedRoomType             A                 A                 ...   \n",
       "AssignedRoomType             A                 A                 ...   \n",
       "BookingChanges                              0                 0  ...   \n",
       "DepositType                   No Deposit        No Deposit       ...   \n",
       "Agent                                       8                 8  ...   \n",
       "Company                                  NULL              NULL  ...   \n",
       "DaysInWaitingList                           0                 0  ...   \n",
       "CustomerType                        Transient         Transient  ...   \n",
       "ADR                                      76.5              76.5  ...   \n",
       "RequiredCarParkingSpaces                    0                 0  ...   \n",
       "TotalOfSpecialRequests                      1                 1  ...   \n",
       "ReservationStatus                     No-Show           No-Show  ...   \n",
       "ReservationStatusDate                7/2/2015          7/2/2015  ...   \n",
       "\n",
       "                                        79320             79321  \\\n",
       "IsCanceled                                  0                 0   \n",
       "LeadTime                                   44               188   \n",
       "ArrivalDateYear                          2017              2017   \n",
       "ArrivalDateMonth                       August            August   \n",
       "ArrivalDateWeekNumber                      35                35   \n",
       "ArrivalDateDayOfMonth                      31                31   \n",
       "StaysInWeekendNights                        1                 2   \n",
       "StaysInWeekNights                           3                 3   \n",
       "Adults                                      2                 2   \n",
       "Children                                  0.0               0.0   \n",
       "Babies                                      0                 0   \n",
       "Meal                                SC                BB          \n",
       "Country                                   DEU               DEU   \n",
       "MarketSegment                       Online TA            Direct   \n",
       "DistributionChannel                     TA/TO            Direct   \n",
       "IsRepeatedGuest                             0                 0   \n",
       "PreviousCancellations                       0                 0   \n",
       "PreviousBookingsNotCanceled                 0                 0   \n",
       "ReservedRoomType             A                 A                  \n",
       "AssignedRoomType             A                 A                  \n",
       "BookingChanges                              0                 0   \n",
       "DepositType                   No Deposit        No Deposit        \n",
       "Agent                                       9                14   \n",
       "Company                                  NULL              NULL   \n",
       "DaysInWaitingList                           0                 0   \n",
       "CustomerType                        Transient         Transient   \n",
       "ADR                                    140.75              99.0   \n",
       "RequiredCarParkingSpaces                    0                 0   \n",
       "TotalOfSpecialRequests                      1                 0   \n",
       "ReservationStatus                   Check-Out         Check-Out   \n",
       "ReservationStatusDate                9/4/2017          9/5/2017   \n",
       "\n",
       "                                        79322             79323  \\\n",
       "IsCanceled                                  0                 0   \n",
       "LeadTime                                  135               164   \n",
       "ArrivalDateYear                          2017              2017   \n",
       "ArrivalDateMonth                       August            August   \n",
       "ArrivalDateWeekNumber                      35                35   \n",
       "ArrivalDateDayOfMonth                      30                31   \n",
       "StaysInWeekendNights                        2                 2   \n",
       "StaysInWeekNights                           4                 4   \n",
       "Adults                                      3                 2   \n",
       "Children                                  0.0               0.0   \n",
       "Babies                                      0                 0   \n",
       "Meal                                BB                BB          \n",
       "Country                                   JPN               DEU   \n",
       "MarketSegment                       Online TA     Offline TA/TO   \n",
       "DistributionChannel                     TA/TO             TA/TO   \n",
       "IsRepeatedGuest                             0                 0   \n",
       "PreviousCancellations                       0                 0   \n",
       "PreviousBookingsNotCanceled                 0                 0   \n",
       "ReservedRoomType             G                 A                  \n",
       "AssignedRoomType             G                 A                  \n",
       "BookingChanges                              0                 0   \n",
       "DepositType                   No Deposit        No Deposit        \n",
       "Agent                                       7                42   \n",
       "Company                                  NULL              NULL   \n",
       "DaysInWaitingList                           0                 0   \n",
       "CustomerType                        Transient         Transient   \n",
       "ADR                                     209.0              87.6   \n",
       "RequiredCarParkingSpaces                    0                 0   \n",
       "TotalOfSpecialRequests                      0                 0   \n",
       "ReservationStatus                   Check-Out         Check-Out   \n",
       "ReservationStatusDate                9/5/2017          9/6/2017   \n",
       "\n",
       "                                        79324             79325  \\\n",
       "IsCanceled                                  0                 0   \n",
       "LeadTime                                   21                23   \n",
       "ArrivalDateYear                          2017              2017   \n",
       "ArrivalDateMonth                       August            August   \n",
       "ArrivalDateWeekNumber                      35                35   \n",
       "ArrivalDateDayOfMonth                      30                30   \n",
       "StaysInWeekendNights                        2                 2   \n",
       "StaysInWeekNights                           5                 5   \n",
       "Adults                                      2                 2   \n",
       "Children                                  0.0               0.0   \n",
       "Babies                                      0                 0   \n",
       "Meal                                BB                BB          \n",
       "Country                                   BEL               BEL   \n",
       "MarketSegment                   Offline TA/TO     Offline TA/TO   \n",
       "DistributionChannel                     TA/TO             TA/TO   \n",
       "IsRepeatedGuest                             0                 0   \n",
       "PreviousCancellations                       0                 0   \n",
       "PreviousBookingsNotCanceled                 0                 0   \n",
       "ReservedRoomType             A                 A                  \n",
       "AssignedRoomType             A                 A                  \n",
       "BookingChanges                              0                 0   \n",
       "DepositType                   No Deposit        No Deposit        \n",
       "Agent                                     394               394   \n",
       "Company                                  NULL              NULL   \n",
       "DaysInWaitingList                           0                 0   \n",
       "CustomerType                        Transient         Transient   \n",
       "ADR                                     96.14             96.14   \n",
       "RequiredCarParkingSpaces                    0                 0   \n",
       "TotalOfSpecialRequests                      2                 0   \n",
       "ReservationStatus                   Check-Out         Check-Out   \n",
       "ReservationStatusDate                9/6/2017          9/6/2017   \n",
       "\n",
       "                                        79326             79327  \\\n",
       "IsCanceled                                  0                 0   \n",
       "LeadTime                                  102                34   \n",
       "ArrivalDateYear                          2017              2017   \n",
       "ArrivalDateMonth                       August            August   \n",
       "ArrivalDateWeekNumber                      35                35   \n",
       "ArrivalDateDayOfMonth                      31                31   \n",
       "StaysInWeekendNights                        2                 2   \n",
       "StaysInWeekNights                           5                 5   \n",
       "Adults                                      3                 2   \n",
       "Children                                  0.0               0.0   \n",
       "Babies                                      0                 0   \n",
       "Meal                                BB                BB          \n",
       "Country                                   FRA               DEU   \n",
       "MarketSegment                       Online TA         Online TA   \n",
       "DistributionChannel                     TA/TO             TA/TO   \n",
       "IsRepeatedGuest                             0                 0   \n",
       "PreviousCancellations                       0                 0   \n",
       "PreviousBookingsNotCanceled                 0                 0   \n",
       "ReservedRoomType             E                 D                  \n",
       "AssignedRoomType             E                 D                  \n",
       "BookingChanges                              0                 0   \n",
       "DepositType                   No Deposit        No Deposit        \n",
       "Agent                                       9                 9   \n",
       "Company                                  NULL              NULL   \n",
       "DaysInWaitingList                           0                 0   \n",
       "CustomerType                        Transient         Transient   \n",
       "ADR                                    225.43            157.71   \n",
       "RequiredCarParkingSpaces                    0                 0   \n",
       "TotalOfSpecialRequests                      2                 4   \n",
       "ReservationStatus                   Check-Out         Check-Out   \n",
       "ReservationStatusDate                9/7/2017          9/7/2017   \n",
       "\n",
       "                                        79328             79329  \n",
       "IsCanceled                                  0                 0  \n",
       "LeadTime                                  109               205  \n",
       "ArrivalDateYear                          2017              2017  \n",
       "ArrivalDateMonth                       August            August  \n",
       "ArrivalDateWeekNumber                      35                35  \n",
       "ArrivalDateDayOfMonth                      31                29  \n",
       "StaysInWeekendNights                        2                 2  \n",
       "StaysInWeekNights                           5                 7  \n",
       "Adults                                      2                 2  \n",
       "Children                                  0.0               0.0  \n",
       "Babies                                      0                 0  \n",
       "Meal                                BB                HB         \n",
       "Country                                   GBR               DEU  \n",
       "MarketSegment                       Online TA         Online TA  \n",
       "DistributionChannel                     TA/TO             TA/TO  \n",
       "IsRepeatedGuest                             0                 0  \n",
       "PreviousCancellations                       0                 0  \n",
       "PreviousBookingsNotCanceled                 0                 0  \n",
       "ReservedRoomType             A                 A                 \n",
       "AssignedRoomType             A                 A                 \n",
       "BookingChanges                              0                 0  \n",
       "DepositType                   No Deposit        No Deposit       \n",
       "Agent                                      89                 9  \n",
       "Company                                  NULL              NULL  \n",
       "DaysInWaitingList                           0                 0  \n",
       "CustomerType                        Transient         Transient  \n",
       "ADR                                     104.4             151.2  \n",
       "RequiredCarParkingSpaces                    0                 0  \n",
       "TotalOfSpecialRequests                      0                 2  \n",
       "ReservationStatus                   Check-Out         Check-Out  \n",
       "ReservationStatusDate                9/7/2017          9/7/2017  \n",
       "\n",
       "[31 rows x 79330 columns]"
      ]
     },
     "execution_count": 5,
     "metadata": {},
     "output_type": "execute_result"
    }
   ],
   "source": [
    "df.T\n",
    "#ADR: Average Daily Rate"
   ]
  },
  {
   "cell_type": "code",
   "execution_count": 6,
   "id": "dbde5baa",
   "metadata": {},
   "outputs": [
    {
     "data": {
      "text/html": [
       "<div>\n",
       "<style scoped>\n",
       "    .dataframe tbody tr th:only-of-type {\n",
       "        vertical-align: middle;\n",
       "    }\n",
       "\n",
       "    .dataframe tbody tr th {\n",
       "        vertical-align: top;\n",
       "    }\n",
       "\n",
       "    .dataframe thead th {\n",
       "        text-align: right;\n",
       "    }\n",
       "</style>\n",
       "<table border=\"1\" class=\"dataframe\">\n",
       "  <thead>\n",
       "    <tr style=\"text-align: right;\">\n",
       "      <th></th>\n",
       "      <th>IsCanceled</th>\n",
       "      <th>LeadTime</th>\n",
       "      <th>ArrivalDateYear</th>\n",
       "      <th>ArrivalDateWeekNumber</th>\n",
       "      <th>ArrivalDateDayOfMonth</th>\n",
       "      <th>StaysInWeekendNights</th>\n",
       "      <th>StaysInWeekNights</th>\n",
       "      <th>Adults</th>\n",
       "      <th>Children</th>\n",
       "      <th>Babies</th>\n",
       "      <th>IsRepeatedGuest</th>\n",
       "      <th>PreviousCancellations</th>\n",
       "      <th>PreviousBookingsNotCanceled</th>\n",
       "      <th>BookingChanges</th>\n",
       "      <th>DaysInWaitingList</th>\n",
       "      <th>ADR</th>\n",
       "      <th>RequiredCarParkingSpaces</th>\n",
       "      <th>TotalOfSpecialRequests</th>\n",
       "    </tr>\n",
       "  </thead>\n",
       "  <tbody>\n",
       "    <tr>\n",
       "      <th>count</th>\n",
       "      <td>79330.000000</td>\n",
       "      <td>79330.000000</td>\n",
       "      <td>79330.000000</td>\n",
       "      <td>79330.000000</td>\n",
       "      <td>79330.000000</td>\n",
       "      <td>79330.000000</td>\n",
       "      <td>79330.000000</td>\n",
       "      <td>79330.000000</td>\n",
       "      <td>79326.000000</td>\n",
       "      <td>79330.000000</td>\n",
       "      <td>79330.000000</td>\n",
       "      <td>79330.000000</td>\n",
       "      <td>79330.000000</td>\n",
       "      <td>79330.000000</td>\n",
       "      <td>79330.000000</td>\n",
       "      <td>79330.000000</td>\n",
       "      <td>79330.000000</td>\n",
       "      <td>79330.000000</td>\n",
       "    </tr>\n",
       "    <tr>\n",
       "      <th>mean</th>\n",
       "      <td>0.417270</td>\n",
       "      <td>109.735724</td>\n",
       "      <td>2016.174285</td>\n",
       "      <td>27.177449</td>\n",
       "      <td>15.786625</td>\n",
       "      <td>0.795185</td>\n",
       "      <td>2.182957</td>\n",
       "      <td>1.850977</td>\n",
       "      <td>0.091370</td>\n",
       "      <td>0.004941</td>\n",
       "      <td>0.025615</td>\n",
       "      <td>0.079743</td>\n",
       "      <td>0.132371</td>\n",
       "      <td>0.187369</td>\n",
       "      <td>3.226774</td>\n",
       "      <td>105.304465</td>\n",
       "      <td>0.024367</td>\n",
       "      <td>0.546918</td>\n",
       "    </tr>\n",
       "    <tr>\n",
       "      <th>std</th>\n",
       "      <td>0.493111</td>\n",
       "      <td>110.948526</td>\n",
       "      <td>0.699181</td>\n",
       "      <td>13.398523</td>\n",
       "      <td>8.728451</td>\n",
       "      <td>0.885026</td>\n",
       "      <td>1.456416</td>\n",
       "      <td>0.509292</td>\n",
       "      <td>0.372177</td>\n",
       "      <td>0.084323</td>\n",
       "      <td>0.157983</td>\n",
       "      <td>0.415472</td>\n",
       "      <td>1.693411</td>\n",
       "      <td>0.608620</td>\n",
       "      <td>20.870890</td>\n",
       "      <td>43.602954</td>\n",
       "      <td>0.154919</td>\n",
       "      <td>0.780776</td>\n",
       "    </tr>\n",
       "    <tr>\n",
       "      <th>min</th>\n",
       "      <td>0.000000</td>\n",
       "      <td>0.000000</td>\n",
       "      <td>2015.000000</td>\n",
       "      <td>1.000000</td>\n",
       "      <td>1.000000</td>\n",
       "      <td>0.000000</td>\n",
       "      <td>0.000000</td>\n",
       "      <td>0.000000</td>\n",
       "      <td>0.000000</td>\n",
       "      <td>0.000000</td>\n",
       "      <td>0.000000</td>\n",
       "      <td>0.000000</td>\n",
       "      <td>0.000000</td>\n",
       "      <td>0.000000</td>\n",
       "      <td>0.000000</td>\n",
       "      <td>0.000000</td>\n",
       "      <td>0.000000</td>\n",
       "      <td>0.000000</td>\n",
       "    </tr>\n",
       "    <tr>\n",
       "      <th>25%</th>\n",
       "      <td>0.000000</td>\n",
       "      <td>23.000000</td>\n",
       "      <td>2016.000000</td>\n",
       "      <td>17.000000</td>\n",
       "      <td>8.000000</td>\n",
       "      <td>0.000000</td>\n",
       "      <td>1.000000</td>\n",
       "      <td>2.000000</td>\n",
       "      <td>0.000000</td>\n",
       "      <td>0.000000</td>\n",
       "      <td>0.000000</td>\n",
       "      <td>0.000000</td>\n",
       "      <td>0.000000</td>\n",
       "      <td>0.000000</td>\n",
       "      <td>0.000000</td>\n",
       "      <td>79.200000</td>\n",
       "      <td>0.000000</td>\n",
       "      <td>0.000000</td>\n",
       "    </tr>\n",
       "    <tr>\n",
       "      <th>50%</th>\n",
       "      <td>0.000000</td>\n",
       "      <td>74.000000</td>\n",
       "      <td>2016.000000</td>\n",
       "      <td>27.000000</td>\n",
       "      <td>16.000000</td>\n",
       "      <td>1.000000</td>\n",
       "      <td>2.000000</td>\n",
       "      <td>2.000000</td>\n",
       "      <td>0.000000</td>\n",
       "      <td>0.000000</td>\n",
       "      <td>0.000000</td>\n",
       "      <td>0.000000</td>\n",
       "      <td>0.000000</td>\n",
       "      <td>0.000000</td>\n",
       "      <td>0.000000</td>\n",
       "      <td>99.900000</td>\n",
       "      <td>0.000000</td>\n",
       "      <td>0.000000</td>\n",
       "    </tr>\n",
       "    <tr>\n",
       "      <th>75%</th>\n",
       "      <td>1.000000</td>\n",
       "      <td>163.000000</td>\n",
       "      <td>2017.000000</td>\n",
       "      <td>38.000000</td>\n",
       "      <td>23.000000</td>\n",
       "      <td>2.000000</td>\n",
       "      <td>3.000000</td>\n",
       "      <td>2.000000</td>\n",
       "      <td>0.000000</td>\n",
       "      <td>0.000000</td>\n",
       "      <td>0.000000</td>\n",
       "      <td>0.000000</td>\n",
       "      <td>0.000000</td>\n",
       "      <td>0.000000</td>\n",
       "      <td>0.000000</td>\n",
       "      <td>126.000000</td>\n",
       "      <td>0.000000</td>\n",
       "      <td>1.000000</td>\n",
       "    </tr>\n",
       "    <tr>\n",
       "      <th>max</th>\n",
       "      <td>1.000000</td>\n",
       "      <td>629.000000</td>\n",
       "      <td>2017.000000</td>\n",
       "      <td>53.000000</td>\n",
       "      <td>31.000000</td>\n",
       "      <td>16.000000</td>\n",
       "      <td>41.000000</td>\n",
       "      <td>4.000000</td>\n",
       "      <td>3.000000</td>\n",
       "      <td>10.000000</td>\n",
       "      <td>1.000000</td>\n",
       "      <td>21.000000</td>\n",
       "      <td>72.000000</td>\n",
       "      <td>21.000000</td>\n",
       "      <td>391.000000</td>\n",
       "      <td>5400.000000</td>\n",
       "      <td>3.000000</td>\n",
       "      <td>5.000000</td>\n",
       "    </tr>\n",
       "  </tbody>\n",
       "</table>\n",
       "</div>"
      ],
      "text/plain": [
       "         IsCanceled      LeadTime  ArrivalDateYear  ArrivalDateWeekNumber  \\\n",
       "count  79330.000000  79330.000000     79330.000000           79330.000000   \n",
       "mean       0.417270    109.735724      2016.174285              27.177449   \n",
       "std        0.493111    110.948526         0.699181              13.398523   \n",
       "min        0.000000      0.000000      2015.000000               1.000000   \n",
       "25%        0.000000     23.000000      2016.000000              17.000000   \n",
       "50%        0.000000     74.000000      2016.000000              27.000000   \n",
       "75%        1.000000    163.000000      2017.000000              38.000000   \n",
       "max        1.000000    629.000000      2017.000000              53.000000   \n",
       "\n",
       "       ArrivalDateDayOfMonth  StaysInWeekendNights  StaysInWeekNights  \\\n",
       "count           79330.000000          79330.000000       79330.000000   \n",
       "mean               15.786625              0.795185           2.182957   \n",
       "std                 8.728451              0.885026           1.456416   \n",
       "min                 1.000000              0.000000           0.000000   \n",
       "25%                 8.000000              0.000000           1.000000   \n",
       "50%                16.000000              1.000000           2.000000   \n",
       "75%                23.000000              2.000000           3.000000   \n",
       "max                31.000000             16.000000          41.000000   \n",
       "\n",
       "             Adults      Children        Babies  IsRepeatedGuest  \\\n",
       "count  79330.000000  79326.000000  79330.000000     79330.000000   \n",
       "mean       1.850977      0.091370      0.004941         0.025615   \n",
       "std        0.509292      0.372177      0.084323         0.157983   \n",
       "min        0.000000      0.000000      0.000000         0.000000   \n",
       "25%        2.000000      0.000000      0.000000         0.000000   \n",
       "50%        2.000000      0.000000      0.000000         0.000000   \n",
       "75%        2.000000      0.000000      0.000000         0.000000   \n",
       "max        4.000000      3.000000     10.000000         1.000000   \n",
       "\n",
       "       PreviousCancellations  PreviousBookingsNotCanceled  BookingChanges  \\\n",
       "count           79330.000000                 79330.000000    79330.000000   \n",
       "mean                0.079743                     0.132371        0.187369   \n",
       "std                 0.415472                     1.693411        0.608620   \n",
       "min                 0.000000                     0.000000        0.000000   \n",
       "25%                 0.000000                     0.000000        0.000000   \n",
       "50%                 0.000000                     0.000000        0.000000   \n",
       "75%                 0.000000                     0.000000        0.000000   \n",
       "max                21.000000                    72.000000       21.000000   \n",
       "\n",
       "       DaysInWaitingList           ADR  RequiredCarParkingSpaces  \\\n",
       "count       79330.000000  79330.000000              79330.000000   \n",
       "mean            3.226774    105.304465                  0.024367   \n",
       "std            20.870890     43.602954                  0.154919   \n",
       "min             0.000000      0.000000                  0.000000   \n",
       "25%             0.000000     79.200000                  0.000000   \n",
       "50%             0.000000     99.900000                  0.000000   \n",
       "75%             0.000000    126.000000                  0.000000   \n",
       "max           391.000000   5400.000000                  3.000000   \n",
       "\n",
       "       TotalOfSpecialRequests  \n",
       "count            79330.000000  \n",
       "mean                 0.546918  \n",
       "std                  0.780776  \n",
       "min                  0.000000  \n",
       "25%                  0.000000  \n",
       "50%                  0.000000  \n",
       "75%                  1.000000  \n",
       "max                  5.000000  "
      ]
     },
     "execution_count": 6,
     "metadata": {},
     "output_type": "execute_result"
    }
   ],
   "source": [
    "df.describe()\n",
    "#We are observing a time frame between 2015 and 2017 according to arrival date"
   ]
  },
  {
   "cell_type": "code",
   "execution_count": 7,
   "id": "b094817c",
   "metadata": {},
   "outputs": [
    {
     "name": "stdout",
     "output_type": "stream",
     "text": [
      "<class 'pandas.core.frame.DataFrame'>\n",
      "RangeIndex: 79330 entries, 0 to 79329\n",
      "Data columns (total 31 columns):\n",
      " #   Column                       Non-Null Count  Dtype  \n",
      "---  ------                       --------------  -----  \n",
      " 0   IsCanceled                   79330 non-null  int64  \n",
      " 1   LeadTime                     79330 non-null  int64  \n",
      " 2   ArrivalDateYear              79330 non-null  int64  \n",
      " 3   ArrivalDateMonth             79330 non-null  object \n",
      " 4   ArrivalDateWeekNumber        79330 non-null  int64  \n",
      " 5   ArrivalDateDayOfMonth        79330 non-null  int64  \n",
      " 6   StaysInWeekendNights         79330 non-null  int64  \n",
      " 7   StaysInWeekNights            79330 non-null  int64  \n",
      " 8   Adults                       79330 non-null  int64  \n",
      " 9   Children                     79326 non-null  float64\n",
      " 10  Babies                       79330 non-null  int64  \n",
      " 11  Meal                         79330 non-null  object \n",
      " 12  Country                      79306 non-null  object \n",
      " 13  MarketSegment                79330 non-null  object \n",
      " 14  DistributionChannel          79330 non-null  object \n",
      " 15  IsRepeatedGuest              79330 non-null  int64  \n",
      " 16  PreviousCancellations        79330 non-null  int64  \n",
      " 17  PreviousBookingsNotCanceled  79330 non-null  int64  \n",
      " 18  ReservedRoomType             79330 non-null  object \n",
      " 19  AssignedRoomType             79330 non-null  object \n",
      " 20  BookingChanges               79330 non-null  int64  \n",
      " 21  DepositType                  79330 non-null  object \n",
      " 22  Agent                        79330 non-null  object \n",
      " 23  Company                      79330 non-null  object \n",
      " 24  DaysInWaitingList            79330 non-null  int64  \n",
      " 25  CustomerType                 79330 non-null  object \n",
      " 26  ADR                          79330 non-null  float64\n",
      " 27  RequiredCarParkingSpaces     79330 non-null  int64  \n",
      " 28  TotalOfSpecialRequests       79330 non-null  int64  \n",
      " 29  ReservationStatus            79330 non-null  object \n",
      " 30  ReservationStatusDate        79330 non-null  object \n",
      "dtypes: float64(2), int64(16), object(13)\n",
      "memory usage: 18.8+ MB\n"
     ]
    }
   ],
   "source": [
    "df.info()\n",
    "#Checking and understanding the datetimes and missing values"
   ]
  },
  {
   "cell_type": "code",
   "execution_count": 8,
   "id": "de4555ab",
   "metadata": {},
   "outputs": [
    {
     "data": {
      "text/plain": [
       "IsCanceled                      0\n",
       "LeadTime                        0\n",
       "ArrivalDateYear                 0\n",
       "ArrivalDateMonth                0\n",
       "ArrivalDateWeekNumber           0\n",
       "ArrivalDateDayOfMonth           0\n",
       "StaysInWeekendNights            0\n",
       "StaysInWeekNights               0\n",
       "Adults                          0\n",
       "Children                        4\n",
       "Babies                          0\n",
       "Meal                            0\n",
       "Country                        24\n",
       "MarketSegment                   0\n",
       "DistributionChannel             0\n",
       "IsRepeatedGuest                 0\n",
       "PreviousCancellations           0\n",
       "PreviousBookingsNotCanceled     0\n",
       "ReservedRoomType                0\n",
       "AssignedRoomType                0\n",
       "BookingChanges                  0\n",
       "DepositType                     0\n",
       "Agent                           0\n",
       "Company                         0\n",
       "DaysInWaitingList               0\n",
       "CustomerType                    0\n",
       "ADR                             0\n",
       "RequiredCarParkingSpaces        0\n",
       "TotalOfSpecialRequests          0\n",
       "ReservationStatus               0\n",
       "ReservationStatusDate           0\n",
       "dtype: int64"
      ]
     },
     "execution_count": 8,
     "metadata": {},
     "output_type": "execute_result"
    }
   ],
   "source": [
    "df.isnull().sum()\n",
    "#Observing two variables with missing values with only a few values"
   ]
  },
  {
   "cell_type": "code",
   "execution_count": 9,
   "id": "2be1fc46",
   "metadata": {},
   "outputs": [
    {
     "data": {
      "text/plain": [
       "Index(['IsCanceled', 'LeadTime', 'ArrivalDateYear', 'ArrivalDateMonth',\n",
       "       'ArrivalDateWeekNumber', 'ArrivalDateDayOfMonth',\n",
       "       'StaysInWeekendNights', 'StaysInWeekNights', 'Adults', 'Children',\n",
       "       'Babies', 'Meal', 'Country', 'MarketSegment', 'DistributionChannel',\n",
       "       'IsRepeatedGuest', 'PreviousCancellations',\n",
       "       'PreviousBookingsNotCanceled', 'ReservedRoomType', 'AssignedRoomType',\n",
       "       'BookingChanges', 'DepositType', 'Agent', 'Company',\n",
       "       'DaysInWaitingList', 'CustomerType', 'ADR', 'RequiredCarParkingSpaces',\n",
       "       'TotalOfSpecialRequests', 'ReservationStatus', 'ReservationStatusDate'],\n",
       "      dtype='object')"
      ]
     },
     "execution_count": 9,
     "metadata": {},
     "output_type": "execute_result"
    }
   ],
   "source": [
    "df.columns"
   ]
  },
  {
   "cell_type": "code",
   "execution_count": 10,
   "id": "cb421d85",
   "metadata": {},
   "outputs": [],
   "source": [
    "# Remove unnecessary spaces from cells. Ex: instead of '       1' have '1'.\n",
    "# Did it now because the x axis of the graphs below were not centered\n",
    "\n",
    "df['AssignedRoomType'] = df['AssignedRoomType'].apply(lambda x: x[0])\n",
    "df['ReservedRoomType'] = df['ReservedRoomType'].apply(lambda x: x[0])\n",
    "df['Meal'] = df['Meal'].apply(lambda x: x[:2])\n",
    "df['Agent'] = df['Agent'].apply(lambda x: x.strip()) \n"
   ]
  },
  {
   "attachments": {},
   "cell_type": "markdown",
   "id": "b72a6d5e",
   "metadata": {},
   "source": [
    "## 3.2. Categorical Features<a class=\"anchor\" id=\"categorical-features\"></a>"
   ]
  },
  {
   "cell_type": "code",
   "execution_count": 11,
   "id": "d313398f",
   "metadata": {},
   "outputs": [
    {
     "data": {
      "text/html": [
       "<div>\n",
       "<style scoped>\n",
       "    .dataframe tbody tr th:only-of-type {\n",
       "        vertical-align: middle;\n",
       "    }\n",
       "\n",
       "    .dataframe tbody tr th {\n",
       "        vertical-align: top;\n",
       "    }\n",
       "\n",
       "    .dataframe thead th {\n",
       "        text-align: right;\n",
       "    }\n",
       "</style>\n",
       "<table border=\"1\" class=\"dataframe\">\n",
       "  <thead>\n",
       "    <tr style=\"text-align: right;\">\n",
       "      <th></th>\n",
       "      <th>Agent</th>\n",
       "      <th>ArrivalDateMonth</th>\n",
       "      <th>AssignedRoomType</th>\n",
       "      <th>Company</th>\n",
       "      <th>Country</th>\n",
       "      <th>CustomerType</th>\n",
       "      <th>DepositType</th>\n",
       "      <th>DistributionChannel</th>\n",
       "      <th>IsRepeatedGuest</th>\n",
       "      <th>MarketSegment</th>\n",
       "      <th>Meal</th>\n",
       "      <th>ReservationStatus</th>\n",
       "      <th>ReservationStatusDate</th>\n",
       "      <th>ReservedRoomType</th>\n",
       "    </tr>\n",
       "  </thead>\n",
       "  <tbody>\n",
       "    <tr>\n",
       "      <th>0</th>\n",
       "      <td>6</td>\n",
       "      <td>July</td>\n",
       "      <td>A</td>\n",
       "      <td>NULL</td>\n",
       "      <td>PRT</td>\n",
       "      <td>Transient</td>\n",
       "      <td>No Deposit</td>\n",
       "      <td>TA/TO</td>\n",
       "      <td>0</td>\n",
       "      <td>Offline TA/TO</td>\n",
       "      <td>HB</td>\n",
       "      <td>Check-Out</td>\n",
       "      <td>7/3/2015</td>\n",
       "      <td>A</td>\n",
       "    </tr>\n",
       "    <tr>\n",
       "      <th>1</th>\n",
       "      <td>9</td>\n",
       "      <td>July</td>\n",
       "      <td>A</td>\n",
       "      <td>NULL</td>\n",
       "      <td>PRT</td>\n",
       "      <td>Transient</td>\n",
       "      <td>No Deposit</td>\n",
       "      <td>TA/TO</td>\n",
       "      <td>0</td>\n",
       "      <td>Online TA</td>\n",
       "      <td>BB</td>\n",
       "      <td>Canceled</td>\n",
       "      <td>7/1/2015</td>\n",
       "      <td>A</td>\n",
       "    </tr>\n",
       "    <tr>\n",
       "      <th>2</th>\n",
       "      <td>9</td>\n",
       "      <td>July</td>\n",
       "      <td>A</td>\n",
       "      <td>NULL</td>\n",
       "      <td>PRT</td>\n",
       "      <td>Transient</td>\n",
       "      <td>No Deposit</td>\n",
       "      <td>TA/TO</td>\n",
       "      <td>0</td>\n",
       "      <td>Online TA</td>\n",
       "      <td>BB</td>\n",
       "      <td>Canceled</td>\n",
       "      <td>4/30/2015</td>\n",
       "      <td>A</td>\n",
       "    </tr>\n",
       "    <tr>\n",
       "      <th>3</th>\n",
       "      <td>9</td>\n",
       "      <td>July</td>\n",
       "      <td>A</td>\n",
       "      <td>NULL</td>\n",
       "      <td>PRT</td>\n",
       "      <td>Transient</td>\n",
       "      <td>No Deposit</td>\n",
       "      <td>TA/TO</td>\n",
       "      <td>0</td>\n",
       "      <td>Online TA</td>\n",
       "      <td>BB</td>\n",
       "      <td>Canceled</td>\n",
       "      <td>6/23/2015</td>\n",
       "      <td>A</td>\n",
       "    </tr>\n",
       "    <tr>\n",
       "      <th>4</th>\n",
       "      <td>9</td>\n",
       "      <td>July</td>\n",
       "      <td>A</td>\n",
       "      <td>NULL</td>\n",
       "      <td>PRT</td>\n",
       "      <td>Transient</td>\n",
       "      <td>No Deposit</td>\n",
       "      <td>TA/TO</td>\n",
       "      <td>0</td>\n",
       "      <td>Online TA</td>\n",
       "      <td>BB</td>\n",
       "      <td>Canceled</td>\n",
       "      <td>4/2/2015</td>\n",
       "      <td>A</td>\n",
       "    </tr>\n",
       "  </tbody>\n",
       "</table>\n",
       "</div>"
      ],
      "text/plain": [
       "  Agent ArrivalDateMonth AssignedRoomType      Company Country CustomerType  \\\n",
       "0     6             July                A         NULL     PRT    Transient   \n",
       "1     9             July                A         NULL     PRT    Transient   \n",
       "2     9             July                A         NULL     PRT    Transient   \n",
       "3     9             July                A         NULL     PRT    Transient   \n",
       "4     9             July                A         NULL     PRT    Transient   \n",
       "\n",
       "       DepositType DistributionChannel  IsRepeatedGuest  MarketSegment Meal  \\\n",
       "0  No Deposit                    TA/TO                0  Offline TA/TO   HB   \n",
       "1  No Deposit                    TA/TO                0      Online TA   BB   \n",
       "2  No Deposit                    TA/TO                0      Online TA   BB   \n",
       "3  No Deposit                    TA/TO                0      Online TA   BB   \n",
       "4  No Deposit                    TA/TO                0      Online TA   BB   \n",
       "\n",
       "  ReservationStatus ReservationStatusDate ReservedRoomType  \n",
       "0         Check-Out              7/3/2015                A  \n",
       "1          Canceled              7/1/2015                A  \n",
       "2          Canceled             4/30/2015                A  \n",
       "3          Canceled             6/23/2015                A  \n",
       "4          Canceled              4/2/2015                A  "
      ]
     },
     "execution_count": 11,
     "metadata": {},
     "output_type": "execute_result"
    }
   ],
   "source": [
    "# Define what are the categorical features\n",
    "cat_cols = ['Agent', 'ArrivalDateMonth', 'AssignedRoomType', 'Company', 'Country', 'CustomerType',\n",
    "            'DepositType', 'DistributionChannel', 'IsCanceled', 'IsRepeatedGuest', 'MarketSegment',\n",
    "            'Meal', 'ReservationStatus', 'ReservationStatusDate', 'ReservedRoomType']\n",
    "\n",
    "# Create a dataset with the categorical features only\n",
    "cat_df = df[cat_cols]\n",
    "cat_df.drop('IsCanceled', axis = 1, inplace = True)\n",
    "cat_df.head()\n"
   ]
  },
  {
   "cell_type": "code",
   "execution_count": 12,
   "id": "18b6a72f",
   "metadata": {},
   "outputs": [
    {
     "data": {
      "image/png": "[encoded data removed]",
      "text/plain": [
       "<Figure size 2160x2880 with 14 Axes>"
      ]
     },
     "metadata": {
      "needs_background": "light"
     },
     "output_type": "display_data"
    }
   ],
   "source": [
    "# Plot Categorical Features to analyse tendencies\n",
    "\n",
    "fig, ax = plt.subplots(int(len(cat_cols)/2), 2, figsize=(30, 40))\n",
    "\n",
    "for col, axis in zip(cat_cols, ax.flatten()):\n",
    "    sns.countplot(df[col], ax=axis, hue=df['IsCanceled'], palette=['#6BB1DD', '#EB9A48'])\n",
    "    axis.set_title(col, fontsize=20)  # Increase title font size\n",
    "    axis.set_xlabel(col, fontsize=16)  # Increase x-axis label font size\n",
    "    axis.set_ylabel('Count', fontsize=16)  # Increase y-axis label font size\n",
    "    axis.tick_params(axis='both', which='major', labelsize=16)\n",
    "\n",
    "plt.tight_layout()\n",
    "\n",
    "plt.show()\n"
   ]
  },
  {
   "cell_type": "code",
   "execution_count": 13,
   "id": "b1b35e85",
   "metadata": {},
   "outputs": [
    {
     "data": {
      "text/html": [
       "<div>\n",
       "<style scoped>\n",
       "    .dataframe tbody tr th:only-of-type {\n",
       "        vertical-align: middle;\n",
       "    }\n",
       "\n",
       "    .dataframe tbody tr th {\n",
       "        vertical-align: top;\n",
       "    }\n",
       "\n",
       "    .dataframe thead th {\n",
       "        text-align: right;\n",
       "    }\n",
       "</style>\n",
       "<table border=\"1\" class=\"dataframe\">\n",
       "  <thead>\n",
       "    <tr style=\"text-align: right;\">\n",
       "      <th></th>\n",
       "      <th>Variable</th>\n",
       "      <th>Categories</th>\n",
       "    </tr>\n",
       "  </thead>\n",
       "  <tbody>\n",
       "    <tr>\n",
       "      <th>0</th>\n",
       "      <td>Agent</td>\n",
       "      <td>[106, 107, 112, 117, 122, 141, 144, 148, 150, ...</td>\n",
       "    </tr>\n",
       "    <tr>\n",
       "      <th>1</th>\n",
       "      <td>ArrivalDateMonth</td>\n",
       "      <td>[]</td>\n",
       "    </tr>\n",
       "    <tr>\n",
       "      <th>2</th>\n",
       "      <td>AssignedRoomType</td>\n",
       "      <td>[P]</td>\n",
       "    </tr>\n",
       "    <tr>\n",
       "      <th>3</th>\n",
       "      <td>Company</td>\n",
       "      <td>[100, 101, 105, 106, 108, 11, 110, 116, 122, 1...</td>\n",
       "    </tr>\n",
       "    <tr>\n",
       "      <th>4</th>\n",
       "      <td>Country</td>\n",
       "      <td>[ABW, AIA, AND, ASM, ATA, ATF, BEN, BFA, BOL, ...</td>\n",
       "    </tr>\n",
       "    <tr>\n",
       "      <th>5</th>\n",
       "      <td>CustomerType</td>\n",
       "      <td>[]</td>\n",
       "    </tr>\n",
       "    <tr>\n",
       "      <th>6</th>\n",
       "      <td>DepositType</td>\n",
       "      <td>[]</td>\n",
       "    </tr>\n",
       "    <tr>\n",
       "      <th>7</th>\n",
       "      <td>DistributionChannel</td>\n",
       "      <td>[Undefined]</td>\n",
       "    </tr>\n",
       "    <tr>\n",
       "      <th>8</th>\n",
       "      <td>IsRepeatedGuest</td>\n",
       "      <td>[]</td>\n",
       "    </tr>\n",
       "    <tr>\n",
       "      <th>9</th>\n",
       "      <td>MarketSegment</td>\n",
       "      <td>[Undefined]</td>\n",
       "    </tr>\n",
       "    <tr>\n",
       "      <th>10</th>\n",
       "      <td>Meal</td>\n",
       "      <td>[]</td>\n",
       "    </tr>\n",
       "    <tr>\n",
       "      <th>11</th>\n",
       "      <td>ReservationStatus</td>\n",
       "      <td>[Canceled, Check-Out, No-Show]</td>\n",
       "    </tr>\n",
       "    <tr>\n",
       "      <th>12</th>\n",
       "      <td>ReservationStatusDate</td>\n",
       "      <td>[1/1/2015, 1/20/2015, 1/30/2015, 10/11/2015, 1...</td>\n",
       "    </tr>\n",
       "    <tr>\n",
       "      <th>13</th>\n",
       "      <td>ReservedRoomType</td>\n",
       "      <td>[P]</td>\n",
       "    </tr>\n",
       "  </tbody>\n",
       "</table>\n",
       "</div>"
      ],
      "text/plain": [
       "                 Variable                                         Categories\n",
       "0                   Agent  [106, 107, 112, 117, 122, 141, 144, 148, 150, ...\n",
       "1        ArrivalDateMonth                                                 []\n",
       "2        AssignedRoomType                                                [P]\n",
       "3                 Company  [100, 101, 105, 106, 108, 11, 110, 116, 122, 1...\n",
       "4                 Country  [ABW, AIA, AND, ASM, ATA, ATF, BEN, BFA, BOL, ...\n",
       "5            CustomerType                                                 []\n",
       "6             DepositType                                                 []\n",
       "7     DistributionChannel                                        [Undefined]\n",
       "8         IsRepeatedGuest                                                 []\n",
       "9           MarketSegment                                        [Undefined]\n",
       "10                   Meal                                                 []\n",
       "11      ReservationStatus                     [Canceled, Check-Out, No-Show]\n",
       "12  ReservationStatusDate  [1/1/2015, 1/20/2015, 1/30/2015, 10/11/2015, 1...\n",
       "13       ReservedRoomType                                                [P]"
      ]
     },
     "execution_count": 13,
     "metadata": {},
     "output_type": "execute_result"
    }
   ],
   "source": [
    "# As there are categorical features that are imbalanced we create a code that check if each category has observations\n",
    "# regarding IsCanceled=1 and IsCanceled=0. Because Categories with only one option will bias the model.\n",
    "\n",
    "result = [] \n",
    "\n",
    "cat_cols_filtered = [col for col in cat_cols if col != 'IsCanceled']  # Lista filtrada sem 'IsCanceled'\n",
    "\n",
    "for col in cat_cols_filtered:\n",
    "    cat_counts = df.groupby(col)['IsCanceled'].value_counts()\n",
    "    filtered_cats = cat_counts.groupby(col).filter(lambda x: len(x) < 2) # every category that doesnt appear 0 and 1 in the groupby in the Iscanceled column\n",
    "    cat_values = filtered_cats.index.get_level_values(col).unique().tolist()\n",
    "    cat_values_stripped = [value.strip() for value in cat_values]\n",
    "    \n",
    "    result.append({\n",
    "        'Variable': col,\n",
    "        'Categories': cat_values_stripped\n",
    "    })\n",
    "\n",
    "# Df with the results. Ex: Agent 106, 107, 117.. and so on only have either Iscanceled=1 or Iscanceled=0\n",
    "imbalanced_cat_result = pd.DataFrame(result)\n",
    "imbalanced_cat_result"
   ]
  },
  {
   "attachments": {},
   "cell_type": "markdown",
   "id": "0d078915",
   "metadata": {},
   "source": [
    "## 3.3. Numerical Features<a class=\"anchor\" id=\"numerical-features\"></a>"
   ]
  },
  {
   "cell_type": "code",
   "execution_count": 14,
   "id": "f07851cf",
   "metadata": {},
   "outputs": [
    {
     "data": {
      "text/html": [
       "<div>\n",
       "<style scoped>\n",
       "    .dataframe tbody tr th:only-of-type {\n",
       "        vertical-align: middle;\n",
       "    }\n",
       "\n",
       "    .dataframe tbody tr th {\n",
       "        vertical-align: top;\n",
       "    }\n",
       "\n",
       "    .dataframe thead th {\n",
       "        text-align: right;\n",
       "    }\n",
       "</style>\n",
       "<table border=\"1\" class=\"dataframe\">\n",
       "  <thead>\n",
       "    <tr style=\"text-align: right;\">\n",
       "      <th></th>\n",
       "      <th>LeadTime</th>\n",
       "      <th>ArrivalDateYear</th>\n",
       "      <th>ArrivalDateWeekNumber</th>\n",
       "      <th>ArrivalDateDayOfMonth</th>\n",
       "      <th>StaysInWeekendNights</th>\n",
       "      <th>StaysInWeekNights</th>\n",
       "      <th>Adults</th>\n",
       "      <th>Children</th>\n",
       "      <th>Babies</th>\n",
       "      <th>PreviousCancellations</th>\n",
       "      <th>PreviousBookingsNotCanceled</th>\n",
       "      <th>BookingChanges</th>\n",
       "      <th>DaysInWaitingList</th>\n",
       "      <th>ADR</th>\n",
       "      <th>RequiredCarParkingSpaces</th>\n",
       "      <th>TotalOfSpecialRequests</th>\n",
       "    </tr>\n",
       "  </thead>\n",
       "  <tbody>\n",
       "    <tr>\n",
       "      <th>0</th>\n",
       "      <td>6</td>\n",
       "      <td>2015</td>\n",
       "      <td>27</td>\n",
       "      <td>1</td>\n",
       "      <td>0</td>\n",
       "      <td>2</td>\n",
       "      <td>1</td>\n",
       "      <td>0.0</td>\n",
       "      <td>0</td>\n",
       "      <td>0</td>\n",
       "      <td>0</td>\n",
       "      <td>0</td>\n",
       "      <td>0</td>\n",
       "      <td>0.0</td>\n",
       "      <td>0</td>\n",
       "      <td>0</td>\n",
       "    </tr>\n",
       "    <tr>\n",
       "      <th>1</th>\n",
       "      <td>88</td>\n",
       "      <td>2015</td>\n",
       "      <td>27</td>\n",
       "      <td>1</td>\n",
       "      <td>0</td>\n",
       "      <td>4</td>\n",
       "      <td>2</td>\n",
       "      <td>0.0</td>\n",
       "      <td>0</td>\n",
       "      <td>0</td>\n",
       "      <td>0</td>\n",
       "      <td>0</td>\n",
       "      <td>0</td>\n",
       "      <td>76.5</td>\n",
       "      <td>0</td>\n",
       "      <td>1</td>\n",
       "    </tr>\n",
       "    <tr>\n",
       "      <th>2</th>\n",
       "      <td>65</td>\n",
       "      <td>2015</td>\n",
       "      <td>27</td>\n",
       "      <td>1</td>\n",
       "      <td>0</td>\n",
       "      <td>4</td>\n",
       "      <td>1</td>\n",
       "      <td>0.0</td>\n",
       "      <td>0</td>\n",
       "      <td>0</td>\n",
       "      <td>0</td>\n",
       "      <td>0</td>\n",
       "      <td>0</td>\n",
       "      <td>68.0</td>\n",
       "      <td>0</td>\n",
       "      <td>1</td>\n",
       "    </tr>\n",
       "    <tr>\n",
       "      <th>3</th>\n",
       "      <td>92</td>\n",
       "      <td>2015</td>\n",
       "      <td>27</td>\n",
       "      <td>1</td>\n",
       "      <td>2</td>\n",
       "      <td>4</td>\n",
       "      <td>2</td>\n",
       "      <td>0.0</td>\n",
       "      <td>0</td>\n",
       "      <td>0</td>\n",
       "      <td>0</td>\n",
       "      <td>0</td>\n",
       "      <td>0</td>\n",
       "      <td>76.5</td>\n",
       "      <td>0</td>\n",
       "      <td>2</td>\n",
       "    </tr>\n",
       "    <tr>\n",
       "      <th>4</th>\n",
       "      <td>100</td>\n",
       "      <td>2015</td>\n",
       "      <td>27</td>\n",
       "      <td>2</td>\n",
       "      <td>0</td>\n",
       "      <td>2</td>\n",
       "      <td>2</td>\n",
       "      <td>0.0</td>\n",
       "      <td>0</td>\n",
       "      <td>0</td>\n",
       "      <td>0</td>\n",
       "      <td>0</td>\n",
       "      <td>0</td>\n",
       "      <td>76.5</td>\n",
       "      <td>0</td>\n",
       "      <td>1</td>\n",
       "    </tr>\n",
       "  </tbody>\n",
       "</table>\n",
       "</div>"
      ],
      "text/plain": [
       "   LeadTime  ArrivalDateYear  ArrivalDateWeekNumber  ArrivalDateDayOfMonth  \\\n",
       "0         6             2015                     27                      1   \n",
       "1        88             2015                     27                      1   \n",
       "2        65             2015                     27                      1   \n",
       "3        92             2015                     27                      1   \n",
       "4       100             2015                     27                      2   \n",
       "\n",
       "   StaysInWeekendNights  StaysInWeekNights  Adults  Children  Babies  \\\n",
       "0                     0                  2       1       0.0       0   \n",
       "1                     0                  4       2       0.0       0   \n",
       "2                     0                  4       1       0.0       0   \n",
       "3                     2                  4       2       0.0       0   \n",
       "4                     0                  2       2       0.0       0   \n",
       "\n",
       "   PreviousCancellations  PreviousBookingsNotCanceled  BookingChanges  \\\n",
       "0                      0                            0               0   \n",
       "1                      0                            0               0   \n",
       "2                      0                            0               0   \n",
       "3                      0                            0               0   \n",
       "4                      0                            0               0   \n",
       "\n",
       "   DaysInWaitingList   ADR  RequiredCarParkingSpaces  TotalOfSpecialRequests  \n",
       "0                  0   0.0                         0                       0  \n",
       "1                  0  76.5                         0                       1  \n",
       "2                  0  68.0                         0                       1  \n",
       "3                  0  76.5                         0                       2  \n",
       "4                  0  76.5                         0                       1  "
      ]
     },
     "execution_count": 14,
     "metadata": {},
     "output_type": "execute_result"
    }
   ],
   "source": [
    "# Create a list with the numerical variables\n",
    "num_cols = df.drop(cat_cols,axis=1).columns.to_list()\n",
    "\n",
    "# Create a dataframe with the numerical variables only\n",
    "num_df = df[num_cols]\n",
    "num_df.head()\n"
   ]
  },
  {
   "cell_type": "code",
   "execution_count": 15,
   "id": "2dc2e269",
   "metadata": {},
   "outputs": [
    {
     "data": {
      "image/png": "[encoded data removed]",
      "text/plain": [
       "<Figure size 2880x2520 with 16 Axes>"
      ]
     },
     "metadata": {
      "needs_background": "light"
     },
     "output_type": "display_data"
    }
   ],
   "source": [
    "# Plot numerical variables to analysis tendencies\n",
    "fig, ax = plt.subplots(int(len(num_cols)/4), 4, figsize=(40, 35))\n",
    "\n",
    "for col, axis in zip(num_cols,ax.flatten()):\n",
    "    sns.histplot(df[col], ax=axis)#, hue=df['IsCanceled'], palette=['#6BB1DD', '#EB9A48'])\n",
    "    axis.set_title(col, fontsize=20)  # Increase title font size\n",
    "    axis.set_xlabel(col, fontsize=16)  # Increase x-axis label font size\n",
    "    axis.set_ylabel('Count', fontsize=16)  # Increase y-axis label font size\n",
    "    axis.tick_params(axis='both', which='major', labelsize=16)\n",
    "\n",
    "#plt.tight_layout()\n",
    "\n",
    "\n",
    "plt.show()"
   ]
  },
  {
   "cell_type": "code",
   "execution_count": 16,
   "id": "b8806dce",
   "metadata": {},
   "outputs": [
    {
     "data": {
      "text/html": [
       "<div>\n",
       "<style scoped>\n",
       "    .dataframe tbody tr th:only-of-type {\n",
       "        vertical-align: middle;\n",
       "    }\n",
       "\n",
       "    .dataframe tbody tr th {\n",
       "        vertical-align: top;\n",
       "    }\n",
       "\n",
       "    .dataframe thead th {\n",
       "        text-align: right;\n",
       "    }\n",
       "</style>\n",
       "<table border=\"1\" class=\"dataframe\">\n",
       "  <thead>\n",
       "    <tr style=\"text-align: right;\">\n",
       "      <th></th>\n",
       "      <th>LeadTime</th>\n",
       "      <th>ArrivalDateYear</th>\n",
       "      <th>ArrivalDateWeekNumber</th>\n",
       "      <th>ArrivalDateDayOfMonth</th>\n",
       "      <th>StaysInWeekendNights</th>\n",
       "      <th>StaysInWeekNights</th>\n",
       "      <th>Adults</th>\n",
       "      <th>Children</th>\n",
       "      <th>Babies</th>\n",
       "      <th>PreviousCancellations</th>\n",
       "      <th>PreviousBookingsNotCanceled</th>\n",
       "      <th>BookingChanges</th>\n",
       "      <th>DaysInWaitingList</th>\n",
       "      <th>ADR</th>\n",
       "      <th>RequiredCarParkingSpaces</th>\n",
       "      <th>TotalOfSpecialRequests</th>\n",
       "    </tr>\n",
       "    <tr>\n",
       "      <th>IsCanceled</th>\n",
       "      <th></th>\n",
       "      <th></th>\n",
       "      <th></th>\n",
       "      <th></th>\n",
       "      <th></th>\n",
       "      <th></th>\n",
       "      <th></th>\n",
       "      <th></th>\n",
       "      <th></th>\n",
       "      <th></th>\n",
       "      <th></th>\n",
       "      <th></th>\n",
       "      <th></th>\n",
       "      <th></th>\n",
       "      <th></th>\n",
       "      <th></th>\n",
       "    </tr>\n",
       "  </thead>\n",
       "  <tbody>\n",
       "    <tr>\n",
       "      <th>0</th>\n",
       "      <td>80.702734</td>\n",
       "      <td>2016.176062</td>\n",
       "      <td>27.159535</td>\n",
       "      <td>15.818616</td>\n",
       "      <td>0.800684</td>\n",
       "      <td>2.122934</td>\n",
       "      <td>1.828113</td>\n",
       "      <td>0.099896</td>\n",
       "      <td>0.007095</td>\n",
       "      <td>0.021156</td>\n",
       "      <td>0.208510</td>\n",
       "      <td>0.264364</td>\n",
       "      <td>2.150082</td>\n",
       "      <td>105.745948</td>\n",
       "      <td>0.041814</td>\n",
       "      <td>0.741088</td>\n",
       "    </tr>\n",
       "    <tr>\n",
       "      <th>1</th>\n",
       "      <td>150.281222</td>\n",
       "      <td>2016.171802</td>\n",
       "      <td>27.202465</td>\n",
       "      <td>15.741949</td>\n",
       "      <td>0.787505</td>\n",
       "      <td>2.266781</td>\n",
       "      <td>1.882907</td>\n",
       "      <td>0.079461</td>\n",
       "      <td>0.001933</td>\n",
       "      <td>0.161561</td>\n",
       "      <td>0.026041</td>\n",
       "      <td>0.079844</td>\n",
       "      <td>4.730409</td>\n",
       "      <td>104.687920</td>\n",
       "      <td>0.000000</td>\n",
       "      <td>0.275754</td>\n",
       "    </tr>\n",
       "  </tbody>\n",
       "</table>\n",
       "</div>"
      ],
      "text/plain": [
       "              LeadTime  ArrivalDateYear  ArrivalDateWeekNumber  \\\n",
       "IsCanceled                                                       \n",
       "0            80.702734      2016.176062              27.159535   \n",
       "1           150.281222      2016.171802              27.202465   \n",
       "\n",
       "            ArrivalDateDayOfMonth  StaysInWeekendNights  StaysInWeekNights  \\\n",
       "IsCanceled                                                                   \n",
       "0                       15.818616              0.800684           2.122934   \n",
       "1                       15.741949              0.787505           2.266781   \n",
       "\n",
       "              Adults  Children    Babies  PreviousCancellations  \\\n",
       "IsCanceled                                                        \n",
       "0           1.828113  0.099896  0.007095               0.021156   \n",
       "1           1.882907  0.079461  0.001933               0.161561   \n",
       "\n",
       "            PreviousBookingsNotCanceled  BookingChanges  DaysInWaitingList  \\\n",
       "IsCanceled                                                                   \n",
       "0                              0.208510        0.264364           2.150082   \n",
       "1                              0.026041        0.079844           4.730409   \n",
       "\n",
       "                   ADR  RequiredCarParkingSpaces  TotalOfSpecialRequests  \n",
       "IsCanceled                                                                \n",
       "0           105.745948                  0.041814                0.741088  \n",
       "1           104.687920                  0.000000                0.275754  "
      ]
     },
     "execution_count": 16,
     "metadata": {},
     "output_type": "execute_result"
    }
   ],
   "source": [
    "df_num2 = df[num_cols].copy()\n",
    "df_num2['IsCanceled'] = df['IsCanceled']\n",
    "df_num2.groupby('IsCanceled').mean()"
   ]
  },
  {
   "attachments": {},
   "cell_type": "markdown",
   "id": "f8544011",
   "metadata": {},
   "source": [
    "## 3.4. Features Analysis<a class=\"anchor\" id=\"features-analysis\"></a>"
   ]
  },
  {
   "attachments": {},
   "cell_type": "markdown",
   "id": "0d07c16f",
   "metadata": {},
   "source": [
    "### 3.4.1 Is Canceled <a class=\"anchor\" id=\"is-canceled\"></a>"
   ]
  },
  {
   "cell_type": "code",
   "execution_count": 17,
   "id": "c18b0b61",
   "metadata": {},
   "outputs": [
    {
     "data": {
      "image/png": "[encoded data removed]",
      "text/plain": [
       "<Figure size 432x288 with 1 Axes>"
      ]
     },
     "metadata": {
      "needs_background": "light"
     },
     "output_type": "display_data"
    }
   ],
   "source": [
    "# Check the balance of the variable IsCanceled\n",
    "sns.countplot(x='IsCanceled', data=df)\n",
    "plt.xlabel('Distribution of the Target Variable IsCanceled')\n",
    "plt.ylabel('Count')\n",
    "\n",
    "\n",
    "plt.show()\n"
   ]
  },
  {
   "attachments": {},
   "cell_type": "markdown",
   "id": "e9730668",
   "metadata": {},
   "source": [
    "### 3.4.2 Agent <a class=\"anchor\" id=\"agent\"></a>"
   ]
  },
  {
   "cell_type": "code",
   "execution_count": 18,
   "id": "a9924e5c",
   "metadata": {
    "scrolled": true
   },
   "outputs": [],
   "source": [
    "# 131 values marked as NULL;\n",
    "# According to Paper_HotelBookingDemandDatasets.pdf, this should not be\n",
    "# considered a missing value, but rather as “not applicable”\n",
    "df[df['Agent'].str.contains('NULL')]\n",
    "\n",
    "df['Agent'] = df['Agent'].str.replace('NULL', 'N.A.')"
   ]
  },
  {
   "cell_type": "code",
   "execution_count": 19,
   "id": "51ab90ad",
   "metadata": {},
   "outputs": [
    {
     "data": {
      "text/plain": [
       "array(['6', '9', '1', '8', '13', '11', '7', '15', 'N.A.', '27', '14',\n",
       "       '22', '17', '10', '28', '42', '3', '20', '19', '40', '45', '34',\n",
       "       '37', '57', '61', '16', '39', '21', '24', '69', '41', '50', '30',\n",
       "       '54', '52', '12', '44', '26', '64', '31', '29', '83', '32', '63',\n",
       "       '66', '60', '55', '56', '89', '159', '155', '38', '91', '87',\n",
       "       '118', '86', '134', '85', '94', '210', '214', '129', '179', '138',\n",
       "       '174', '154', '170', '182', '153', '93', '151', '119', '35', '168',\n",
       "       '2', '147', '195', '173', '58', '53', '128', '133', '79', '152',\n",
       "       '235', '192', '5', '171', '191', '187', '236', '162', '215', '270',\n",
       "       '157', '281', '177', '287', '240', '132', '331', '234', '98', '77',\n",
       "       '103', '107', '262', '355', '220', '104', '330', '326', '121',\n",
       "       '254', '205', '378', '23', '296', '290', '229', '390', '33', '286',\n",
       "       '47', '276', '425', '315', '484', '323', '403', '219', '394',\n",
       "       '509', '111', '423', '4', '71', '78', '72', '75', '70', '82', '81',\n",
       "       '74', '92', '99', '90', '95', '112', '117', '106', '148', '158',\n",
       "       '167', '180', '144', '196', '211', '193', '213', '216', '232',\n",
       "       '242', '150', '267', '250', '252', '227', '247', '278', '256',\n",
       "       '280', '285', '36', '289', '269', '295', '265', '303', '306',\n",
       "       '335', '288', '122', '294', '325', '341', '310', '327', '344',\n",
       "       '346', '359', '283', '364', '370', '371', '25', '375', '141',\n",
       "       '391', '397', '416', '404', '299', '197', '73', '427', '354',\n",
       "       '441', '444', '408', '461', '388', '436', '453', '467', '459',\n",
       "       '474', '455', '475', '480', '464', '495', '476', '449'],\n",
       "      dtype=object)"
      ]
     },
     "execution_count": 19,
     "metadata": {},
     "output_type": "execute_result"
    }
   ],
   "source": [
    "df['Agent'].unique()"
   ]
  },
  {
   "cell_type": "code",
   "execution_count": 20,
   "id": "269937bf",
   "metadata": {},
   "outputs": [
    {
     "data": {
      "text/plain": [
       "224"
      ]
     },
     "execution_count": 20,
     "metadata": {},
     "output_type": "execute_result"
    }
   ],
   "source": [
    "# 224 unique agents\n",
    "len(df['Agent'].unique())"
   ]
  },
  {
   "attachments": {},
   "cell_type": "markdown",
   "id": "3ef9e2ab",
   "metadata": {},
   "source": [
    "**Note**: Agents 24, 25, 36, 41, 47, 54, 55, 60, 61, 63, 64, 69, 70.....495.. only have one category of the variable is Canceled.\n",
    "\n",
    "Check the table in the last cell of the Categorical Variables section.\n",
    "\n",
    "E.g.: Agent 24 only have people that did not canceled. This is going to bias the algorithm."
   ]
  },
  {
   "attachments": {},
   "cell_type": "markdown",
   "id": "76483985",
   "metadata": {},
   "source": [
    "### 3.4.3 Average Daily Rate <a class=\"anchor\" id=\"average-daily-rate\"></a>"
   ]
  },
  {
   "cell_type": "code",
   "execution_count": 21,
   "id": "c38805ee",
   "metadata": {},
   "outputs": [
    {
     "data": {
      "text/html": [
       "<div>\n",
       "<style scoped>\n",
       "    .dataframe tbody tr th:only-of-type {\n",
       "        vertical-align: middle;\n",
       "    }\n",
       "\n",
       "    .dataframe tbody tr th {\n",
       "        vertical-align: top;\n",
       "    }\n",
       "\n",
       "    .dataframe thead th {\n",
       "        text-align: right;\n",
       "    }\n",
       "</style>\n",
       "<table border=\"1\" class=\"dataframe\">\n",
       "  <thead>\n",
       "    <tr style=\"text-align: right;\">\n",
       "      <th></th>\n",
       "      <th>ArrivalDateMonth</th>\n",
       "      <th>ADR</th>\n",
       "    </tr>\n",
       "  </thead>\n",
       "  <tbody>\n",
       "    <tr>\n",
       "      <th>0</th>\n",
       "      <td>January</td>\n",
       "      <td>82.628986</td>\n",
       "    </tr>\n",
       "    <tr>\n",
       "      <th>1</th>\n",
       "      <td>February</td>\n",
       "      <td>85.088278</td>\n",
       "    </tr>\n",
       "    <tr>\n",
       "      <th>2</th>\n",
       "      <td>March</td>\n",
       "      <td>92.643116</td>\n",
       "    </tr>\n",
       "    <tr>\n",
       "      <th>3</th>\n",
       "      <td>April</td>\n",
       "      <td>111.251838</td>\n",
       "    </tr>\n",
       "    <tr>\n",
       "      <th>4</th>\n",
       "      <td>May</td>\n",
       "      <td>121.638560</td>\n",
       "    </tr>\n",
       "    <tr>\n",
       "      <th>5</th>\n",
       "      <td>June</td>\n",
       "      <td>119.074341</td>\n",
       "    </tr>\n",
       "    <tr>\n",
       "      <th>6</th>\n",
       "      <td>July</td>\n",
       "      <td>110.734292</td>\n",
       "    </tr>\n",
       "    <tr>\n",
       "      <th>7</th>\n",
       "      <td>August</td>\n",
       "      <td>114.680455</td>\n",
       "    </tr>\n",
       "    <tr>\n",
       "      <th>8</th>\n",
       "      <td>September</td>\n",
       "      <td>110.004661</td>\n",
       "    </tr>\n",
       "    <tr>\n",
       "      <th>9</th>\n",
       "      <td>October</td>\n",
       "      <td>99.974498</td>\n",
       "    </tr>\n",
       "    <tr>\n",
       "      <th>10</th>\n",
       "      <td>November</td>\n",
       "      <td>88.069601</td>\n",
       "    </tr>\n",
       "    <tr>\n",
       "      <th>11</th>\n",
       "      <td>December</td>\n",
       "      <td>88.826307</td>\n",
       "    </tr>\n",
       "  </tbody>\n",
       "</table>\n",
       "</div>"
      ],
      "text/plain": [
       "   ArrivalDateMonth         ADR\n",
       "0           January   82.628986\n",
       "1          February   85.088278\n",
       "2             March   92.643116\n",
       "3             April  111.251838\n",
       "4               May  121.638560\n",
       "5              June  119.074341\n",
       "6              July  110.734292\n",
       "7            August  114.680455\n",
       "8         September  110.004661\n",
       "9           October   99.974498\n",
       "10         November   88.069601\n",
       "11         December   88.826307"
      ]
     },
     "execution_count": 21,
     "metadata": {},
     "output_type": "execute_result"
    }
   ],
   "source": [
    "# Define the desired order of the months\n",
    "month_order = ['January', 'February', 'March', 'April', 'May', 'June',\n",
    "               'July', 'August', 'September', 'October', 'November', 'December']\n",
    "\n",
    "# Create a categorical data type with the defined order\n",
    "month_cat_type = pd.CategoricalDtype(categories=month_order, ordered=True)\n",
    "\n",
    "# Apply the categorical data type to the 'ArrivalDateMonth' column\n",
    "df['ArrivalDateMonth'] = df['ArrivalDateMonth'].astype(month_cat_type)\n",
    "\n",
    "# Group the DataFrame by 'ArrivalDateMonth' and calculate the mean of 'ADR'\n",
    "ADR_month = df.groupby('ArrivalDateMonth')['ADR'].mean().reset_index()\n",
    "\n",
    "# Display the average price per night over the months\n",
    "ADR_month"
   ]
  },
  {
   "cell_type": "code",
   "execution_count": 22,
   "id": "b44e275c",
   "metadata": {},
   "outputs": [
    {
     "data": {
      "application/vnd.plotly.v1+json": {
       "config": {
        "plotlyServerURL": "https://plot.ly"
       },
       "data": [
        {
         "hovertemplate": "ArrivalDateMonth=%{x}<br>ADR=%{y}<extra></extra>",
         "legendgroup": "",
         "line": {
          "color": "#6BB1DD",
          "dash": "solid"
         },
         "marker": {
          "symbol": "circle"
         },
         "mode": "lines",
         "name": "",
         "orientation": "v",
         "showlegend": false,
         "type": "scatter",
         "x": [
          "January",
          "February",
          "March",
          "April",
          "May",
          "June",
          "July",
          "August",
          "September",
          "October",
          "November",
          "December"
         ],
         "xaxis": "x",
         "y": [
          82.62898554603855,
          85.08827794561934,
          92.64311551563952,
          111.25183823529412,
          121.63856049562682,
          119.07434127185203,
          110.7342915430267,
          114.68045530446399,
          110.0046608108108,
          99.97449835634451,
          88.06960064264402,
          88.82630687318489
         ],
         "yaxis": "y"
        }
       ],
       "layout": {
        "legend": {
         "tracegroupgap": 0
        },
        "plot_bgcolor": "#E6F5FF",
        "template": {
         "data": {
          "bar": [
           {
            "error_x": {
             "color": "#2a3f5f"
            },
            "error_y": {
             "color": "#2a3f5f"
            },
            "marker": {
             "line": {
              "color": "#E5ECF6",
              "width": 0.5
             },
             "pattern": {
              "fillmode": "overlay",
              "size": 10,
              "solidity": 0.2
             }
            },
            "type": "bar"
           }
          ],
          "barpolar": [
           {
            "marker": {
             "line": {
              "color": "#E5ECF6",
              "width": 0.5
             },
             "pattern": {
              "fillmode": "overlay",
              "size": 10,
              "solidity": 0.2
             }
            },
            "type": "barpolar"
           }
          ],
          "carpet": [
           {
            "aaxis": {
             "endlinecolor": "#2a3f5f",
             "gridcolor": "white",
             "linecolor": "white",
             "minorgridcolor": "white",
             "startlinecolor": "#2a3f5f"
            },
            "baxis": {
             "endlinecolor": "#2a3f5f",
             "gridcolor": "white",
             "linecolor": "white",
             "minorgridcolor": "white",
             "startlinecolor": "#2a3f5f"
            },
            "type": "carpet"
           }
          ],
          "choropleth": [
           {
            "colorbar": {
             "outlinewidth": 0,
             "ticks": ""
            },
            "type": "choropleth"
           }
          ],
          "contour": [
           {
            "colorbar": {
             "outlinewidth": 0,
             "ticks": ""
            },
            "colorscale": [
             [
              0,
              "#0d0887"
             ],
             [
              0.1111111111111111,
              "#46039f"
             ],
             [
              0.2222222222222222,
              "#7201a8"
             ],
             [
              0.3333333333333333,
              "#9c179e"
             ],
             [
              0.4444444444444444,
              "#bd3786"
             ],
             [
              0.5555555555555556,
              "#d8576b"
             ],
             [
              0.6666666666666666,
              "#ed7953"
             ],
             [
              0.7777777777777778,
              "#fb9f3a"
             ],
             [
              0.8888888888888888,
              "#fdca26"
             ],
             [
              1,
              "#f0f921"
             ]
            ],
            "type": "contour"
           }
          ],
          "contourcarpet": [
           {
            "colorbar": {
             "outlinewidth": 0,
             "ticks": ""
            },
            "type": "contourcarpet"
           }
          ],
          "heatmap": [
           {
            "colorbar": {
             "outlinewidth": 0,
             "ticks": ""
            },
            "colorscale": [
             [
              0,
              "#0d0887"
             ],
             [
              0.1111111111111111,
              "#46039f"
             ],
             [
              0.2222222222222222,
              "#7201a8"
             ],
             [
              0.3333333333333333,
              "#9c179e"
             ],
             [
              0.4444444444444444,
              "#bd3786"
             ],
             [
              0.5555555555555556,
              "#d8576b"
             ],
             [
              0.6666666666666666,
              "#ed7953"
             ],
             [
              0.7777777777777778,
              "#fb9f3a"
             ],
             [
              0.8888888888888888,
              "#fdca26"
             ],
             [
              1,
              "#f0f921"
             ]
            ],
            "type": "heatmap"
           }
          ],
          "heatmapgl": [
           {
            "colorbar": {
             "outlinewidth": 0,
             "ticks": ""
            },
            "colorscale": [
             [
              0,
              "#0d0887"
             ],
             [
              0.1111111111111111,
              "#46039f"
             ],
             [
              0.2222222222222222,
              "#7201a8"
             ],
             [
              0.3333333333333333,
              "#9c179e"
             ],
             [
              0.4444444444444444,
              "#bd3786"
             ],
             [
              0.5555555555555556,
              "#d8576b"
             ],
             [
              0.6666666666666666,
              "#ed7953"
             ],
             [
              0.7777777777777778,
              "#fb9f3a"
             ],
             [
              0.8888888888888888,
              "#fdca26"
             ],
             [
              1,
              "#f0f921"
             ]
            ],
            "type": "heatmapgl"
           }
          ],
          "histogram": [
           {
            "marker": {
             "pattern": {
              "fillmode": "overlay",
              "size": 10,
              "solidity": 0.2
             }
            },
            "type": "histogram"
           }
          ],
          "histogram2d": [
           {
            "colorbar": {
             "outlinewidth": 0,
             "ticks": ""
            },
            "colorscale": [
             [
              0,
              "#0d0887"
             ],
             [
              0.1111111111111111,
              "#46039f"
             ],
             [
              0.2222222222222222,
              "#7201a8"
             ],
             [
              0.3333333333333333,
              "#9c179e"
             ],
             [
              0.4444444444444444,
              "#bd3786"
             ],
             [
              0.5555555555555556,
              "#d8576b"
             ],
             [
              0.6666666666666666,
              "#ed7953"
             ],
             [
              0.7777777777777778,
              "#fb9f3a"
             ],
             [
              0.8888888888888888,
              "#fdca26"
             ],
             [
              1,
              "#f0f921"
             ]
            ],
            "type": "histogram2d"
           }
          ],
          "histogram2dcontour": [
           {
            "colorbar": {
             "outlinewidth": 0,
             "ticks": ""
            },
            "colorscale": [
             [
              0,
              "#0d0887"
             ],
             [
              0.1111111111111111,
              "#46039f"
             ],
             [
              0.2222222222222222,
              "#7201a8"
             ],
             [
              0.3333333333333333,
              "#9c179e"
             ],
             [
              0.4444444444444444,
              "#bd3786"
             ],
             [
              0.5555555555555556,
              "#d8576b"
             ],
             [
              0.6666666666666666,
              "#ed7953"
             ],
             [
              0.7777777777777778,
              "#fb9f3a"
             ],
             [
              0.8888888888888888,
              "#fdca26"
             ],
             [
              1,
              "#f0f921"
             ]
            ],
            "type": "histogram2dcontour"
           }
          ],
          "mesh3d": [
           {
            "colorbar": {
             "outlinewidth": 0,
             "ticks": ""
            },
            "type": "mesh3d"
           }
          ],
          "parcoords": [
           {
            "line": {
             "colorbar": {
              "outlinewidth": 0,
              "ticks": ""
             }
            },
            "type": "parcoords"
           }
          ],
          "pie": [
           {
            "automargin": true,
            "type": "pie"
           }
          ],
          "scatter": [
           {
            "fillpattern": {
             "fillmode": "overlay",
             "size": 10,
             "solidity": 0.2
            },
            "type": "scatter"
           }
          ],
          "scatter3d": [
           {
            "line": {
             "colorbar": {
              "outlinewidth": 0,
              "ticks": ""
             }
            },
            "marker": {
             "colorbar": {
              "outlinewidth": 0,
              "ticks": ""
             }
            },
            "type": "scatter3d"
           }
          ],
          "scattercarpet": [
           {
            "marker": {
             "colorbar": {
              "outlinewidth": 0,
              "ticks": ""
             }
            },
            "type": "scattercarpet"
           }
          ],
          "scattergeo": [
           {
            "marker": {
             "colorbar": {
              "outlinewidth": 0,
              "ticks": ""
             }
            },
            "type": "scattergeo"
           }
          ],
          "scattergl": [
           {
            "marker": {
             "colorbar": {
              "outlinewidth": 0,
              "ticks": ""
             }
            },
            "type": "scattergl"
           }
          ],
          "scattermapbox": [
           {
            "marker": {
             "colorbar": {
              "outlinewidth": 0,
              "ticks": ""
             }
            },
            "type": "scattermapbox"
           }
          ],
          "scatterpolar": [
           {
            "marker": {
             "colorbar": {
              "outlinewidth": 0,
              "ticks": ""
             }
            },
            "type": "scatterpolar"
           }
          ],
          "scatterpolargl": [
           {
            "marker": {
             "colorbar": {
              "outlinewidth": 0,
              "ticks": ""
             }
            },
            "type": "scatterpolargl"
           }
          ],
          "scatterternary": [
           {
            "marker": {
             "colorbar": {
              "outlinewidth": 0,
              "ticks": ""
             }
            },
            "type": "scatterternary"
           }
          ],
          "surface": [
           {
            "colorbar": {
             "outlinewidth": 0,
             "ticks": ""
            },
            "colorscale": [
             [
              0,
              "#0d0887"
             ],
             [
              0.1111111111111111,
              "#46039f"
             ],
             [
              0.2222222222222222,
              "#7201a8"
             ],
             [
              0.3333333333333333,
              "#9c179e"
             ],
             [
              0.4444444444444444,
              "#bd3786"
             ],
             [
              0.5555555555555556,
              "#d8576b"
             ],
             [
              0.6666666666666666,
              "#ed7953"
             ],
             [
              0.7777777777777778,
              "#fb9f3a"
             ],
             [
              0.8888888888888888,
              "#fdca26"
             ],
             [
              1,
              "#f0f921"
             ]
            ],
            "type": "surface"
           }
          ],
          "table": [
           {
            "cells": {
             "fill": {
              "color": "#EBF0F8"
             },
             "line": {
              "color": "white"
             }
            },
            "header": {
             "fill": {
              "color": "#C8D4E3"
             },
             "line": {
              "color": "white"
             }
            },
            "type": "table"
           }
          ]
         },
         "layout": {
          "annotationdefaults": {
           "arrowcolor": "#2a3f5f",
           "arrowhead": 0,
           "arrowwidth": 1
          },
          "autotypenumbers": "strict",
          "coloraxis": {
           "colorbar": {
            "outlinewidth": 0,
            "ticks": ""
           }
          },
          "colorscale": {
           "diverging": [
            [
             0,
             "#8e0152"
            ],
            [
             0.1,
             "#c51b7d"
            ],
            [
             0.2,
             "#de77ae"
            ],
            [
             0.3,
             "#f1b6da"
            ],
            [
             0.4,
             "#fde0ef"
            ],
            [
             0.5,
             "#f7f7f7"
            ],
            [
             0.6,
             "#e6f5d0"
            ],
            [
             0.7,
             "#b8e186"
            ],
            [
             0.8,
             "#7fbc41"
            ],
            [
             0.9,
             "#4d9221"
            ],
            [
             1,
             "#276419"
            ]
           ],
           "sequential": [
            [
             0,
             "#0d0887"
            ],
            [
             0.1111111111111111,
             "#46039f"
            ],
            [
             0.2222222222222222,
             "#7201a8"
            ],
            [
             0.3333333333333333,
             "#9c179e"
            ],
            [
             0.4444444444444444,
             "#bd3786"
            ],
            [
             0.5555555555555556,
             "#d8576b"
            ],
            [
             0.6666666666666666,
             "#ed7953"
            ],
            [
             0.7777777777777778,
             "#fb9f3a"
            ],
            [
             0.8888888888888888,
             "#fdca26"
            ],
            [
             1,
             "#f0f921"
            ]
           ],
           "sequentialminus": [
            [
             0,
             "#0d0887"
            ],
            [
             0.1111111111111111,
             "#46039f"
            ],
            [
             0.2222222222222222,
             "#7201a8"
            ],
            [
             0.3333333333333333,
             "#9c179e"
            ],
            [
             0.4444444444444444,
             "#bd3786"
            ],
            [
             0.5555555555555556,
             "#d8576b"
            ],
            [
             0.6666666666666666,
             "#ed7953"
            ],
            [
             0.7777777777777778,
             "#fb9f3a"
            ],
            [
             0.8888888888888888,
             "#fdca26"
            ],
            [
             1,
             "#f0f921"
            ]
           ]
          },
          "colorway": [
           "#636efa",
           "#EF553B",
           "#00cc96",
           "#ab63fa",
           "#FFA15A",
           "#19d3f3",
           "#FF6692",
           "#B6E880",
           "#FF97FF",
           "#FECB52"
          ],
          "font": {
           "color": "#2a3f5f"
          },
          "geo": {
           "bgcolor": "white",
           "lakecolor": "white",
           "landcolor": "#E5ECF6",
           "showlakes": true,
           "showland": true,
           "subunitcolor": "white"
          },
          "hoverlabel": {
           "align": "left"
          },
          "hovermode": "closest",
          "mapbox": {
           "style": "light"
          },
          "paper_bgcolor": "white",
          "plot_bgcolor": "#E5ECF6",
          "polar": {
           "angularaxis": {
            "gridcolor": "white",
            "linecolor": "white",
            "ticks": ""
           },
           "bgcolor": "#E5ECF6",
           "radialaxis": {
            "gridcolor": "white",
            "linecolor": "white",
            "ticks": ""
           }
          },
          "scene": {
           "xaxis": {
            "backgroundcolor": "#E5ECF6",
            "gridcolor": "white",
            "gridwidth": 2,
            "linecolor": "white",
            "showbackground": true,
            "ticks": "",
            "zerolinecolor": "white"
           },
           "yaxis": {
            "backgroundcolor": "#E5ECF6",
            "gridcolor": "white",
            "gridwidth": 2,
            "linecolor": "white",
            "showbackground": true,
            "ticks": "",
            "zerolinecolor": "white"
           },
           "zaxis": {
            "backgroundcolor": "#E5ECF6",
            "gridcolor": "white",
            "gridwidth": 2,
            "linecolor": "white",
            "showbackground": true,
            "ticks": "",
            "zerolinecolor": "white"
           }
          },
          "shapedefaults": {
           "line": {
            "color": "#2a3f5f"
           }
          },
          "ternary": {
           "aaxis": {
            "gridcolor": "white",
            "linecolor": "white",
            "ticks": ""
           },
           "baxis": {
            "gridcolor": "white",
            "linecolor": "white",
            "ticks": ""
           },
           "bgcolor": "#E5ECF6",
           "caxis": {
            "gridcolor": "white",
            "linecolor": "white",
            "ticks": ""
           }
          },
          "title": {
           "x": 0.05
          },
          "xaxis": {
           "automargin": true,
           "gridcolor": "white",
           "linecolor": "white",
           "ticks": "",
           "title": {
            "standoff": 15
           },
           "zerolinecolor": "white",
           "zerolinewidth": 2
          },
          "yaxis": {
           "automargin": true,
           "gridcolor": "white",
           "linecolor": "white",
           "ticks": "",
           "title": {
            "standoff": 15
           },
           "zerolinecolor": "white",
           "zerolinewidth": 2
          }
         }
        },
        "title": {
         "text": "Variation of Price per Night over Months",
         "x": 0.5,
         "xanchor": "center",
         "y": 0.95,
         "yanchor": "top"
        },
        "xaxis": {
         "anchor": "y",
         "domain": [
          0,
          1
         ],
         "title": {
          "text": "ArrivalDateMonth"
         }
        },
        "yaxis": {
         "anchor": "x",
         "domain": [
          0,
          1
         ],
         "title": {
          "text": "ADR"
         }
        }
       }
      }
     },
     "metadata": {},
     "output_type": "display_data"
    }
   ],
   "source": [
    "#Variation of price per night over the months\n",
    "\n",
    "# Create the interactive line chart\n",
    "line_chart = px.line(ADR_month, x='ArrivalDateMonth', y='ADR', title='Variation of Price per Night over Months')\n",
    "\n",
    "# Customize the line color and background color\n",
    "line_chart.update_traces(line=dict(color='#6BB1DD'))\n",
    "line_chart.update_layout(plot_bgcolor='#E6F5FF')\n",
    "\n",
    "# Center-align the title\n",
    "line_chart.update_layout(title={'x': 0.5, 'y': 0.95, 'xanchor': 'center', 'yanchor': 'top'})\n",
    "\n",
    "\n",
    "# Show the line chart\n",
    "line_chart.show()"
   ]
  },
  {
   "cell_type": "code",
   "execution_count": 23,
   "id": "887efd59",
   "metadata": {},
   "outputs": [
    {
     "data": {
      "text/html": [
       "<div>\n",
       "<style scoped>\n",
       "    .dataframe tbody tr th:only-of-type {\n",
       "        vertical-align: middle;\n",
       "    }\n",
       "\n",
       "    .dataframe tbody tr th {\n",
       "        vertical-align: top;\n",
       "    }\n",
       "\n",
       "    .dataframe thead th {\n",
       "        text-align: right;\n",
       "    }\n",
       "</style>\n",
       "<table border=\"1\" class=\"dataframe\">\n",
       "  <thead>\n",
       "    <tr style=\"text-align: right;\">\n",
       "      <th></th>\n",
       "      <th>Month</th>\n",
       "      <th>Number of Bookings</th>\n",
       "    </tr>\n",
       "  </thead>\n",
       "  <tbody>\n",
       "    <tr>\n",
       "      <th>11</th>\n",
       "      <td>January</td>\n",
       "      <td>3736</td>\n",
       "    </tr>\n",
       "    <tr>\n",
       "      <th>8</th>\n",
       "      <td>February</td>\n",
       "      <td>4965</td>\n",
       "    </tr>\n",
       "    <tr>\n",
       "      <th>7</th>\n",
       "      <td>March</td>\n",
       "      <td>6458</td>\n",
       "    </tr>\n",
       "    <tr>\n",
       "      <th>5</th>\n",
       "      <td>April</td>\n",
       "      <td>7480</td>\n",
       "    </tr>\n",
       "    <tr>\n",
       "      <th>1</th>\n",
       "      <td>May</td>\n",
       "      <td>8232</td>\n",
       "    </tr>\n",
       "    <tr>\n",
       "      <th>3</th>\n",
       "      <td>June</td>\n",
       "      <td>7894</td>\n",
       "    </tr>\n",
       "    <tr>\n",
       "      <th>2</th>\n",
       "      <td>July</td>\n",
       "      <td>8088</td>\n",
       "    </tr>\n",
       "    <tr>\n",
       "      <th>0</th>\n",
       "      <td>August</td>\n",
       "      <td>8983</td>\n",
       "    </tr>\n",
       "    <tr>\n",
       "      <th>6</th>\n",
       "      <td>September</td>\n",
       "      <td>7400</td>\n",
       "    </tr>\n",
       "    <tr>\n",
       "      <th>4</th>\n",
       "      <td>October</td>\n",
       "      <td>7605</td>\n",
       "    </tr>\n",
       "    <tr>\n",
       "      <th>9</th>\n",
       "      <td>November</td>\n",
       "      <td>4357</td>\n",
       "    </tr>\n",
       "    <tr>\n",
       "      <th>10</th>\n",
       "      <td>December</td>\n",
       "      <td>4132</td>\n",
       "    </tr>\n",
       "  </tbody>\n",
       "</table>\n",
       "</div>"
      ],
      "text/plain": [
       "        Month  Number of Bookings\n",
       "11    January                3736\n",
       "8    February                4965\n",
       "7       March                6458\n",
       "5       April                7480\n",
       "1         May                8232\n",
       "3        June                7894\n",
       "2        July                8088\n",
       "0      August                8983\n",
       "6   September                7400\n",
       "4     October                7605\n",
       "9    November                4357\n",
       "10   December                4132"
      ]
     },
     "execution_count": 23,
     "metadata": {},
     "output_type": "execute_result"
    }
   ],
   "source": [
    "#Which months have more Bookings\n",
    "\n",
    "bookings_month = df['ArrivalDateMonth'].value_counts().reset_index()\n",
    "bookings_month.columns = ['Month', 'Number of Bookings']\n",
    "\n",
    "# Apply the categorical data type to the 'Month' column\n",
    "bookings_month['Month'] = bookings_month['Month'].astype(month_cat_type)\n",
    "\n",
    "# Sort the DataFrame by the categorical column\n",
    "bookings_month = bookings_month.sort_values('Month')\n",
    "bookings_month\n"
   ]
  },
  {
   "cell_type": "code",
   "execution_count": 24,
   "id": "151a61a9",
   "metadata": {},
   "outputs": [
    {
     "data": {
      "application/vnd.plotly.v1+json": {
       "config": {
        "plotlyServerURL": "https://plot.ly"
       },
       "data": [
        {
         "hovertemplate": "Month=%{x}<br>Number of Bookings=%{y}<extra></extra>",
         "legendgroup": "",
         "line": {
          "color": "#6BB1DD",
          "dash": "solid"
         },
         "marker": {
          "symbol": "circle"
         },
         "mode": "lines",
         "name": "",
         "orientation": "v",
         "showlegend": false,
         "type": "scatter",
         "x": [
          "January",
          "February",
          "March",
          "April",
          "May",
          "June",
          "July",
          "August",
          "September",
          "October",
          "November",
          "December"
         ],
         "xaxis": "x",
         "y": [
          3736,
          4965,
          6458,
          7480,
          8232,
          7894,
          8088,
          8983,
          7400,
          7605,
          4357,
          4132
         ],
         "yaxis": "y"
        }
       ],
       "layout": {
        "legend": {
         "tracegroupgap": 0
        },
        "plot_bgcolor": "#E6F5FF",
        "template": {
         "data": {
          "bar": [
           {
            "error_x": {
             "color": "#2a3f5f"
            },
            "error_y": {
             "color": "#2a3f5f"
            },
            "marker": {
             "line": {
              "color": "#E5ECF6",
              "width": 0.5
             },
             "pattern": {
              "fillmode": "overlay",
              "size": 10,
              "solidity": 0.2
             }
            },
            "type": "bar"
           }
          ],
          "barpolar": [
           {
            "marker": {
             "line": {
              "color": "#E5ECF6",
              "width": 0.5
             },
             "pattern": {
              "fillmode": "overlay",
              "size": 10,
              "solidity": 0.2
             }
            },
            "type": "barpolar"
           }
          ],
          "carpet": [
           {
            "aaxis": {
             "endlinecolor": "#2a3f5f",
             "gridcolor": "white",
             "linecolor": "white",
             "minorgridcolor": "white",
             "startlinecolor": "#2a3f5f"
            },
            "baxis": {
             "endlinecolor": "#2a3f5f",
             "gridcolor": "white",
             "linecolor": "white",
             "minorgridcolor": "white",
             "startlinecolor": "#2a3f5f"
            },
            "type": "carpet"
           }
          ],
          "choropleth": [
           {
            "colorbar": {
             "outlinewidth": 0,
             "ticks": ""
            },
            "type": "choropleth"
           }
          ],
          "contour": [
           {
            "colorbar": {
             "outlinewidth": 0,
             "ticks": ""
            },
            "colorscale": [
             [
              0,
              "#0d0887"
             ],
             [
              0.1111111111111111,
              "#46039f"
             ],
             [
              0.2222222222222222,
              "#7201a8"
             ],
             [
              0.3333333333333333,
              "#9c179e"
             ],
             [
              0.4444444444444444,
              "#bd3786"
             ],
             [
              0.5555555555555556,
              "#d8576b"
             ],
             [
              0.6666666666666666,
              "#ed7953"
             ],
             [
              0.7777777777777778,
              "#fb9f3a"
             ],
             [
              0.8888888888888888,
              "#fdca26"
             ],
             [
              1,
              "#f0f921"
             ]
            ],
            "type": "contour"
           }
          ],
          "contourcarpet": [
           {
            "colorbar": {
             "outlinewidth": 0,
             "ticks": ""
            },
            "type": "contourcarpet"
           }
          ],
          "heatmap": [
           {
            "colorbar": {
             "outlinewidth": 0,
             "ticks": ""
            },
            "colorscale": [
             [
              0,
              "#0d0887"
             ],
             [
              0.1111111111111111,
              "#46039f"
             ],
             [
              0.2222222222222222,
              "#7201a8"
             ],
             [
              0.3333333333333333,
              "#9c179e"
             ],
             [
              0.4444444444444444,
              "#bd3786"
             ],
             [
              0.5555555555555556,
              "#d8576b"
             ],
             [
              0.6666666666666666,
              "#ed7953"
             ],
             [
              0.7777777777777778,
              "#fb9f3a"
             ],
             [
              0.8888888888888888,
              "#fdca26"
             ],
             [
              1,
              "#f0f921"
             ]
            ],
            "type": "heatmap"
           }
          ],
          "heatmapgl": [
           {
            "colorbar": {
             "outlinewidth": 0,
             "ticks": ""
            },
            "colorscale": [
             [
              0,
              "#0d0887"
             ],
             [
              0.1111111111111111,
              "#46039f"
             ],
             [
              0.2222222222222222,
              "#7201a8"
             ],
             [
              0.3333333333333333,
              "#9c179e"
             ],
             [
              0.4444444444444444,
              "#bd3786"
             ],
             [
              0.5555555555555556,
              "#d8576b"
             ],
             [
              0.6666666666666666,
              "#ed7953"
             ],
             [
              0.7777777777777778,
              "#fb9f3a"
             ],
             [
              0.8888888888888888,
              "#fdca26"
             ],
             [
              1,
              "#f0f921"
             ]
            ],
            "type": "heatmapgl"
           }
          ],
          "histogram": [
           {
            "marker": {
             "pattern": {
              "fillmode": "overlay",
              "size": 10,
              "solidity": 0.2
             }
            },
            "type": "histogram"
           }
          ],
          "histogram2d": [
           {
            "colorbar": {
             "outlinewidth": 0,
             "ticks": ""
            },
            "colorscale": [
             [
              0,
              "#0d0887"
             ],
             [
              0.1111111111111111,
              "#46039f"
             ],
             [
              0.2222222222222222,
              "#7201a8"
             ],
             [
              0.3333333333333333,
              "#9c179e"
             ],
             [
              0.4444444444444444,
              "#bd3786"
             ],
             [
              0.5555555555555556,
              "#d8576b"
             ],
             [
              0.6666666666666666,
              "#ed7953"
             ],
             [
              0.7777777777777778,
              "#fb9f3a"
             ],
             [
              0.8888888888888888,
              "#fdca26"
             ],
             [
              1,
              "#f0f921"
             ]
            ],
            "type": "histogram2d"
           }
          ],
          "histogram2dcontour": [
           {
            "colorbar": {
             "outlinewidth": 0,
             "ticks": ""
            },
            "colorscale": [
             [
              0,
              "#0d0887"
             ],
             [
              0.1111111111111111,
              "#46039f"
             ],
             [
              0.2222222222222222,
              "#7201a8"
             ],
             [
              0.3333333333333333,
              "#9c179e"
             ],
             [
              0.4444444444444444,
              "#bd3786"
             ],
             [
              0.5555555555555556,
              "#d8576b"
             ],
             [
              0.6666666666666666,
              "#ed7953"
             ],
             [
              0.7777777777777778,
              "#fb9f3a"
             ],
             [
              0.8888888888888888,
              "#fdca26"
             ],
             [
              1,
              "#f0f921"
             ]
            ],
            "type": "histogram2dcontour"
           }
          ],
          "mesh3d": [
           {
            "colorbar": {
             "outlinewidth": 0,
             "ticks": ""
            },
            "type": "mesh3d"
           }
          ],
          "parcoords": [
           {
            "line": {
             "colorbar": {
              "outlinewidth": 0,
              "ticks": ""
             }
            },
            "type": "parcoords"
           }
          ],
          "pie": [
           {
            "automargin": true,
            "type": "pie"
           }
          ],
          "scatter": [
           {
            "fillpattern": {
             "fillmode": "overlay",
             "size": 10,
             "solidity": 0.2
            },
            "type": "scatter"
           }
          ],
          "scatter3d": [
           {
            "line": {
             "colorbar": {
              "outlinewidth": 0,
              "ticks": ""
             }
            },
            "marker": {
             "colorbar": {
              "outlinewidth": 0,
              "ticks": ""
             }
            },
            "type": "scatter3d"
           }
          ],
          "scattercarpet": [
           {
            "marker": {
             "colorbar": {
              "outlinewidth": 0,
              "ticks": ""
             }
            },
            "type": "scattercarpet"
           }
          ],
          "scattergeo": [
           {
            "marker": {
             "colorbar": {
              "outlinewidth": 0,
              "ticks": ""
             }
            },
            "type": "scattergeo"
           }
          ],
          "scattergl": [
           {
            "marker": {
             "colorbar": {
              "outlinewidth": 0,
              "ticks": ""
             }
            },
            "type": "scattergl"
           }
          ],
          "scattermapbox": [
           {
            "marker": {
             "colorbar": {
              "outlinewidth": 0,
              "ticks": ""
             }
            },
            "type": "scattermapbox"
           }
          ],
          "scatterpolar": [
           {
            "marker": {
             "colorbar": {
              "outlinewidth": 0,
              "ticks": ""
             }
            },
            "type": "scatterpolar"
           }
          ],
          "scatterpolargl": [
           {
            "marker": {
             "colorbar": {
              "outlinewidth": 0,
              "ticks": ""
             }
            },
            "type": "scatterpolargl"
           }
          ],
          "scatterternary": [
           {
            "marker": {
             "colorbar": {
              "outlinewidth": 0,
              "ticks": ""
             }
            },
            "type": "scatterternary"
           }
          ],
          "surface": [
           {
            "colorbar": {
             "outlinewidth": 0,
             "ticks": ""
            },
            "colorscale": [
             [
              0,
              "#0d0887"
             ],
             [
              0.1111111111111111,
              "#46039f"
             ],
             [
              0.2222222222222222,
              "#7201a8"
             ],
             [
              0.3333333333333333,
              "#9c179e"
             ],
             [
              0.4444444444444444,
              "#bd3786"
             ],
             [
              0.5555555555555556,
              "#d8576b"
             ],
             [
              0.6666666666666666,
              "#ed7953"
             ],
             [
              0.7777777777777778,
              "#fb9f3a"
             ],
             [
              0.8888888888888888,
              "#fdca26"
             ],
             [
              1,
              "#f0f921"
             ]
            ],
            "type": "surface"
           }
          ],
          "table": [
           {
            "cells": {
             "fill": {
              "color": "#EBF0F8"
             },
             "line": {
              "color": "white"
             }
            },
            "header": {
             "fill": {
              "color": "#C8D4E3"
             },
             "line": {
              "color": "white"
             }
            },
            "type": "table"
           }
          ]
         },
         "layout": {
          "annotationdefaults": {
           "arrowcolor": "#2a3f5f",
           "arrowhead": 0,
           "arrowwidth": 1
          },
          "autotypenumbers": "strict",
          "coloraxis": {
           "colorbar": {
            "outlinewidth": 0,
            "ticks": ""
           }
          },
          "colorscale": {
           "diverging": [
            [
             0,
             "#8e0152"
            ],
            [
             0.1,
             "#c51b7d"
            ],
            [
             0.2,
             "#de77ae"
            ],
            [
             0.3,
             "#f1b6da"
            ],
            [
             0.4,
             "#fde0ef"
            ],
            [
             0.5,
             "#f7f7f7"
            ],
            [
             0.6,
             "#e6f5d0"
            ],
            [
             0.7,
             "#b8e186"
            ],
            [
             0.8,
             "#7fbc41"
            ],
            [
             0.9,
             "#4d9221"
            ],
            [
             1,
             "#276419"
            ]
           ],
           "sequential": [
            [
             0,
             "#0d0887"
            ],
            [
             0.1111111111111111,
             "#46039f"
            ],
            [
             0.2222222222222222,
             "#7201a8"
            ],
            [
             0.3333333333333333,
             "#9c179e"
            ],
            [
             0.4444444444444444,
             "#bd3786"
            ],
            [
             0.5555555555555556,
             "#d8576b"
            ],
            [
             0.6666666666666666,
             "#ed7953"
            ],
            [
             0.7777777777777778,
             "#fb9f3a"
            ],
            [
             0.8888888888888888,
             "#fdca26"
            ],
            [
             1,
             "#f0f921"
            ]
           ],
           "sequentialminus": [
            [
             0,
             "#0d0887"
            ],
            [
             0.1111111111111111,
             "#46039f"
            ],
            [
             0.2222222222222222,
             "#7201a8"
            ],
            [
             0.3333333333333333,
             "#9c179e"
            ],
            [
             0.4444444444444444,
             "#bd3786"
            ],
            [
             0.5555555555555556,
             "#d8576b"
            ],
            [
             0.6666666666666666,
             "#ed7953"
            ],
            [
             0.7777777777777778,
             "#fb9f3a"
            ],
            [
             0.8888888888888888,
             "#fdca26"
            ],
            [
             1,
             "#f0f921"
            ]
           ]
          },
          "colorway": [
           "#636efa",
           "#EF553B",
           "#00cc96",
           "#ab63fa",
           "#FFA15A",
           "#19d3f3",
           "#FF6692",
           "#B6E880",
           "#FF97FF",
           "#FECB52"
          ],
          "font": {
           "color": "#2a3f5f"
          },
          "geo": {
           "bgcolor": "white",
           "lakecolor": "white",
           "landcolor": "#E5ECF6",
           "showlakes": true,
           "showland": true,
           "subunitcolor": "white"
          },
          "hoverlabel": {
           "align": "left"
          },
          "hovermode": "closest",
          "mapbox": {
           "style": "light"
          },
          "paper_bgcolor": "white",
          "plot_bgcolor": "#E5ECF6",
          "polar": {
           "angularaxis": {
            "gridcolor": "white",
            "linecolor": "white",
            "ticks": ""
           },
           "bgcolor": "#E5ECF6",
           "radialaxis": {
            "gridcolor": "white",
            "linecolor": "white",
            "ticks": ""
           }
          },
          "scene": {
           "xaxis": {
            "backgroundcolor": "#E5ECF6",
            "gridcolor": "white",
            "gridwidth": 2,
            "linecolor": "white",
            "showbackground": true,
            "ticks": "",
            "zerolinecolor": "white"
           },
           "yaxis": {
            "backgroundcolor": "#E5ECF6",
            "gridcolor": "white",
            "gridwidth": 2,
            "linecolor": "white",
            "showbackground": true,
            "ticks": "",
            "zerolinecolor": "white"
           },
           "zaxis": {
            "backgroundcolor": "#E5ECF6",
            "gridcolor": "white",
            "gridwidth": 2,
            "linecolor": "white",
            "showbackground": true,
            "ticks": "",
            "zerolinecolor": "white"
           }
          },
          "shapedefaults": {
           "line": {
            "color": "#2a3f5f"
           }
          },
          "ternary": {
           "aaxis": {
            "gridcolor": "white",
            "linecolor": "white",
            "ticks": ""
           },
           "baxis": {
            "gridcolor": "white",
            "linecolor": "white",
            "ticks": ""
           },
           "bgcolor": "#E5ECF6",
           "caxis": {
            "gridcolor": "white",
            "linecolor": "white",
            "ticks": ""
           }
          },
          "title": {
           "x": 0.05
          },
          "xaxis": {
           "automargin": true,
           "gridcolor": "white",
           "linecolor": "white",
           "ticks": "",
           "title": {
            "standoff": 15
           },
           "zerolinecolor": "white",
           "zerolinewidth": 2
          },
          "yaxis": {
           "automargin": true,
           "gridcolor": "white",
           "linecolor": "white",
           "ticks": "",
           "title": {
            "standoff": 15
           },
           "zerolinecolor": "white",
           "zerolinewidth": 2
          }
         }
        },
        "title": {
         "text": "Total Number of Bookings per Month",
         "x": 0.5,
         "xanchor": "center",
         "y": 0.95,
         "yanchor": "top"
        },
        "xaxis": {
         "anchor": "y",
         "domain": [
          0,
          1
         ],
         "title": {
          "text": "Month"
         }
        },
        "yaxis": {
         "anchor": "x",
         "domain": [
          0,
          1
         ],
         "title": {
          "text": "Number of Bookings"
         }
        }
       }
      }
     },
     "metadata": {},
     "output_type": "display_data"
    }
   ],
   "source": [
    "#Which months have more guests\n",
    "\n",
    "# Create the interactive line chart\n",
    "line_chart = px.line(bookings_month, x='Month', y='Number of Bookings', title='Total Number of Bookings per Month')\n",
    "\n",
    "# Customize the line color and background color\n",
    "line_chart.update_traces(line=dict(color='#6BB1DD'))\n",
    "line_chart.update_layout(plot_bgcolor='#E6F5FF')\n",
    "\n",
    "# Center-align the title\n",
    "line_chart.update_layout(title={'x': 0.5, 'y': 0.95, 'xanchor': 'center', 'yanchor': 'top'})\n",
    "\n",
    "\n",
    "# Show the line chart\n",
    "line_chart.show()"
   ]
  },
  {
   "attachments": {},
   "cell_type": "markdown",
   "id": "d9eb31ca",
   "metadata": {},
   "source": [
    "### 3.4.4 Company <a class=\"anchor\" id=\"company\"></a>"
   ]
  },
  {
   "cell_type": "code",
   "execution_count": 25,
   "id": "a8e3eb18",
   "metadata": {},
   "outputs": [
    {
     "data": {
      "text/plain": [
       "208"
      ]
     },
     "execution_count": 25,
     "metadata": {},
     "output_type": "execute_result"
    }
   ],
   "source": [
    "# How many companies in the dataset\n",
    "len(df['Company'].unique())"
   ]
  },
  {
   "cell_type": "code",
   "execution_count": 26,
   "id": "90703e39",
   "metadata": {},
   "outputs": [],
   "source": [
    "#Only one third of the companies are registered, others are NULL.\n",
    "#According to Paper_HotelBookingDemandDatasets.pdf, this should not be\n",
    "#considered a missing value, but rather as “not applicable”\n",
    "df[df['Company'].str.contains('NULL')].head()\n",
    "\n",
    "df['Company'] = df['Company'].str.replace('NULL', 'N.A.')"
   ]
  },
  {
   "cell_type": "code",
   "execution_count": 27,
   "id": "c0f7111d",
   "metadata": {},
   "outputs": [
    {
     "data": {
      "image/png": "[encoded data removed]",
      "text/plain": [
       "<Figure size 432x288 with 1 Axes>"
      ]
     },
     "metadata": {},
     "output_type": "display_data"
    }
   ],
   "source": [
    "# Filter the DataFrame to exclude rows with 'N.A' in the 'Company' column\n",
    "company_df = df[~df['Company'].str.contains('N.A')]\n",
    "\n",
    "# Group the DataFrame by 'Company' and count the number of occurrences\n",
    "company_counts = company_df.groupby('Company').size().reset_index(name='Count')\n",
    "\n",
    "# Get the top 20 companies by count and plot their distribution\n",
    "top_companies = company_counts.nlargest(20, 'Count')\n",
    "\n",
    "# Set the style of the plot to white\n",
    "sns.set_style(\"white\")\n",
    "\n",
    "# Create a bar plot using seaborn (sns) library, specifying the x-axis as 'Count', y-axis as 'Company',\n",
    "#  and the data as 'top_companies'.\n",
    "sns.barplot(x='Count', y='Company', data=top_companies, color='#6BB1DD')\n",
    "\n",
    "# Add a title to the plot\n",
    "plt.title('Distribution of the Top 20 Companies', fontsize=18)\n",
    "\n",
    "# Add labels to the x-axis and y-axis\n",
    "plt.xlabel('Number of Occurrences', fontsize=14)\n",
    "plt.ylabel('Company ID', fontsize=14)\n",
    "\n",
    "# Set the font size of x-axis and y-axis tick labels\n",
    "plt.xticks(fontsize=12)\n",
    "plt.yticks(fontsize=12)\n",
    "\n",
    "# Remove the left and bottom spines of the plot\n",
    "sns.despine(left=True, bottom=True)\n",
    "\n",
    "# Adjust the layout to prevent overlapping of plot elements\n",
    "plt.tight_layout()\n",
    "\n",
    "\n",
    "# Display the plot\n",
    "plt.show()"
   ]
  },
  {
   "cell_type": "code",
   "execution_count": 28,
   "id": "cd4169ff",
   "metadata": {},
   "outputs": [
    {
     "data": {
      "text/plain": [
       "Company      IsCanceled\n",
       "       N.A.  0             43323\n",
       "             1             32318\n",
       "100          0                 1\n",
       "101          0                 1\n",
       "105          0                 8\n",
       "                           ...  \n",
       "91           0                44\n",
       "             1                 4\n",
       "93           0                 2\n",
       "             1                 1\n",
       "96           0                 1\n",
       "Name: IsCanceled, Length: 266, dtype: int64"
      ]
     },
     "execution_count": 28,
     "metadata": {},
     "output_type": "execute_result"
    }
   ],
   "source": [
    "# More than 70 000 observations are NaN\n",
    "df.groupby('Company')['IsCanceled'].value_counts()"
   ]
  },
  {
   "cell_type": "code",
   "execution_count": 29,
   "id": "07b061f8",
   "metadata": {},
   "outputs": [],
   "source": [
    "company_counts = df.groupby('Company')['IsCanceled'].value_counts()\n",
    "company_counts.to_csv('company_counts.txt', header=True)"
   ]
  },
  {
   "attachments": {},
   "cell_type": "markdown",
   "id": "665046fa",
   "metadata": {},
   "source": [
    "**Note** : 75 000 of the dataset did not come with a company. \n",
    "\n",
    "The varible Company is, like the variable Agent, very imbalanced regarding cancelations and no cancelations\n",
    "\n",
    "Summing up it is going to bias the model, and it does not have dimension to be usefull."
   ]
  },
  {
   "attachments": {},
   "cell_type": "markdown",
   "id": "8d211f20",
   "metadata": {},
   "source": [
    "### 3.4.5 Country <a class=\"anchor\" id=\"country\"></a>"
   ]
  },
  {
   "cell_type": "code",
   "execution_count": 30,
   "id": "8a0cb08c",
   "metadata": {},
   "outputs": [
    {
     "data": {
      "image/png": "[encoded data removed]",
      "text/plain": [
       "<Figure size 432x288 with 1 Axes>"
      ]
     },
     "metadata": {},
     "output_type": "display_data"
    }
   ],
   "source": [
    "# Group the DataFrame by 'Company' and count the number of occurrences\n",
    "country_counts = df.groupby('Country').size().reset_index(name='Count')\n",
    "\n",
    "# Get the top 20 countries by count and plot their distribution\n",
    "top_companies = country_counts.nlargest(20, 'Count')\n",
    "sns.set_style(\"white\")\n",
    "\n",
    "sns.barplot(x='Count', y='Country', data=top_companies, color='#6BB1DD')\n",
    "plt.title('Distribution of the Top 20 Countries', fontsize=18)\n",
    "plt.xlabel('Number of Occurrences', fontsize=14)\n",
    "plt.ylabel('Country', fontsize=14)\n",
    "plt.xticks(fontsize=12)\n",
    "plt.yticks(fontsize=12)\n",
    "sns.despine(left=True, bottom=True)\n",
    "plt.tight_layout()\n",
    "\n",
    "\n",
    "plt.show()"
   ]
  },
  {
   "cell_type": "code",
   "execution_count": 31,
   "id": "cc458edb",
   "metadata": {},
   "outputs": [
    {
     "data": {
      "text/plain": [
       "167"
      ]
     },
     "execution_count": 31,
     "metadata": {},
     "output_type": "execute_result"
    }
   ],
   "source": [
    "# Number of Countries in the dataset\n",
    "len(df['Country'].unique())"
   ]
  },
  {
   "cell_type": "code",
   "execution_count": 32,
   "id": "fcf12bd2",
   "metadata": {},
   "outputs": [],
   "source": [
    "#code taken from Kaggle: https://www.kaggle.com/code/niteshyadav3103/hotel-booking-prediction-99-5-acc/notebook\n",
    "\n",
    "df_not_canceled_countries = df[df['IsCanceled'] == 0]['Country'].value_counts().reset_index()\n",
    "df_not_canceled_countries.columns = ['Country', 'Number of Booking Not Canceled']\n",
    "\n",
    "df_canceled_countries = df[df['IsCanceled'] == 1]['Country'].value_counts().reset_index()\n",
    "df_canceled_countries.columns = ['Country', 'Number of Booking Canceled']\n"
   ]
  },
  {
   "cell_type": "code",
   "execution_count": 33,
   "id": "9a0b9d32",
   "metadata": {},
   "outputs": [
    {
     "data": {
      "text/html": [
       "<div>\n",
       "<style scoped>\n",
       "    .dataframe tbody tr th:only-of-type {\n",
       "        vertical-align: middle;\n",
       "    }\n",
       "\n",
       "    .dataframe tbody tr th {\n",
       "        vertical-align: top;\n",
       "    }\n",
       "\n",
       "    .dataframe thead th {\n",
       "        text-align: right;\n",
       "    }\n",
       "</style>\n",
       "<table border=\"1\" class=\"dataframe\">\n",
       "  <thead>\n",
       "    <tr style=\"text-align: right;\">\n",
       "      <th></th>\n",
       "      <th>Country</th>\n",
       "      <th>Number of Booking Not Canceled</th>\n",
       "    </tr>\n",
       "  </thead>\n",
       "  <tbody>\n",
       "    <tr>\n",
       "      <th>0</th>\n",
       "      <td>PRT</td>\n",
       "      <td>10879</td>\n",
       "    </tr>\n",
       "    <tr>\n",
       "      <th>1</th>\n",
       "      <td>FRA</td>\n",
       "      <td>7081</td>\n",
       "    </tr>\n",
       "    <tr>\n",
       "      <th>2</th>\n",
       "      <td>DEU</td>\n",
       "      <td>5012</td>\n",
       "    </tr>\n",
       "    <tr>\n",
       "      <th>3</th>\n",
       "      <td>GBR</td>\n",
       "      <td>3753</td>\n",
       "    </tr>\n",
       "    <tr>\n",
       "      <th>4</th>\n",
       "      <td>ESP</td>\n",
       "      <td>3285</td>\n",
       "    </tr>\n",
       "    <tr>\n",
       "      <th>...</th>\n",
       "      <td>...</td>\n",
       "      <td>...</td>\n",
       "    </tr>\n",
       "    <tr>\n",
       "      <th>145</th>\n",
       "      <td>GUY</td>\n",
       "      <td>1</td>\n",
       "    </tr>\n",
       "    <tr>\n",
       "      <th>146</th>\n",
       "      <td>UGA</td>\n",
       "      <td>1</td>\n",
       "    </tr>\n",
       "    <tr>\n",
       "      <th>147</th>\n",
       "      <td>PYF</td>\n",
       "      <td>1</td>\n",
       "    </tr>\n",
       "    <tr>\n",
       "      <th>148</th>\n",
       "      <td>SYC</td>\n",
       "      <td>1</td>\n",
       "    </tr>\n",
       "    <tr>\n",
       "      <th>149</th>\n",
       "      <td>FRO</td>\n",
       "      <td>1</td>\n",
       "    </tr>\n",
       "  </tbody>\n",
       "</table>\n",
       "<p>150 rows × 2 columns</p>\n",
       "</div>"
      ],
      "text/plain": [
       "    Country  Number of Booking Not Canceled\n",
       "0       PRT                           10879\n",
       "1       FRA                            7081\n",
       "2       DEU                            5012\n",
       "3       GBR                            3753\n",
       "4       ESP                            3285\n",
       "..      ...                             ...\n",
       "145     GUY                               1\n",
       "146     UGA                               1\n",
       "147     PYF                               1\n",
       "148     SYC                               1\n",
       "149     FRO                               1\n",
       "\n",
       "[150 rows x 2 columns]"
      ]
     },
     "execution_count": 33,
     "metadata": {},
     "output_type": "execute_result"
    }
   ],
   "source": [
    "df_not_canceled_countries"
   ]
  },
  {
   "cell_type": "code",
   "execution_count": 34,
   "id": "c86445df",
   "metadata": {},
   "outputs": [
    {
     "data": {
      "text/html": [
       "<div>\n",
       "<style scoped>\n",
       "    .dataframe tbody tr th:only-of-type {\n",
       "        vertical-align: middle;\n",
       "    }\n",
       "\n",
       "    .dataframe tbody tr th {\n",
       "        vertical-align: top;\n",
       "    }\n",
       "\n",
       "    .dataframe thead th {\n",
       "        text-align: right;\n",
       "    }\n",
       "</style>\n",
       "<table border=\"1\" class=\"dataframe\">\n",
       "  <thead>\n",
       "    <tr style=\"text-align: right;\">\n",
       "      <th></th>\n",
       "      <th>Country</th>\n",
       "      <th>Number of Booking Canceled</th>\n",
       "    </tr>\n",
       "  </thead>\n",
       "  <tbody>\n",
       "    <tr>\n",
       "      <th>0</th>\n",
       "      <td>PRT</td>\n",
       "      <td>20081</td>\n",
       "    </tr>\n",
       "    <tr>\n",
       "      <th>1</th>\n",
       "      <td>FRA</td>\n",
       "      <td>1723</td>\n",
       "    </tr>\n",
       "    <tr>\n",
       "      <th>2</th>\n",
       "      <td>GBR</td>\n",
       "      <td>1562</td>\n",
       "    </tr>\n",
       "    <tr>\n",
       "      <th>3</th>\n",
       "      <td>ESP</td>\n",
       "      <td>1326</td>\n",
       "    </tr>\n",
       "    <tr>\n",
       "      <th>4</th>\n",
       "      <td>ITA</td>\n",
       "      <td>1253</td>\n",
       "    </tr>\n",
       "    <tr>\n",
       "      <th>...</th>\n",
       "      <td>...</td>\n",
       "      <td>...</td>\n",
       "    </tr>\n",
       "    <tr>\n",
       "      <th>120</th>\n",
       "      <td>UMI</td>\n",
       "      <td>1</td>\n",
       "    </tr>\n",
       "    <tr>\n",
       "      <th>121</th>\n",
       "      <td>NIC</td>\n",
       "      <td>1</td>\n",
       "    </tr>\n",
       "    <tr>\n",
       "      <th>122</th>\n",
       "      <td>ZMB</td>\n",
       "      <td>1</td>\n",
       "    </tr>\n",
       "    <tr>\n",
       "      <th>123</th>\n",
       "      <td>CRI</td>\n",
       "      <td>1</td>\n",
       "    </tr>\n",
       "    <tr>\n",
       "      <th>124</th>\n",
       "      <td>LIE</td>\n",
       "      <td>1</td>\n",
       "    </tr>\n",
       "  </tbody>\n",
       "</table>\n",
       "<p>125 rows × 2 columns</p>\n",
       "</div>"
      ],
      "text/plain": [
       "    Country  Number of Booking Canceled\n",
       "0       PRT                       20081\n",
       "1       FRA                        1723\n",
       "2       GBR                        1562\n",
       "3       ESP                        1326\n",
       "4       ITA                        1253\n",
       "..      ...                         ...\n",
       "120     UMI                           1\n",
       "121     NIC                           1\n",
       "122     ZMB                           1\n",
       "123     CRI                           1\n",
       "124     LIE                           1\n",
       "\n",
       "[125 rows x 2 columns]"
      ]
     },
     "execution_count": 34,
     "metadata": {},
     "output_type": "execute_result"
    }
   ],
   "source": [
    "df_canceled_countries"
   ]
  },
  {
   "cell_type": "code",
   "execution_count": 35,
   "id": "ee213b92",
   "metadata": {},
   "outputs": [
    {
     "data": {
      "application/vnd.plotly.v1+json": {
       "config": {
        "plotlyServerURL": "https://plot.ly"
       },
       "data": [
        {
         "coloraxis": "coloraxis",
         "geo": "geo",
         "hovertemplate": "<b>%{hovertext}</b><br><br>Country=%{location}<br>Number of Booking Canceled=%{z}<extra></extra>",
         "hovertext": [
          "PRT",
          "FRA",
          "GBR",
          "ESP",
          "ITA",
          "DEU",
          "BRA",
          "CHN",
          "USA",
          "BEL",
          "IRL",
          "NLD",
          "CHE",
          "AGO",
          "AUT",
          "RUS",
          "POL",
          "CN",
          "NOR",
          "ISR",
          "SWE",
          "DNK",
          "ROU",
          "TUR",
          "AUS",
          "LUX",
          "MAR",
          "HUN",
          "FIN",
          "KOR",
          "ARG",
          "ARE",
          "CZE",
          "SAU",
          "GRC",
          "IND",
          "JPN",
          "ZAF",
          "HRV",
          "IRN",
          "HKG",
          "IDN",
          "SVK",
          "UKR",
          "NGA",
          "COL",
          "THA",
          "TUN",
          "SGP",
          "PHL",
          "DZA",
          "MOZ",
          "MAC",
          "SVN",
          "TWN",
          "EST",
          "CHL",
          "CPV",
          "BGR",
          "VEN",
          "QAT",
          "EGY",
          "MEX",
          "CYP",
          "BGD",
          "AZE",
          "DOM",
          "TJK",
          "GEO",
          "ECU",
          "SEN",
          "PAK",
          "NZL",
          "BLR",
          "LTU",
          "LBN",
          "URY",
          "PER",
          "JEY",
          "MLT",
          "KWT",
          "GIB",
          "LVA",
          "MDV",
          "FRO",
          "ISL",
          "OMN",
          "KAZ",
          "MYS",
          "BIH",
          "JOR",
          "TZA",
          "BEN",
          "BHR",
          "SRB",
          "GLP",
          "VNM",
          "GHA",
          "ARM",
          "KEN",
          "IMN",
          "MNE",
          "MYT",
          "CIV",
          "PRI",
          "MKD",
          "GAB",
          "UZB",
          "AND",
          "GGY",
          "ZWE",
          "KHM",
          "MCO",
          "MUS",
          "VGB",
          "TMP",
          "HND",
          "GNB",
          "ETH",
          "ALB",
          "UMI",
          "NIC",
          "ZMB",
          "CRI",
          "LIE"
         ],
         "locations": [
          "PRT",
          "FRA",
          "GBR",
          "ESP",
          "ITA",
          "DEU",
          "BRA",
          "CHN",
          "USA",
          "BEL",
          "IRL",
          "NLD",
          "CHE",
          "AGO",
          "AUT",
          "RUS",
          "POL",
          "CN",
          "NOR",
          "ISR",
          "SWE",
          "DNK",
          "ROU",
          "TUR",
          "AUS",
          "LUX",
          "MAR",
          "HUN",
          "FIN",
          "KOR",
          "ARG",
          "ARE",
          "CZE",
          "SAU",
          "GRC",
          "IND",
          "JPN",
          "ZAF",
          "HRV",
          "IRN",
          "HKG",
          "IDN",
          "SVK",
          "UKR",
          "NGA",
          "COL",
          "THA",
          "TUN",
          "SGP",
          "PHL",
          "DZA",
          "MOZ",
          "MAC",
          "SVN",
          "TWN",
          "EST",
          "CHL",
          "CPV",
          "BGR",
          "VEN",
          "QAT",
          "EGY",
          "MEX",
          "CYP",
          "BGD",
          "AZE",
          "DOM",
          "TJK",
          "GEO",
          "ECU",
          "SEN",
          "PAK",
          "NZL",
          "BLR",
          "LTU",
          "LBN",
          "URY",
          "PER",
          "JEY",
          "MLT",
          "KWT",
          "GIB",
          "LVA",
          "MDV",
          "FRO",
          "ISL",
          "OMN",
          "KAZ",
          "MYS",
          "BIH",
          "JOR",
          "TZA",
          "BEN",
          "BHR",
          "SRB",
          "GLP",
          "VNM",
          "GHA",
          "ARM",
          "KEN",
          "IMN",
          "MNE",
          "MYT",
          "CIV",
          "PRI",
          "MKD",
          "GAB",
          "UZB",
          "AND",
          "GGY",
          "ZWE",
          "KHM",
          "MCO",
          "MUS",
          "VGB",
          "TMP",
          "HND",
          "GNB",
          "ETH",
          "ALB",
          "UMI",
          "NIC",
          "ZMB",
          "CRI",
          "LIE"
         ],
         "name": "",
         "type": "choropleth",
         "z": [
          20081,
          1723,
          1562,
          1326,
          1253,
          1072,
          729,
          453,
          429,
          415,
          400,
          331,
          316,
          198,
          196,
          178,
          176,
          158,
          158,
          157,
          154,
          104,
          102,
          95,
          92,
          83,
          73,
          68,
          53,
          52,
          45,
          35,
          33,
          33,
          33,
          31,
          28,
          26,
          23,
          23,
          23,
          22,
          21,
          20,
          19,
          19,
          18,
          18,
          16,
          16,
          16,
          16,
          15,
          14,
          14,
          14,
          13,
          12,
          12,
          11,
          11,
          11,
          10,
          9,
          9,
          8,
          8,
          8,
          8,
          8,
          7,
          7,
          6,
          6,
          6,
          6,
          6,
          6,
          5,
          5,
          5,
          5,
          5,
          5,
          4,
          4,
          4,
          4,
          3,
          3,
          3,
          3,
          3,
          3,
          3,
          2,
          2,
          2,
          2,
          2,
          2,
          2,
          2,
          2,
          2,
          2,
          2,
          2,
          2,
          2,
          2,
          2,
          1,
          1,
          1,
          1,
          1,
          1,
          1,
          1,
          1,
          1,
          1,
          1,
          1
         ]
        }
       ],
       "layout": {
        "coloraxis": {
         "colorbar": {
          "title": {
           "text": "Number of Booking Canceled"
          }
         },
         "colorscale": [
          [
           0,
           "rgb(247,251,255)"
          ],
          [
           0.125,
           "rgb(222,235,247)"
          ],
          [
           0.25,
           "rgb(198,219,239)"
          ],
          [
           0.375,
           "rgb(158,202,225)"
          ],
          [
           0.5,
           "rgb(107,174,214)"
          ],
          [
           0.625,
           "rgb(66,146,198)"
          ],
          [
           0.75,
           "rgb(33,113,181)"
          ],
          [
           0.875,
           "rgb(8,81,156)"
          ],
          [
           1,
           "rgb(8,48,107)"
          ]
         ]
        },
        "geo": {
         "center": {},
         "domain": {
          "x": [
           0,
           1
          ],
          "y": [
           0,
           1
          ]
         }
        },
        "legend": {
         "tracegroupgap": 0
        },
        "margin": {
         "t": 60
        },
        "template": {
         "data": {
          "bar": [
           {
            "error_x": {
             "color": "#2a3f5f"
            },
            "error_y": {
             "color": "#2a3f5f"
            },
            "marker": {
             "line": {
              "color": "#E5ECF6",
              "width": 0.5
             },
             "pattern": {
              "fillmode": "overlay",
              "size": 10,
              "solidity": 0.2
             }
            },
            "type": "bar"
           }
          ],
          "barpolar": [
           {
            "marker": {
             "line": {
              "color": "#E5ECF6",
              "width": 0.5
             },
             "pattern": {
              "fillmode": "overlay",
              "size": 10,
              "solidity": 0.2
             }
            },
            "type": "barpolar"
           }
          ],
          "carpet": [
           {
            "aaxis": {
             "endlinecolor": "#2a3f5f",
             "gridcolor": "white",
             "linecolor": "white",
             "minorgridcolor": "white",
             "startlinecolor": "#2a3f5f"
            },
            "baxis": {
             "endlinecolor": "#2a3f5f",
             "gridcolor": "white",
             "linecolor": "white",
             "minorgridcolor": "white",
             "startlinecolor": "#2a3f5f"
            },
            "type": "carpet"
           }
          ],
          "choropleth": [
           {
            "colorbar": {
             "outlinewidth": 0,
             "ticks": ""
            },
            "type": "choropleth"
           }
          ],
          "contour": [
           {
            "colorbar": {
             "outlinewidth": 0,
             "ticks": ""
            },
            "colorscale": [
             [
              0,
              "#0d0887"
             ],
             [
              0.1111111111111111,
              "#46039f"
             ],
             [
              0.2222222222222222,
              "#7201a8"
             ],
             [
              0.3333333333333333,
              "#9c179e"
             ],
             [
              0.4444444444444444,
              "#bd3786"
             ],
             [
              0.5555555555555556,
              "#d8576b"
             ],
             [
              0.6666666666666666,
              "#ed7953"
             ],
             [
              0.7777777777777778,
              "#fb9f3a"
             ],
             [
              0.8888888888888888,
              "#fdca26"
             ],
             [
              1,
              "#f0f921"
             ]
            ],
            "type": "contour"
           }
          ],
          "contourcarpet": [
           {
            "colorbar": {
             "outlinewidth": 0,
             "ticks": ""
            },
            "type": "contourcarpet"
           }
          ],
          "heatmap": [
           {
            "colorbar": {
             "outlinewidth": 0,
             "ticks": ""
            },
            "colorscale": [
             [
              0,
              "#0d0887"
             ],
             [
              0.1111111111111111,
              "#46039f"
             ],
             [
              0.2222222222222222,
              "#7201a8"
             ],
             [
              0.3333333333333333,
              "#9c179e"
             ],
             [
              0.4444444444444444,
              "#bd3786"
             ],
             [
              0.5555555555555556,
              "#d8576b"
             ],
             [
              0.6666666666666666,
              "#ed7953"
             ],
             [
              0.7777777777777778,
              "#fb9f3a"
             ],
             [
              0.8888888888888888,
              "#fdca26"
             ],
             [
              1,
              "#f0f921"
             ]
            ],
            "type": "heatmap"
           }
          ],
          "heatmapgl": [
           {
            "colorbar": {
             "outlinewidth": 0,
             "ticks": ""
            },
            "colorscale": [
             [
              0,
              "#0d0887"
             ],
             [
              0.1111111111111111,
              "#46039f"
             ],
             [
              0.2222222222222222,
              "#7201a8"
             ],
             [
              0.3333333333333333,
              "#9c179e"
             ],
             [
              0.4444444444444444,
              "#bd3786"
             ],
             [
              0.5555555555555556,
              "#d8576b"
             ],
             [
              0.6666666666666666,
              "#ed7953"
             ],
             [
              0.7777777777777778,
              "#fb9f3a"
             ],
             [
              0.8888888888888888,
              "#fdca26"
             ],
             [
              1,
              "#f0f921"
             ]
            ],
            "type": "heatmapgl"
           }
          ],
          "histogram": [
           {
            "marker": {
             "pattern": {
              "fillmode": "overlay",
              "size": 10,
              "solidity": 0.2
             }
            },
            "type": "histogram"
           }
          ],
          "histogram2d": [
           {
            "colorbar": {
             "outlinewidth": 0,
             "ticks": ""
            },
            "colorscale": [
             [
              0,
              "#0d0887"
             ],
             [
              0.1111111111111111,
              "#46039f"
             ],
             [
              0.2222222222222222,
              "#7201a8"
             ],
             [
              0.3333333333333333,
              "#9c179e"
             ],
             [
              0.4444444444444444,
              "#bd3786"
             ],
             [
              0.5555555555555556,
              "#d8576b"
             ],
             [
              0.6666666666666666,
              "#ed7953"
             ],
             [
              0.7777777777777778,
              "#fb9f3a"
             ],
             [
              0.8888888888888888,
              "#fdca26"
             ],
             [
              1,
              "#f0f921"
             ]
            ],
            "type": "histogram2d"
           }
          ],
          "histogram2dcontour": [
           {
            "colorbar": {
             "outlinewidth": 0,
             "ticks": ""
            },
            "colorscale": [
             [
              0,
              "#0d0887"
             ],
             [
              0.1111111111111111,
              "#46039f"
             ],
             [
              0.2222222222222222,
              "#7201a8"
             ],
             [
              0.3333333333333333,
              "#9c179e"
             ],
             [
              0.4444444444444444,
              "#bd3786"
             ],
             [
              0.5555555555555556,
              "#d8576b"
             ],
             [
              0.6666666666666666,
              "#ed7953"
             ],
             [
              0.7777777777777778,
              "#fb9f3a"
             ],
             [
              0.8888888888888888,
              "#fdca26"
             ],
             [
              1,
              "#f0f921"
             ]
            ],
            "type": "histogram2dcontour"
           }
          ],
          "mesh3d": [
           {
            "colorbar": {
             "outlinewidth": 0,
             "ticks": ""
            },
            "type": "mesh3d"
           }
          ],
          "parcoords": [
           {
            "line": {
             "colorbar": {
              "outlinewidth": 0,
              "ticks": ""
             }
            },
            "type": "parcoords"
           }
          ],
          "pie": [
           {
            "automargin": true,
            "type": "pie"
           }
          ],
          "scatter": [
           {
            "fillpattern": {
             "fillmode": "overlay",
             "size": 10,
             "solidity": 0.2
            },
            "type": "scatter"
           }
          ],
          "scatter3d": [
           {
            "line": {
             "colorbar": {
              "outlinewidth": 0,
              "ticks": ""
             }
            },
            "marker": {
             "colorbar": {
              "outlinewidth": 0,
              "ticks": ""
             }
            },
            "type": "scatter3d"
           }
          ],
          "scattercarpet": [
           {
            "marker": {
             "colorbar": {
              "outlinewidth": 0,
              "ticks": ""
             }
            },
            "type": "scattercarpet"
           }
          ],
          "scattergeo": [
           {
            "marker": {
             "colorbar": {
              "outlinewidth": 0,
              "ticks": ""
             }
            },
            "type": "scattergeo"
           }
          ],
          "scattergl": [
           {
            "marker": {
             "colorbar": {
              "outlinewidth": 0,
              "ticks": ""
             }
            },
            "type": "scattergl"
           }
          ],
          "scattermapbox": [
           {
            "marker": {
             "colorbar": {
              "outlinewidth": 0,
              "ticks": ""
             }
            },
            "type": "scattermapbox"
           }
          ],
          "scatterpolar": [
           {
            "marker": {
             "colorbar": {
              "outlinewidth": 0,
              "ticks": ""
             }
            },
            "type": "scatterpolar"
           }
          ],
          "scatterpolargl": [
           {
            "marker": {
             "colorbar": {
              "outlinewidth": 0,
              "ticks": ""
             }
            },
            "type": "scatterpolargl"
           }
          ],
          "scatterternary": [
           {
            "marker": {
             "colorbar": {
              "outlinewidth": 0,
              "ticks": ""
             }
            },
            "type": "scatterternary"
           }
          ],
          "surface": [
           {
            "colorbar": {
             "outlinewidth": 0,
             "ticks": ""
            },
            "colorscale": [
             [
              0,
              "#0d0887"
             ],
             [
              0.1111111111111111,
              "#46039f"
             ],
             [
              0.2222222222222222,
              "#7201a8"
             ],
             [
              0.3333333333333333,
              "#9c179e"
             ],
             [
              0.4444444444444444,
              "#bd3786"
             ],
             [
              0.5555555555555556,
              "#d8576b"
             ],
             [
              0.6666666666666666,
              "#ed7953"
             ],
             [
              0.7777777777777778,
              "#fb9f3a"
             ],
             [
              0.8888888888888888,
              "#fdca26"
             ],
             [
              1,
              "#f0f921"
             ]
            ],
            "type": "surface"
           }
          ],
          "table": [
           {
            "cells": {
             "fill": {
              "color": "#EBF0F8"
             },
             "line": {
              "color": "white"
             }
            },
            "header": {
             "fill": {
              "color": "#C8D4E3"
             },
             "line": {
              "color": "white"
             }
            },
            "type": "table"
           }
          ]
         },
         "layout": {
          "annotationdefaults": {
           "arrowcolor": "#2a3f5f",
           "arrowhead": 0,
           "arrowwidth": 1
          },
          "autotypenumbers": "strict",
          "coloraxis": {
           "colorbar": {
            "outlinewidth": 0,
            "ticks": ""
           }
          },
          "colorscale": {
           "diverging": [
            [
             0,
             "#8e0152"
            ],
            [
             0.1,
             "#c51b7d"
            ],
            [
             0.2,
             "#de77ae"
            ],
            [
             0.3,
             "#f1b6da"
            ],
            [
             0.4,
             "#fde0ef"
            ],
            [
             0.5,
             "#f7f7f7"
            ],
            [
             0.6,
             "#e6f5d0"
            ],
            [
             0.7,
             "#b8e186"
            ],
            [
             0.8,
             "#7fbc41"
            ],
            [
             0.9,
             "#4d9221"
            ],
            [
             1,
             "#276419"
            ]
           ],
           "sequential": [
            [
             0,
             "#0d0887"
            ],
            [
             0.1111111111111111,
             "#46039f"
            ],
            [
             0.2222222222222222,
             "#7201a8"
            ],
            [
             0.3333333333333333,
             "#9c179e"
            ],
            [
             0.4444444444444444,
             "#bd3786"
            ],
            [
             0.5555555555555556,
             "#d8576b"
            ],
            [
             0.6666666666666666,
             "#ed7953"
            ],
            [
             0.7777777777777778,
             "#fb9f3a"
            ],
            [
             0.8888888888888888,
             "#fdca26"
            ],
            [
             1,
             "#f0f921"
            ]
           ],
           "sequentialminus": [
            [
             0,
             "#0d0887"
            ],
            [
             0.1111111111111111,
             "#46039f"
            ],
            [
             0.2222222222222222,
             "#7201a8"
            ],
            [
             0.3333333333333333,
             "#9c179e"
            ],
            [
             0.4444444444444444,
             "#bd3786"
            ],
            [
             0.5555555555555556,
             "#d8576b"
            ],
            [
             0.6666666666666666,
             "#ed7953"
            ],
            [
             0.7777777777777778,
             "#fb9f3a"
            ],
            [
             0.8888888888888888,
             "#fdca26"
            ],
            [
             1,
             "#f0f921"
            ]
           ]
          },
          "colorway": [
           "#636efa",
           "#EF553B",
           "#00cc96",
           "#ab63fa",
           "#FFA15A",
           "#19d3f3",
           "#FF6692",
           "#B6E880",
           "#FF97FF",
           "#FECB52"
          ],
          "font": {
           "color": "#2a3f5f"
          },
          "geo": {
           "bgcolor": "white",
           "lakecolor": "white",
           "landcolor": "#E5ECF6",
           "showlakes": true,
           "showland": true,
           "subunitcolor": "white"
          },
          "hoverlabel": {
           "align": "left"
          },
          "hovermode": "closest",
          "mapbox": {
           "style": "light"
          },
          "paper_bgcolor": "white",
          "plot_bgcolor": "#E5ECF6",
          "polar": {
           "angularaxis": {
            "gridcolor": "white",
            "linecolor": "white",
            "ticks": ""
           },
           "bgcolor": "#E5ECF6",
           "radialaxis": {
            "gridcolor": "white",
            "linecolor": "white",
            "ticks": ""
           }
          },
          "scene": {
           "xaxis": {
            "backgroundcolor": "#E5ECF6",
            "gridcolor": "white",
            "gridwidth": 2,
            "linecolor": "white",
            "showbackground": true,
            "ticks": "",
            "zerolinecolor": "white"
           },
           "yaxis": {
            "backgroundcolor": "#E5ECF6",
            "gridcolor": "white",
            "gridwidth": 2,
            "linecolor": "white",
            "showbackground": true,
            "ticks": "",
            "zerolinecolor": "white"
           },
           "zaxis": {
            "backgroundcolor": "#E5ECF6",
            "gridcolor": "white",
            "gridwidth": 2,
            "linecolor": "white",
            "showbackground": true,
            "ticks": "",
            "zerolinecolor": "white"
           }
          },
          "shapedefaults": {
           "line": {
            "color": "#2a3f5f"
           }
          },
          "ternary": {
           "aaxis": {
            "gridcolor": "white",
            "linecolor": "white",
            "ticks": ""
           },
           "baxis": {
            "gridcolor": "white",
            "linecolor": "white",
            "ticks": ""
           },
           "bgcolor": "#E5ECF6",
           "caxis": {
            "gridcolor": "white",
            "linecolor": "white",
            "ticks": ""
           }
          },
          "title": {
           "x": 0.05
          },
          "xaxis": {
           "automargin": true,
           "gridcolor": "white",
           "linecolor": "white",
           "ticks": "",
           "title": {
            "standoff": 15
           },
           "zerolinecolor": "white",
           "zerolinewidth": 2
          },
          "yaxis": {
           "automargin": true,
           "gridcolor": "white",
           "linecolor": "white",
           "ticks": "",
           "title": {
            "standoff": 15
           },
           "zerolinecolor": "white",
           "zerolinewidth": 2
          }
         }
        },
        "title": {
         "text": "Bookings Canceled by Country",
         "x": 0.5
        }
       }
      }
     },
     "metadata": {},
     "output_type": "display_data"
    }
   ],
   "source": [
    "#Create the base map using Folium\n",
    "basemap = folium.Map()\n",
    "\n",
    "#Create the choropleth map using Plotly Express\n",
    "cancelation_map = px.choropleth(df_canceled_countries, locations='Country',\n",
    "                           color='Number of Booking Canceled', hover_name='Country',\n",
    "                           color_continuous_scale='Blues',  # Set color scale to blue-ish tones\n",
    "                           labels={'Number of Booking Canceled': 'Number of Booking Canceled'})  # Specify label for color scale\n",
    "\n",
    "#Set the title of the choropleth map\n",
    "cancelation_map.update_layout(\n",
    "    title_text='Bookings Canceled by Country',\n",
    "    title_x=0.5  # Center the title\n",
    ")\n",
    "\n",
    "\n",
    "#Convert the Plotly figure to HTML and add it to the Folium map\n",
    "folium_static_html = cancelation_map.to_html(full_html=False)\n",
    "folium.IFrame(html=folium_static_html, width=100, height=50).add_to(basemap)\n",
    "\n",
    "#Display the map\n",
    "cancelation_map"
   ]
  },
  {
   "cell_type": "code",
   "execution_count": 36,
   "id": "18ed2a48",
   "metadata": {},
   "outputs": [
    {
     "data": {
      "application/vnd.plotly.v1+json": {
       "config": {
        "plotlyServerURL": "https://plot.ly"
       },
       "data": [
        {
         "coloraxis": "coloraxis",
         "geo": "geo",
         "hovertemplate": "<b>%{hovertext}</b><br><br>Country=%{location}<br>Number of Booking Not Canceled=%{z}<extra></extra>",
         "hovertext": [
          "PRT",
          "FRA",
          "DEU",
          "GBR",
          "ESP",
          "ITA",
          "BEL",
          "NLD",
          "USA",
          "BRA",
          "CHE",
          "AUT",
          "IRL",
          "SWE",
          "ISR",
          "CHN",
          "CN",
          "POL",
          "NOR",
          "DNK",
          "RUS",
          "AUS",
          "FIN",
          "ROU",
          "JPN",
          "AGO",
          "TUR",
          "LUX",
          "HUN",
          "ARG",
          "MAR",
          "CZE",
          "SRB",
          "GRC",
          "IND",
          "DZA",
          "KOR",
          "MEX",
          "HRV",
          "BGR",
          "IRN",
          "NZL",
          "ISL",
          "MOZ",
          "ZAF",
          "EST",
          "COL",
          "CHL",
          "THA",
          "CYP",
          "SVN",
          "SVK",
          "LTU",
          "TWN",
          "UKR",
          "PER",
          "TUN",
          "EGY",
          "LBN",
          "SGP",
          "URY",
          "ECU",
          "LVA",
          "CRI",
          "JOR",
          "MYS",
          "SAU",
          "IRQ",
          "BLR",
          "VEN",
          "MLT",
          "BOL",
          "KAZ",
          "BIH",
          "PAN",
          "GNB",
          "LBY",
          "PHL",
          "ALB",
          "KWT",
          "IDN",
          "CMR",
          "MKD",
          "CPV",
          "LKA",
          "AZE",
          "NGA",
          "ARE",
          "MUS",
          "GTM",
          "VNM",
          "BRB",
          "PRY",
          "CUB",
          "KEN",
          "ARM",
          "MNE",
          "OMN",
          "QAT",
          "PAK",
          "SEN",
          "DOM",
          "MCO",
          "BGD",
          "GEO",
          "STP",
          "SLV",
          "CIV",
          "GHA",
          "ATA",
          "TMP",
          "SYR",
          "HKG",
          "CAF",
          "LAO",
          "GAB",
          "KNA",
          "ETH",
          "LIE",
          "RWA",
          "TZA",
          "ABW",
          "SLE",
          "TJK",
          "ATF",
          "PRI",
          "MRT",
          "BFA",
          "COM",
          "SDN",
          "KIR",
          "UZB",
          "NCL",
          "MMR",
          "DMA",
          "MLI",
          "SUR",
          "TGO",
          "AIA",
          "ASM",
          "MDV",
          "BHR",
          "NAM",
          "JAM",
          "LCA",
          "GUY",
          "UGA",
          "PYF",
          "SYC",
          "FRO"
         ],
         "locations": [
          "PRT",
          "FRA",
          "DEU",
          "GBR",
          "ESP",
          "ITA",
          "BEL",
          "NLD",
          "USA",
          "BRA",
          "CHE",
          "AUT",
          "IRL",
          "SWE",
          "ISR",
          "CHN",
          "CN",
          "POL",
          "NOR",
          "DNK",
          "RUS",
          "AUS",
          "FIN",
          "ROU",
          "JPN",
          "AGO",
          "TUR",
          "LUX",
          "HUN",
          "ARG",
          "MAR",
          "CZE",
          "SRB",
          "GRC",
          "IND",
          "DZA",
          "KOR",
          "MEX",
          "HRV",
          "BGR",
          "IRN",
          "NZL",
          "ISL",
          "MOZ",
          "ZAF",
          "EST",
          "COL",
          "CHL",
          "THA",
          "CYP",
          "SVN",
          "SVK",
          "LTU",
          "TWN",
          "UKR",
          "PER",
          "TUN",
          "EGY",
          "LBN",
          "SGP",
          "URY",
          "ECU",
          "LVA",
          "CRI",
          "JOR",
          "MYS",
          "SAU",
          "IRQ",
          "BLR",
          "VEN",
          "MLT",
          "BOL",
          "KAZ",
          "BIH",
          "PAN",
          "GNB",
          "LBY",
          "PHL",
          "ALB",
          "KWT",
          "IDN",
          "CMR",
          "MKD",
          "CPV",
          "LKA",
          "AZE",
          "NGA",
          "ARE",
          "MUS",
          "GTM",
          "VNM",
          "BRB",
          "PRY",
          "CUB",
          "KEN",
          "ARM",
          "MNE",
          "OMN",
          "QAT",
          "PAK",
          "SEN",
          "DOM",
          "MCO",
          "BGD",
          "GEO",
          "STP",
          "SLV",
          "CIV",
          "GHA",
          "ATA",
          "TMP",
          "SYR",
          "HKG",
          "CAF",
          "LAO",
          "GAB",
          "KNA",
          "ETH",
          "LIE",
          "RWA",
          "TZA",
          "ABW",
          "SLE",
          "TJK",
          "ATF",
          "PRI",
          "MRT",
          "BFA",
          "COM",
          "SDN",
          "KIR",
          "UZB",
          "NCL",
          "MMR",
          "DMA",
          "MLI",
          "SUR",
          "TGO",
          "AIA",
          "ASM",
          "MDV",
          "BHR",
          "NAM",
          "JAM",
          "LCA",
          "GUY",
          "UGA",
          "PYF",
          "SYC",
          "FRO"
         ],
         "name": "",
         "type": "choropleth",
         "z": [
          10879,
          7081,
          5012,
          3753,
          3285,
          2054,
          1479,
          1259,
          1189,
          1065,
          979,
          857,
          809,
          566,
          484,
          412,
          411,
          410,
          326,
          266,
          265,
          247,
          243,
          221,
          160,
          140,
          130,
          124,
          115,
          112,
          111,
          111,
          91,
          85,
          84,
          75,
          72,
          69,
          66,
          58,
          55,
          54,
          47,
          45,
          36,
          36,
          36,
          35,
          35,
          34,
          32,
          32,
          29,
          25,
          25,
          22,
          20,
          20,
          19,
          19,
          18,
          17,
          17,
          16,
          16,
          15,
          14,
          14,
          13,
          12,
          11,
          10,
          10,
          9,
          9,
          8,
          8,
          8,
          8,
          8,
          8,
          8,
          7,
          7,
          6,
          6,
          5,
          5,
          5,
          4,
          4,
          4,
          4,
          4,
          4,
          4,
          3,
          3,
          3,
          3,
          3,
          3,
          3,
          3,
          3,
          2,
          2,
          2,
          2,
          2,
          2,
          2,
          2,
          2,
          2,
          2,
          2,
          2,
          2,
          2,
          2,
          2,
          1,
          1,
          1,
          1,
          1,
          1,
          1,
          1,
          1,
          1,
          1,
          1,
          1,
          1,
          1,
          1,
          1,
          1,
          1,
          1,
          1,
          1,
          1,
          1,
          1,
          1,
          1,
          1
         ]
        }
       ],
       "layout": {
        "coloraxis": {
         "colorbar": {
          "title": {
           "text": "Number of Booking Not Canceled"
          }
         },
         "colorscale": [
          [
           0,
           "rgb(247,251,255)"
          ],
          [
           0.125,
           "rgb(222,235,247)"
          ],
          [
           0.25,
           "rgb(198,219,239)"
          ],
          [
           0.375,
           "rgb(158,202,225)"
          ],
          [
           0.5,
           "rgb(107,174,214)"
          ],
          [
           0.625,
           "rgb(66,146,198)"
          ],
          [
           0.75,
           "rgb(33,113,181)"
          ],
          [
           0.875,
           "rgb(8,81,156)"
          ],
          [
           1,
           "rgb(8,48,107)"
          ]
         ]
        },
        "geo": {
         "center": {},
         "domain": {
          "x": [
           0,
           1
          ],
          "y": [
           0,
           1
          ]
         }
        },
        "legend": {
         "tracegroupgap": 0
        },
        "margin": {
         "t": 60
        },
        "template": {
         "data": {
          "bar": [
           {
            "error_x": {
             "color": "#2a3f5f"
            },
            "error_y": {
             "color": "#2a3f5f"
            },
            "marker": {
             "line": {
              "color": "#E5ECF6",
              "width": 0.5
             },
             "pattern": {
              "fillmode": "overlay",
              "size": 10,
              "solidity": 0.2
             }
            },
            "type": "bar"
           }
          ],
          "barpolar": [
           {
            "marker": {
             "line": {
              "color": "#E5ECF6",
              "width": 0.5
             },
             "pattern": {
              "fillmode": "overlay",
              "size": 10,
              "solidity": 0.2
             }
            },
            "type": "barpolar"
           }
          ],
          "carpet": [
           {
            "aaxis": {
             "endlinecolor": "#2a3f5f",
             "gridcolor": "white",
             "linecolor": "white",
             "minorgridcolor": "white",
             "startlinecolor": "#2a3f5f"
            },
            "baxis": {
             "endlinecolor": "#2a3f5f",
             "gridcolor": "white",
             "linecolor": "white",
             "minorgridcolor": "white",
             "startlinecolor": "#2a3f5f"
            },
            "type": "carpet"
           }
          ],
          "choropleth": [
           {
            "colorbar": {
             "outlinewidth": 0,
             "ticks": ""
            },
            "type": "choropleth"
           }
          ],
          "contour": [
           {
            "colorbar": {
             "outlinewidth": 0,
             "ticks": ""
            },
            "colorscale": [
             [
              0,
              "#0d0887"
             ],
             [
              0.1111111111111111,
              "#46039f"
             ],
             [
              0.2222222222222222,
              "#7201a8"
             ],
             [
              0.3333333333333333,
              "#9c179e"
             ],
             [
              0.4444444444444444,
              "#bd3786"
             ],
             [
              0.5555555555555556,
              "#d8576b"
             ],
             [
              0.6666666666666666,
              "#ed7953"
             ],
             [
              0.7777777777777778,
              "#fb9f3a"
             ],
             [
              0.8888888888888888,
              "#fdca26"
             ],
             [
              1,
              "#f0f921"
             ]
            ],
            "type": "contour"
           }
          ],
          "contourcarpet": [
           {
            "colorbar": {
             "outlinewidth": 0,
             "ticks": ""
            },
            "type": "contourcarpet"
           }
          ],
          "heatmap": [
           {
            "colorbar": {
             "outlinewidth": 0,
             "ticks": ""
            },
            "colorscale": [
             [
              0,
              "#0d0887"
             ],
             [
              0.1111111111111111,
              "#46039f"
             ],
             [
              0.2222222222222222,
              "#7201a8"
             ],
             [
              0.3333333333333333,
              "#9c179e"
             ],
             [
              0.4444444444444444,
              "#bd3786"
             ],
             [
              0.5555555555555556,
              "#d8576b"
             ],
             [
              0.6666666666666666,
              "#ed7953"
             ],
             [
              0.7777777777777778,
              "#fb9f3a"
             ],
             [
              0.8888888888888888,
              "#fdca26"
             ],
             [
              1,
              "#f0f921"
             ]
            ],
            "type": "heatmap"
           }
          ],
          "heatmapgl": [
           {
            "colorbar": {
             "outlinewidth": 0,
             "ticks": ""
            },
            "colorscale": [
             [
              0,
              "#0d0887"
             ],
             [
              0.1111111111111111,
              "#46039f"
             ],
             [
              0.2222222222222222,
              "#7201a8"
             ],
             [
              0.3333333333333333,
              "#9c179e"
             ],
             [
              0.4444444444444444,
              "#bd3786"
             ],
             [
              0.5555555555555556,
              "#d8576b"
             ],
             [
              0.6666666666666666,
              "#ed7953"
             ],
             [
              0.7777777777777778,
              "#fb9f3a"
             ],
             [
              0.8888888888888888,
              "#fdca26"
             ],
             [
              1,
              "#f0f921"
             ]
            ],
            "type": "heatmapgl"
           }
          ],
          "histogram": [
           {
            "marker": {
             "pattern": {
              "fillmode": "overlay",
              "size": 10,
              "solidity": 0.2
             }
            },
            "type": "histogram"
           }
          ],
          "histogram2d": [
           {
            "colorbar": {
             "outlinewidth": 0,
             "ticks": ""
            },
            "colorscale": [
             [
              0,
              "#0d0887"
             ],
             [
              0.1111111111111111,
              "#46039f"
             ],
             [
              0.2222222222222222,
              "#7201a8"
             ],
             [
              0.3333333333333333,
              "#9c179e"
             ],
             [
              0.4444444444444444,
              "#bd3786"
             ],
             [
              0.5555555555555556,
              "#d8576b"
             ],
             [
              0.6666666666666666,
              "#ed7953"
             ],
             [
              0.7777777777777778,
              "#fb9f3a"
             ],
             [
              0.8888888888888888,
              "#fdca26"
             ],
             [
              1,
              "#f0f921"
             ]
            ],
            "type": "histogram2d"
           }
          ],
          "histogram2dcontour": [
           {
            "colorbar": {
             "outlinewidth": 0,
             "ticks": ""
            },
            "colorscale": [
             [
              0,
              "#0d0887"
             ],
             [
              0.1111111111111111,
              "#46039f"
             ],
             [
              0.2222222222222222,
              "#7201a8"
             ],
             [
              0.3333333333333333,
              "#9c179e"
             ],
             [
              0.4444444444444444,
              "#bd3786"
             ],
             [
              0.5555555555555556,
              "#d8576b"
             ],
             [
              0.6666666666666666,
              "#ed7953"
             ],
             [
              0.7777777777777778,
              "#fb9f3a"
             ],
             [
              0.8888888888888888,
              "#fdca26"
             ],
             [
              1,
              "#f0f921"
             ]
            ],
            "type": "histogram2dcontour"
           }
          ],
          "mesh3d": [
           {
            "colorbar": {
             "outlinewidth": 0,
             "ticks": ""
            },
            "type": "mesh3d"
           }
          ],
          "parcoords": [
           {
            "line": {
             "colorbar": {
              "outlinewidth": 0,
              "ticks": ""
             }
            },
            "type": "parcoords"
           }
          ],
          "pie": [
           {
            "automargin": true,
            "type": "pie"
           }
          ],
          "scatter": [
           {
            "fillpattern": {
             "fillmode": "overlay",
             "size": 10,
             "solidity": 0.2
            },
            "type": "scatter"
           }
          ],
          "scatter3d": [
           {
            "line": {
             "colorbar": {
              "outlinewidth": 0,
              "ticks": ""
             }
            },
            "marker": {
             "colorbar": {
              "outlinewidth": 0,
              "ticks": ""
             }
            },
            "type": "scatter3d"
           }
          ],
          "scattercarpet": [
           {
            "marker": {
             "colorbar": {
              "outlinewidth": 0,
              "ticks": ""
             }
            },
            "type": "scattercarpet"
           }
          ],
          "scattergeo": [
           {
            "marker": {
             "colorbar": {
              "outlinewidth": 0,
              "ticks": ""
             }
            },
            "type": "scattergeo"
           }
          ],
          "scattergl": [
           {
            "marker": {
             "colorbar": {
              "outlinewidth": 0,
              "ticks": ""
             }
            },
            "type": "scattergl"
           }
          ],
          "scattermapbox": [
           {
            "marker": {
             "colorbar": {
              "outlinewidth": 0,
              "ticks": ""
             }
            },
            "type": "scattermapbox"
           }
          ],
          "scatterpolar": [
           {
            "marker": {
             "colorbar": {
              "outlinewidth": 0,
              "ticks": ""
             }
            },
            "type": "scatterpolar"
           }
          ],
          "scatterpolargl": [
           {
            "marker": {
             "colorbar": {
              "outlinewidth": 0,
              "ticks": ""
             }
            },
            "type": "scatterpolargl"
           }
          ],
          "scatterternary": [
           {
            "marker": {
             "colorbar": {
              "outlinewidth": 0,
              "ticks": ""
             }
            },
            "type": "scatterternary"
           }
          ],
          "surface": [
           {
            "colorbar": {
             "outlinewidth": 0,
             "ticks": ""
            },
            "colorscale": [
             [
              0,
              "#0d0887"
             ],
             [
              0.1111111111111111,
              "#46039f"
             ],
             [
              0.2222222222222222,
              "#7201a8"
             ],
             [
              0.3333333333333333,
              "#9c179e"
             ],
             [
              0.4444444444444444,
              "#bd3786"
             ],
             [
              0.5555555555555556,
              "#d8576b"
             ],
             [
              0.6666666666666666,
              "#ed7953"
             ],
             [
              0.7777777777777778,
              "#fb9f3a"
             ],
             [
              0.8888888888888888,
              "#fdca26"
             ],
             [
              1,
              "#f0f921"
             ]
            ],
            "type": "surface"
           }
          ],
          "table": [
           {
            "cells": {
             "fill": {
              "color": "#EBF0F8"
             },
             "line": {
              "color": "white"
             }
            },
            "header": {
             "fill": {
              "color": "#C8D4E3"
             },
             "line": {
              "color": "white"
             }
            },
            "type": "table"
           }
          ]
         },
         "layout": {
          "annotationdefaults": {
           "arrowcolor": "#2a3f5f",
           "arrowhead": 0,
           "arrowwidth": 1
          },
          "autotypenumbers": "strict",
          "coloraxis": {
           "colorbar": {
            "outlinewidth": 0,
            "ticks": ""
           }
          },
          "colorscale": {
           "diverging": [
            [
             0,
             "#8e0152"
            ],
            [
             0.1,
             "#c51b7d"
            ],
            [
             0.2,
             "#de77ae"
            ],
            [
             0.3,
             "#f1b6da"
            ],
            [
             0.4,
             "#fde0ef"
            ],
            [
             0.5,
             "#f7f7f7"
            ],
            [
             0.6,
             "#e6f5d0"
            ],
            [
             0.7,
             "#b8e186"
            ],
            [
             0.8,
             "#7fbc41"
            ],
            [
             0.9,
             "#4d9221"
            ],
            [
             1,
             "#276419"
            ]
           ],
           "sequential": [
            [
             0,
             "#0d0887"
            ],
            [
             0.1111111111111111,
             "#46039f"
            ],
            [
             0.2222222222222222,
             "#7201a8"
            ],
            [
             0.3333333333333333,
             "#9c179e"
            ],
            [
             0.4444444444444444,
             "#bd3786"
            ],
            [
             0.5555555555555556,
             "#d8576b"
            ],
            [
             0.6666666666666666,
             "#ed7953"
            ],
            [
             0.7777777777777778,
             "#fb9f3a"
            ],
            [
             0.8888888888888888,
             "#fdca26"
            ],
            [
             1,
             "#f0f921"
            ]
           ],
           "sequentialminus": [
            [
             0,
             "#0d0887"
            ],
            [
             0.1111111111111111,
             "#46039f"
            ],
            [
             0.2222222222222222,
             "#7201a8"
            ],
            [
             0.3333333333333333,
             "#9c179e"
            ],
            [
             0.4444444444444444,
             "#bd3786"
            ],
            [
             0.5555555555555556,
             "#d8576b"
            ],
            [
             0.6666666666666666,
             "#ed7953"
            ],
            [
             0.7777777777777778,
             "#fb9f3a"
            ],
            [
             0.8888888888888888,
             "#fdca26"
            ],
            [
             1,
             "#f0f921"
            ]
           ]
          },
          "colorway": [
           "#636efa",
           "#EF553B",
           "#00cc96",
           "#ab63fa",
           "#FFA15A",
           "#19d3f3",
           "#FF6692",
           "#B6E880",
           "#FF97FF",
           "#FECB52"
          ],
          "font": {
           "color": "#2a3f5f"
          },
          "geo": {
           "bgcolor": "white",
           "lakecolor": "white",
           "landcolor": "#E5ECF6",
           "showlakes": true,
           "showland": true,
           "subunitcolor": "white"
          },
          "hoverlabel": {
           "align": "left"
          },
          "hovermode": "closest",
          "mapbox": {
           "style": "light"
          },
          "paper_bgcolor": "white",
          "plot_bgcolor": "#E5ECF6",
          "polar": {
           "angularaxis": {
            "gridcolor": "white",
            "linecolor": "white",
            "ticks": ""
           },
           "bgcolor": "#E5ECF6",
           "radialaxis": {
            "gridcolor": "white",
            "linecolor": "white",
            "ticks": ""
           }
          },
          "scene": {
           "xaxis": {
            "backgroundcolor": "#E5ECF6",
            "gridcolor": "white",
            "gridwidth": 2,
            "linecolor": "white",
            "showbackground": true,
            "ticks": "",
            "zerolinecolor": "white"
           },
           "yaxis": {
            "backgroundcolor": "#E5ECF6",
            "gridcolor": "white",
            "gridwidth": 2,
            "linecolor": "white",
            "showbackground": true,
            "ticks": "",
            "zerolinecolor": "white"
           },
           "zaxis": {
            "backgroundcolor": "#E5ECF6",
            "gridcolor": "white",
            "gridwidth": 2,
            "linecolor": "white",
            "showbackground": true,
            "ticks": "",
            "zerolinecolor": "white"
           }
          },
          "shapedefaults": {
           "line": {
            "color": "#2a3f5f"
           }
          },
          "ternary": {
           "aaxis": {
            "gridcolor": "white",
            "linecolor": "white",
            "ticks": ""
           },
           "baxis": {
            "gridcolor": "white",
            "linecolor": "white",
            "ticks": ""
           },
           "bgcolor": "#E5ECF6",
           "caxis": {
            "gridcolor": "white",
            "linecolor": "white",
            "ticks": ""
           }
          },
          "title": {
           "x": 0.05
          },
          "xaxis": {
           "automargin": true,
           "gridcolor": "white",
           "linecolor": "white",
           "ticks": "",
           "title": {
            "standoff": 15
           },
           "zerolinecolor": "white",
           "zerolinewidth": 2
          },
          "yaxis": {
           "automargin": true,
           "gridcolor": "white",
           "linecolor": "white",
           "ticks": "",
           "title": {
            "standoff": 15
           },
           "zerolinecolor": "white",
           "zerolinewidth": 2
          }
         }
        },
        "title": {
         "text": "Booking Not Canceled by Country",
         "x": 0.5
        }
       }
      }
     },
     "metadata": {},
     "output_type": "display_data"
    }
   ],
   "source": [
    "#Create the base map using Folium\n",
    "basemap = folium.Map()\n",
    "\n",
    "#Create the choropleth map using Plotly Express\n",
    "stays_map = px.choropleth(df_not_canceled_countries, locations='Country',\n",
    "                           color='Number of Booking Not Canceled', hover_name='Country',\n",
    "                           color_continuous_scale='Blues',  # Set color scale to blue-ish tones\n",
    "                           labels={'Number of Booking Not Canceled': 'Number of Booking Not Canceled'})  # Specify label for color scale\n",
    "\n",
    "#Set the title of the choropleth map\n",
    "stays_map.update_layout(\n",
    "    title_text='Booking Not Canceled by Country',\n",
    "    title_x=0.5  # Center the title\n",
    ")\n",
    "\n",
    "\n",
    "#Convert the Plotly figure to HTML and add it to the Folium map\n",
    "folium_static_html = stays_map.to_html(full_html=False)\n",
    "folium.IFrame(html=folium_static_html, width=100, height=50).add_to(basemap)\n",
    "\n",
    "#Display the map\n",
    "stays_map"
   ]
  },
  {
   "cell_type": "code",
   "execution_count": 37,
   "id": "afd73667",
   "metadata": {},
   "outputs": [
    {
     "name": "stdout",
     "output_type": "stream",
     "text": [
      "83% of the database are customers from the 10 most present countries\n"
     ]
    }
   ],
   "source": [
    "# 83% of the observations belongs to the top 10 countries, meaning other countries are almost insignificant\n",
    "\n",
    "number_top_countries = df[(df['Country']=='PRT') | (df['Country']=='FRA')| (df['Country']=='DEU') \n",
    "                     | (df['Country']=='GBR') | (df['Country']=='ESP') \n",
    "                     | (df['Country']=='ITA') | (df['Country']=='BEL') \n",
    "                     | (df['Country']=='BRA')| (df['Country']=='USA')\n",
    "                     | (df['Country']=='NLD')].shape[0]\n",
    "\n",
    "print('{}% of the database are customers from the 10 most present countries'.format(int((number_top_countries/df.shape[0])*100)))"
   ]
  },
  {
   "attachments": {},
   "cell_type": "markdown",
   "id": "75b4bf2d",
   "metadata": {},
   "source": [
    "### 3.4.6. Days in Waiting List <a class=\"anchor\" id=\"waiting-list\"></a>"
   ]
  },
  {
   "cell_type": "code",
   "execution_count": 38,
   "id": "a798a507",
   "metadata": {},
   "outputs": [
    {
     "data": {
      "image/png": "[encoded data removed]",
      "text/plain": [
       "<Figure size 432x288 with 1 Axes>"
      ]
     },
     "metadata": {},
     "output_type": "display_data"
    }
   ],
   "source": [
    "# Check Distribution of Days in waiting List\n",
    "sns.histplot(data=df, x=df['DaysInWaitingList'])\n",
    "\n",
    "plt.show()"
   ]
  },
  {
   "cell_type": "code",
   "execution_count": 39,
   "id": "1e56dcbc",
   "metadata": {},
   "outputs": [
    {
     "data": {
      "text/plain": [
       "0      75887\n",
       "39       226\n",
       "58       164\n",
       "44       140\n",
       "31       127\n",
       "       ...  \n",
       "113        1\n",
       "193        1\n",
       "100        1\n",
       "89         1\n",
       "36         1\n",
       "Name: DaysInWaitingList, Length: 115, dtype: int64"
      ]
     },
     "execution_count": 39,
     "metadata": {},
     "output_type": "execute_result"
    }
   ],
   "source": [
    "# Majority of the clients are 0 days in waiting list\n",
    "df['DaysInWaitingList'].value_counts()"
   ]
  },
  {
   "cell_type": "code",
   "execution_count": 40,
   "id": "baf35563",
   "metadata": {},
   "outputs": [
    {
     "data": {
      "text/plain": [
       "<AxesSubplot:xlabel='IsCanceled', ylabel='DaysInWaitingList'>"
      ]
     },
     "execution_count": 40,
     "metadata": {},
     "output_type": "execute_result"
    },
    {
     "data": {
      "image/png": "[encoded data removed]",
      "text/plain": [
       "<Figure size 432x288 with 1 Axes>"
      ]
     },
     "metadata": {},
     "output_type": "display_data"
    }
   ],
   "source": [
    "# The days someone is in waiting list is not related with someone who Canceled\n",
    "sns.scatterplot(data=df, y='DaysInWaitingList', x='IsCanceled')"
   ]
  },
  {
   "attachments": {},
   "cell_type": "markdown",
   "id": "5e1bdf93",
   "metadata": {},
   "source": [
    "**Note** : \n",
    "This scatterplot shows that there were people that Canceled and didn't cancel independently of the time in the waiting list.\n",
    "\n",
    "Summing up, it is possibly a variable with low importance."
   ]
  },
  {
   "attachments": {},
   "cell_type": "markdown",
   "id": "e3b1cb0b",
   "metadata": {},
   "source": [
    "### 3.4.7. Market Segment <a class=\"anchor\" id=\"market-segment\"></a>"
   ]
  },
  {
   "cell_type": "code",
   "execution_count": 41,
   "id": "a59f13f5",
   "metadata": {},
   "outputs": [
    {
     "data": {
      "text/plain": [
       "MarketSegment  IsCanceled\n",
       "Aviation       0               185\n",
       "               1                52\n",
       "Complementary  0               478\n",
       "               1                64\n",
       "Corporate      0              2345\n",
       "               1               641\n",
       "Direct         0              5037\n",
       "               1              1056\n",
       "Groups         1              9623\n",
       "               0              4352\n",
       "Offline TA/TO  0              9574\n",
       "               1              7173\n",
       "Online TA      0             24257\n",
       "               1             14491\n",
       "Undefined      1                 2\n",
       "Name: IsCanceled, dtype: int64"
      ]
     },
     "execution_count": 41,
     "metadata": {},
     "output_type": "execute_result"
    }
   ],
   "source": [
    "#The categories are not balanced regarding cancellations, but there are cases of both situations\n",
    "\n",
    "df.groupby('MarketSegment')['IsCanceled'].value_counts()"
   ]
  },
  {
   "attachments": {},
   "cell_type": "markdown",
   "id": "a6d6026c",
   "metadata": {},
   "source": [
    "### 3.4.8. Distribution Channel <a class=\"anchor\" id=\"distribution-channel\"></a>"
   ]
  },
  {
   "cell_type": "code",
   "execution_count": 42,
   "id": "bbf51f1c",
   "metadata": {},
   "outputs": [
    {
     "data": {
      "text/plain": [
       "DistributionChannel  IsCanceled\n",
       "Corporate            0              2622\n",
       "                     1               786\n",
       "Direct               0              5548\n",
       "                     1              1232\n",
       "GDS                  0               156\n",
       "                     1                37\n",
       "TA/TO                0             37902\n",
       "                     1             31043\n",
       "Undefined            1                 4\n",
       "Name: IsCanceled, dtype: int64"
      ]
     },
     "execution_count": 42,
     "metadata": {},
     "output_type": "execute_result"
    }
   ],
   "source": [
    "#The categories are not balanced regarding cancellations, but there are cases of both situations \n",
    "\n",
    "df.groupby('DistributionChannel')['IsCanceled'].value_counts()"
   ]
  },
  {
   "attachments": {},
   "cell_type": "markdown",
   "id": "0879104e",
   "metadata": {},
   "source": [
    "### 3.4.9. Customer Type <a class=\"anchor\" id=\"customer-type\"></a>"
   ]
  },
  {
   "cell_type": "code",
   "execution_count": 43,
   "id": "a37700d6",
   "metadata": {},
   "outputs": [
    {
     "data": {
      "text/plain": [
       "CustomerType     IsCanceled\n",
       "Contract         0              1195\n",
       "                 1              1105\n",
       "Group            0               264\n",
       "                 1                29\n",
       "Transient        0             32306\n",
       "                 1             27098\n",
       "Transient-Party  0             12463\n",
       "                 1              4870\n",
       "Name: IsCanceled, dtype: int64"
      ]
     },
     "execution_count": 43,
     "metadata": {},
     "output_type": "execute_result"
    }
   ],
   "source": [
    "# Categories are not perfectly balanced but they are acceptable\n",
    "df.groupby('CustomerType')['IsCanceled'].value_counts()"
   ]
  }
 ],
 "metadata": {
  "kernelspec": {
   "display_name": "Python 3",
   "language": "python",
   "name": "python3"
  },
  "language_info": {
   "codemirror_mode": {
    "name": "ipython",
    "version": 3
   },
   "file_extension": ".py",
   "mimetype": "text/x-python",
   "name": "python",
   "nbconvert_exporter": "python",
   "pygments_lexer": "ipython3",
   "version": "3.9.5"
  }
 },
 "nbformat": 4,
 "nbformat_minor": 5
}
